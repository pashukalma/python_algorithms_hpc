{
  "nbformat": 4,
  "nbformat_minor": 0,
  "metadata": {
    "colab": {
      "provenance": []
    },
    "kernelspec": {
      "name": "python3",
      "display_name": "Python 3"
    },
    "language_info": {
      "name": "python"
    }
  },
  "cells": [
    {
      "cell_type": "markdown",
      "source": [
        "# Sampling"
      ],
      "metadata": {
        "id": "Z91C2n14DKrE"
      }
    },
    {
      "cell_type": "code",
      "source": [
        "\"\"\" Techniques used for sampling. What is the main advantage of sampling?\n",
        "\n",
        "Sampling is defined as the process of selecting a sample from a group of people \n",
        "or from any particular kind for research purposes. It is one of the most \n",
        "important factors which decides the accuracy of a research result.\n",
        "\n",
        "Mainly, there are two types of sampling techniques:\n",
        "Probability sampling: It involves random selection which makes every element \n",
        "get a chance to be selected. \n",
        "Probability sampling has various subtypes in it, as mentioned below:\n",
        "    Simple Random Sampling - Stratified sampling - Systematic sampling\n",
        "    Cluster Sampling - Multi-stage Sampling\n",
        "\n",
        "Non-probability sampling follows non-random selection which means the \n",
        "selection is done based on your ease or any other required criteria. \n",
        "This helps to collect the data easily. \n",
        "Following are various types of sampling:\n",
        "Convenience Sampling - Purposive Sampling - Quota Sampling - Snowball Sampling\n",
        "\"\"\" "
      ],
      "metadata": {
        "id": "AhXcNQdGDLMi"
      },
      "execution_count": null,
      "outputs": []
    },
    {
      "cell_type": "markdown",
      "source": [
        "# Random Sampling - (Python Random Choice Select)"
      ],
      "metadata": {
        "id": "eZI4PsuBDlIH"
      }
    },
    {
      "cell_type": "code",
      "source": [
        "import numpy \n",
        "from numpy import random \n",
        "from numpy.random import seed, randint\n",
        "\n",
        "def generate_dataset(num_of_samples, weights):\n",
        "  \"\"\" return a set of samples (phi(x), y) randomly which are classified\n",
        "  correctly by wieghts \"\"\" \n",
        "  random.seed(42)\n",
        "  \"\"\" \n",
        "  return a single element, a tuple (fn(x), y)\n",
        "  phi(x) should be a dict of keys \n",
        "  that are randomly selected as per random sample \n",
        "  weights should be a vector of weights \n",
        "  weights = [1, 2, 3, 4, 5, 6, 7, 8 ]\n",
        "  y should be 1 or 0 as classified by the weight vector\n",
        "  \"\"\" \n",
        "  def generate_one_sample():\n",
        "    phi = None\n",
        "    y = None\n",
        "\n",
        "    phi = {}\n",
        "    for item in random.sample(len(weights)): \n",
        "      phi[item] = random.randint(1, len(weights))\n",
        "    dotProd = 0 \n",
        "    for i in (0, len(weights) -1):\n",
        "      #vector_w = list(weights) ; vector_phi = list(phi)\n",
        "      dotProd += list(weights)[i] * list(phi)[i]\n",
        "    if dotProd <1: y =0 \n",
        "    else: y =1 \n",
        "\n",
        "    return (phi, y)\n",
        "  return [generate_one_sample() for i in range(num_of_samples)]\n",
        "\n",
        "weights = {1:0.1, 2:0.1, 3:0.001, 4:0.001, 5:0.03, 6:0.003, 7:0.01, 8:0.001 }\n",
        "generate_dataset(4, weights)\n"
      ],
      "metadata": {
        "colab": {
          "base_uri": "https://localhost:8080/"
        },
        "id": "sYTNCvjLDMXb",
        "outputId": "2ad97153-bd4a-4034-cf67-1272ce1fff6d"
      },
      "execution_count": null,
      "outputs": [
        {
          "output_type": "execute_result",
          "data": {
            "text/plain": [
              "[({0.3745401188473625: 4,\n",
              "   0.9507143064099162: 3,\n",
              "   0.7319939418114051: 6,\n",
              "   0.5986584841970366: 5,\n",
              "   0.15601864044243652: 2,\n",
              "   0.15599452033620265: 4,\n",
              "   0.05808361216819946: 6,\n",
              "   0.8661761457749352: 6},\n",
              "  1),\n",
              " ({0.0007787658410143283: 4,\n",
              "   0.9922115592912175: 4,\n",
              "   0.6174815096277165: 7,\n",
              "   0.6116531604882809: 6,\n",
              "   0.007066305219717406: 6,\n",
              "   0.023062425041415757: 7,\n",
              "   0.5247746602583891: 6,\n",
              "   0.3998609717152555: 3},\n",
              "  1),\n",
              " ({0.38246199126716274: 6,\n",
              "   0.9832308858067882: 2,\n",
              "   0.4667628932479799: 2,\n",
              "   0.8599404067363206: 1,\n",
              "   0.6803075385877797: 2,\n",
              "   0.450499251969543: 5,\n",
              "   0.013264961159866528: 2,\n",
              "   0.9422017556848528: 4},\n",
              "  1),\n",
              " ({0.24102546602601171: 6,\n",
              "   0.6832635188254582: 6,\n",
              "   0.6099966577826209: 6,\n",
              "   0.8331949117361643: 2,\n",
              "   0.17336465350777208: 4,\n",
              "   0.3910606075732408: 6,\n",
              "   0.18223608778806233: 5,\n",
              "   0.7553614103176525: 7},\n",
              "  1)]"
            ]
          },
          "metadata": {},
          "execution_count": 100
        }
      ]
    },
    {
      "cell_type": "code",
      "source": [
        "import numpy \n",
        "from numpy import random \n",
        "from numpy.random import seed, randint\n",
        "\n",
        "def generate_dataset(num_of_samples, weights):\n",
        "  \"\"\" return a set of samples (phi(x), y) randomly which are classified\n",
        "  correctly by wieghts \"\"\" \n",
        "  random.seed(42)\n",
        "  \"\"\" \n",
        "  return a single element, a tuple (fn(x), y)\n",
        "  phi(x) should be a dict of keys \n",
        "  that are a subset of keys in the weights [requirement]\n",
        "  weights should be a vector of weights \n",
        "  weights = [1, 2, 3, 4, 5, 6, 7, 8 ]\n",
        "  y should be 1 or 0 as classified by the weight vector\n",
        "  \"\"\" \n",
        "  def generate_one_sample():\n",
        "    phi = None\n",
        "    y = None\n",
        "\n",
        "    phi = {}\n",
        "    for item in range(len(weights)): \n",
        "      phi[item] = random.randint(1, len(weights))\n",
        "    dotProd = 0 \n",
        "    for i in (0, len(weights) -1):\n",
        "      vector_w = list(weights) ; vector_phi = list(phi)\n",
        "      dotProd += vector_w[i] * vector_phi[i]\n",
        "    if dotProd <1: y =0 \n",
        "    else: y =1 \n",
        "\n",
        "    return (phi, y)\n",
        "  return [generate_one_sample() for i in range(num_of_samples)]\n",
        "\n",
        "weights = {1:0.1, 2:0.1, 3:0.001, 4:0.001, 5:0.03, 6:0.003, 7:0.01, 8:0.001 }\n",
        "generate_dataset(4, weights)\n"
      ],
      "metadata": {
        "colab": {
          "base_uri": "https://localhost:8080/"
        },
        "id": "sgRzqDRNgIqT",
        "outputId": "5323b2b9-76fb-4f4b-bee1-3b796f4d4c34"
      },
      "execution_count": null,
      "outputs": [
        {
          "output_type": "execute_result",
          "data": {
            "text/plain": [
              "[({0: 7, 1: 4, 2: 5, 3: 7, 4: 3, 5: 5, 6: 5, 7: 7}, 1),\n",
              " ({0: 2, 1: 3, 2: 7, 3: 3, 4: 3, 5: 5, 6: 4, 7: 3}, 1),\n",
              " ({0: 6, 1: 5, 2: 2, 3: 4, 4: 6, 5: 6, 6: 2, 7: 4}, 1),\n",
              " ({0: 5, 1: 1, 2: 4, 3: 2, 4: 6, 5: 5, 6: 4, 7: 1}, 1)]"
            ]
          },
          "metadata": {},
          "execution_count": 8
        }
      ]
    },
    {
      "cell_type": "markdown",
      "source": [
        "# Utils \n",
        "- generateExample, readExample, evaluatePredictor, outputWeights, \n",
        "- error analysis, generateCluster, outputCluster"
      ],
      "metadata": {
        "id": "OTMZ3IA9JGWb"
      }
    },
    {
      "cell_type": "code",
      "source": [
        "from collections import Counter\n",
        "def generateClusteringExample(numExamples, numWordsPerTopic, numFilterWords):\n",
        "  \"\"\" generate artifical sentiments inspired by sentiment for clustering\n",
        "      each review is a hidden sentiment positive or negative for a topic\n",
        "      the actual sentiment for review consists of 2 sentiment words, 4 topics,\n",
        "      and 2 filter words \n",
        "      example: \n",
        "      good:1 great:1 music1:2 music10:1 music4:2 filter0:1 filter10:1 \n",
        "  \"\"\"\n",
        "  sentiments = [['bad', 'awful', 'worst', 'terrible'], ['good', 'great', 'fantastic', 'excellent']]\n",
        "  topics = ['attitude', 'acting', 'music']\n",
        "\n",
        "  def generateExample():\n",
        "    x = Counter()\n",
        "    # select two sentiment words \n",
        "    sentimentWords = [random.choice(sentiment) for sentiment in sentiments ]\n",
        "    x[random.choice(sentimentWords)] +=1\n",
        "    x[random.choice(sentimentWords)] +=1\n",
        "    # select 4 topic words for a fixed topic \n",
        "    topic = random.choice(topics)\n",
        "    x[topic +  str(random.randint(0, numWordsPerTopic-1))] +=1\n",
        "    x[topic +  str(random.randint(0, numWordsPerTopic-1))] +=1\n",
        "    x[topic +  str(random.randint(0, numWordsPerTopic-1))] +=1\n",
        "    x[topic +  str(random.randint(0, numWordsPerTopic-1))] +=1\n",
        "    #select 2 filter words\n",
        "    x['filter ' +  str(random.randint(0, numFilterWords-1))] +=1\n",
        "    return x \n",
        "\n",
        "  random.seed(42)\n",
        "  examples = [generateExample() for _ in range(numExamples) ]\n",
        "  return examples \n",
        "\n",
        "generateClusteringExample(2, 4, 2)"
      ],
      "metadata": {
        "colab": {
          "base_uri": "https://localhost:8080/"
        },
        "id": "hZtGveGviPrK",
        "outputId": "15ac95bf-1b4b-4e82-9ba8-fa27f4dad59a"
      },
      "execution_count": null,
      "outputs": [
        {
          "output_type": "execute_result",
          "data": {
            "text/plain": [
              "[Counter({'worst': 2, 'music0': 2, 'music2': 1, 'music1': 1, 'filter 0': 1}),\n",
              " Counter({'worst': 2,\n",
              "          'attitude2': 1,\n",
              "          'attitude1': 2,\n",
              "          'attitude0': 1,\n",
              "          'filter 0': 1})]"
            ]
          },
          "metadata": {},
          "execution_count": 147
        }
      ]
    },
    {
      "cell_type": "code",
      "source": [
        "def dotProduct(d1, d2):\n",
        "  \"\"\"\n",
        "    d1 represents a feature mapping from a feature string to a weight (float32)\n",
        "    d2 same as d1 \n",
        "    returns dot product of d1 with d2 \n",
        "  \"\"\"\n",
        "  if len(d1) < len(d2):\n",
        "    return dotProduct(d2, d1)\n",
        "  else:\n",
        "    return sum(d1.get(f,v)*v for f, v in list(d2.items()) )\n",
        "\n",
        "d1 = {1:3, 2:4, 3:5, 4:6}\n",
        "d2 = {1:3, 2:4, 3:1, 4:1, 5:0, 6:0}\n",
        "dotProduct(d1, d2)"
      ],
      "metadata": {
        "colab": {
          "base_uri": "https://localhost:8080/"
        },
        "id": "1z8W5LblTJ4n",
        "outputId": "2863bab2-1b01-4aef-a77e-3e9c080d346d"
      },
      "execution_count": null,
      "outputs": [
        {
          "output_type": "execute_result",
          "data": {
            "text/plain": [
              "36"
            ]
          },
          "metadata": {},
          "execution_count": 166
        }
      ]
    },
    {
      "cell_type": "code",
      "source": [
        "def increment(d1, scale, d2):\n",
        "  \"\"\"\n",
        "  d1 feature vector that is changed [mutated]\n",
        "  d2 feature vector\n",
        "  scale float data type \n",
        "  modify d1 \n",
        "  \"\"\"\n",
        "  for f,v in list(d2.items()):\n",
        "    d1[f] = d1.get(f,v) + v * scale \n",
        "d1 = {1:3, 2:4, 3:5, 4:6}\n",
        "d2 = {1:3, 2:4, 3:1, 4:1, 5:0, 6:0}\n",
        "increment(d1, 4.5, d2)\n",
        "d1"
      ],
      "metadata": {
        "colab": {
          "base_uri": "https://localhost:8080/",
          "height": 0
        },
        "id": "kHxC1KM9WfMj",
        "outputId": "aeb30f44-7abb-4610-facd-820119185452"
      },
      "execution_count": 1,
      "outputs": [
        {
          "output_type": "execute_result",
          "data": {
            "text/plain": [
              "{1: 16.5, 2: 22.0, 3: 9.5, 4: 10.5, 5: 0.0, 6: 0.0}"
            ]
          },
          "metadata": {},
          "execution_count": 1
        }
      ]
    },
    {
      "cell_type": "code",
      "source": [
        "def evaluatePredictor(examples, predictor):\n",
        "  \"\"\"\n",
        "  predictor if a predictor() function that takes x, and returns y \n",
        "  given a list of (x,y), returns the fraction of misclassified examples \n",
        "  \"\"\"\n",
        "  error =0 \n",
        "  for x, y in examples:\n",
        "    if predictor(x) !=y: error +=1 \n",
        "  return 1.0*error/len(examples)"
      ],
      "metadata": {
        "id": "nzTbjNptX0xG"
      },
      "execution_count": null,
      "outputs": []
    },
    {
      "cell_type": "code",
      "source": [
        "def outputWeights(weights, path):\n",
        "  \"\"\" \n",
        "  output to a file the list of weights given or calculated \n",
        "  \"\"\" \n",
        "  out = open(path, 'w', encoding='utf-8')\n",
        "  #for f,v in sorted(list(weights.items()), key=lambda f_v: =-f_v[1]):\n",
        "  for f,v in sorted(list(weights.items())):\n",
        "    print('\\t'.join([str(f), str(v)]), file=out)\n",
        "  out.close()\n",
        "\n",
        "weights = {2:0.001, 1:0.016, 3:0.004, 6:0.001, 5:0.000, 4:0.001}\n",
        "path = '/content/weights_2.csv'\n",
        "outputWeights(weights, path)\n",
        "!head weights_2.csv"
      ],
      "metadata": {
        "colab": {
          "base_uri": "https://localhost:8080/"
        },
        "id": "Khnxo0aJWfP-",
        "outputId": "e982fb4f-5be9-40b0-ea3e-90ff49b4c18c"
      },
      "execution_count": null,
      "outputs": [
        {
          "output_type": "stream",
          "name": "stdout",
          "text": [
            "1\t0.016\n",
            "2\t0.001\n",
            "3\t0.004\n",
            "4\t0.001\n",
            "5\t0.0\n",
            "6\t0.001\n"
          ]
        }
      ]
    }
  ]
}
