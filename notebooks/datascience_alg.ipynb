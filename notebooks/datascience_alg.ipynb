{
  "nbformat": 4,
  "nbformat_minor": 0,
  "metadata": {
    "colab": {
      "provenance": []
    },
    "kernelspec": {
      "name": "python3",
      "display_name": "Python 3"
    },
    "language_info": {
      "name": "python"
    }
  },
  "cells": [
    {
      "cell_type": "markdown",
      "source": [
        "# Algorithms for Data Science\n"
      ],
      "metadata": {
        "id": "X32ZZjjpruA0"
      }
    },
    {
      "cell_type": "markdown",
      "source": [
        "# Sampling"
      ],
      "metadata": {
        "id": "dInjOdl6sIES"
      }
    },
    {
      "cell_type": "code",
      "source": [
        "\"\"\" sample set \"\"\"\n",
        "from random import seed \n",
        "from random import random \n",
        "from numpy.random import randn\n",
        "from random import sample \n",
        "from matplotlib import pyplot\n",
        "\n",
        "seed(1)\n",
        "for _ in range(3):\n",
        "  print(random(), end=' ')\n",
        "print()\n",
        "\n",
        "sequence = [i for i in range(20)]\n",
        "subset = sample(sequence, 5)\n",
        "sequence, subset"
      ],
      "metadata": {
        "colab": {
          "base_uri": "https://localhost:8080/"
        },
        "id": "dK3JoNs12m_Z",
        "outputId": "3e4e504e-1fa1-496f-8b60-6f9f637f6028"
      },
      "execution_count": 39,
      "outputs": [
        {
          "output_type": "stream",
          "name": "stdout",
          "text": [
            "0.13436424411240122 0.8474337369372327 0.763774618976614 \n"
          ]
        },
        {
          "output_type": "execute_result",
          "data": {
            "text/plain": [
              "([0, 1, 2, 3, 4, 5, 6, 7, 8, 9, 10, 11, 12, 13, 14, 15, 16, 17, 18, 19],\n",
              " [8, 3, 15, 14, 17])"
            ]
          },
          "metadata": {},
          "execution_count": 39
        }
      ]
    },
    {
      "cell_type": "code",
      "source": [
        "\"\"\" histogram plot of a small(10) and larger(100) sample \"\"\" \n",
        "seed(1)\n",
        "data = 50 * randn(100) + 100\n",
        "data\n",
        "pyplot.hist(data)\n",
        "pyplot.show()"
      ],
      "metadata": {
        "id": "hCl_bBZFWhMM"
      },
      "execution_count": null,
      "outputs": []
    },
    {
      "cell_type": "code",
      "source": [
        "\"\"\" sample of test dataset \"\"\" \n",
        "seed(1)\n",
        "data = 50 * randn(10000) + 50\n",
        "data\n",
        "pyplot.hist(data, bins=100)\n",
        "pyplot.show()"
      ],
      "metadata": {
        "id": "ZIKDqd7IaxE_"
      },
      "execution_count": null,
      "outputs": []
    },
    {
      "cell_type": "code",
      "source": [
        "\"\"\" sample of test dataset \"\"\" \n",
        "from numpy import percentile \n",
        "seed(1)\n",
        "data = randn(1000)\n",
        "# calculate quartiles\n",
        "quartiles_ = percentile(data, [25, 50, 75])\n",
        "data_min = data.min()\n",
        "data_max = data.max()\n",
        "print('min: %3f' % data_min)\n",
        "print('Q1:  mean  Q3 %3f' % quartiles_[0], quartiles_[1], quartiles_[2])\n",
        "print('max: %3f' % data_max)"
      ],
      "metadata": {
        "colab": {
          "base_uri": "https://localhost:8080/"
        },
        "id": "8gOp4EXQmVNr",
        "outputId": "1b73883e-2e34-46da-9c01-fb070fd882d6"
      },
      "execution_count": null,
      "outputs": [
        {
          "output_type": "stream",
          "name": "stdout",
          "text": [
            "min: -3.621507\n",
            "Q1:  mean  Q3 -0.673084 -0.0378347298105291 0.6475518559830239\n",
            "max: 2.943017\n"
          ]
        }
      ]
    },
    {
      "cell_type": "code",
      "source": [
        "\"\"\" generate dataset - sample 1\"\"\" \n",
        "# seed the random generator \n",
        "seed(1)\n",
        "# generate two sets of univariate observations \n",
        "data1 = 50 + (randn(100) * 10)\n",
        "data2 = 51 + (randn(100) * 10)\n",
        "min(data1), max(data1), min(data2), max(data2)"
      ],
      "metadata": {
        "colab": {
          "base_uri": "https://localhost:8080/"
        },
        "id": "goAZzGeSoQSp",
        "outputId": "8c2e1ebe-d5c5-4f7d-b203-6cae0e8c0fe6"
      },
      "execution_count": null,
      "outputs": [
        {
          "output_type": "execute_result",
          "data": {
            "text/plain": [
              "(22.1336597546205, 68.18711123750828, 27.40101039764773, 74.30148876281663)"
            ]
          },
          "metadata": {},
          "execution_count": 172
        }
      ]
    },
    {
      "cell_type": "code",
      "source": [
        "\"\"\" generate dataset - sample 2 \"\"\" \n",
        "# seed the random generator \n",
        "seed(1)\n",
        "# generate two sets of univariate observations \n",
        "data1 = (randn(1000) * 20)\n",
        "data2 = data1 + (randn(1000) * 10)\n",
        "pyplot.scatter(data1, data2)\n",
        "min(data1), max(data1), min(data2), max(data2)"
      ],
      "metadata": {
        "colab": {
          "base_uri": "https://localhost:8080/",
          "height": 283
        },
        "id": "Qqm_7NtLpdLA",
        "outputId": "c117926c-8345-4c50-eb35-ab2670fc86cf"
      },
      "execution_count": null,
      "outputs": [
        {
          "output_type": "execute_result",
          "data": {
            "text/plain": [
              "(-56.52887343681201, 73.14919960272258, -66.51663613785402, 86.63809205444278)"
            ]
          },
          "metadata": {},
          "execution_count": 3
        },
        {
          "output_type": "display_data",
          "data": {
            "text/plain": [
              "<Figure size 432x288 with 1 Axes>"
            ],
            "image/png": "[encoded data removed]"
          },
          "metadata": {
            "needs_background": "light"
          }
        }
      ]
    },
    {
      "cell_type": "code",
      "source": [
        "from scipy.stats import rankdata\n",
        "from math import sqrt \n",
        "confidence_interval = 1.96 * sqrt((0.2 * (1 -0.2))/100) # try 50, 100\n",
        "ranked = rankdata(data)\n",
        "data2[:10], ranked[:10], confidence_interval"
      ],
      "metadata": {
        "colab": {
          "base_uri": "https://localhost:8080/"
        },
        "id": "UlgSGL4CqN-3",
        "outputId": "6905fd0a-9bab-4631-f9a3-9939edb694bc"
      },
      "execution_count": null,
      "outputs": [
        {
          "output_type": "execute_result",
          "data": {
            "text/plain": [
              "(array([ 20.17422656, -26.80825124,  20.01584031,  -1.27918547,\n",
              "        -43.53362979, -27.51783747,  -8.57550902,  18.19625629,\n",
              "         11.2399954 ,  22.35445051]),\n",
              " array([248., 390., 844., 119., 782., 927., 123., 891., 359., 206.]),\n",
              " 0.0784)"
            ]
          },
          "metadata": {},
          "execution_count": 191
        }
      ]
    },
    {
      "cell_type": "code",
      "source": [
        "#!pip install statsmodels\n",
        "import statsmodels\n",
        "from statsmodels.stats.proportion import proportion_confint\n",
        "lower, upper = proportion_confint(88, 100, 0.05)\n",
        "lower, upper"
      ],
      "metadata": {
        "colab": {
          "base_uri": "https://localhost:8080/"
        },
        "id": "wlIlUu1RrZo3",
        "outputId": "e662c54b-8ac7-4a30-b538-b1dc28adcd09"
      },
      "execution_count": null,
      "outputs": [
        {
          "output_type": "execute_result",
          "data": {
            "text/plain": [
              "(0.8163087092715731, 0.943691290728427)"
            ]
          },
          "metadata": {},
          "execution_count": 190
        }
      ]
    },
    {
      "cell_type": "code",
      "source": [
        "\"\"\" bootstrap confidence interval \"\"\"\n",
        "from numpy.random import rand, randint\n",
        "from numpy import mean, median, percentile\n",
        "\n",
        "dataset = 0.5 + rand(1000) * 0.5\n",
        "#dataset = data2\n",
        "list_ = list()\n",
        "for _ in range(5):\n",
        "  # bootstrap sample \n",
        "  indices = randint(800, 950, 20)\n",
        "  sample = dataset[indices]\n",
        "  statistics = mean(sample)\n",
        "  list_.append(statistics)\n",
        "  #percentile_m = median(list_)\n",
        "# calculate confidence interval \n",
        "alpha = 5.0 \n",
        "# lower percentile like 2.5\n",
        "lower_p = alpha / 2.0\n",
        "lower = max(0.0, percentile(list_, lower_p))\n",
        "# upper percentile like 97.5\n",
        "upper_p = (100 - alpha) + (alpha / 2)\n",
        "# retrieve observation at upper percentile \n",
        "upper = min(0.0, percentile(list_, upper_p))\n",
        "dataset[:10], indices, sample, list_, (upper_p, upper)"
      ],
      "metadata": {
        "colab": {
          "base_uri": "https://localhost:8080/"
        },
        "id": "LhGKm33VtU2g",
        "outputId": "039a3163-c948-4609-ad7a-062a7653c88b"
      },
      "execution_count": null,
      "outputs": [
        {
          "output_type": "execute_result",
          "data": {
            "text/plain": [
              "(array([0.70535379, 0.67250874, 0.78146503, 0.59160189, 0.63332662,\n",
              "        0.94460842, 0.73889027, 0.59664121, 0.76124831, 0.575163  ]),\n",
              " array([917, 853, 949, 803, 842, 816, 873, 932, 899, 935, 900, 935, 940,\n",
              "        874, 874, 875, 902, 838, 916, 874]),\n",
              " array([0.62434895, 0.67254341, 0.84937572, 0.70189192, 0.99734726,\n",
              "        0.6902178 , 0.59139686, 0.79436312, 0.64056341, 0.74386913,\n",
              "        0.69858046, 0.74386913, 0.93900873, 0.58611606, 0.58611606,\n",
              "        0.76650025, 0.86134528, 0.71809631, 0.70522642, 0.58611606]),\n",
              " [0.8018680351052891,\n",
              "  0.751747918035965,\n",
              "  0.7729710311896596,\n",
              "  0.7761136729415414,\n",
              "  0.7248446162847211],\n",
              " (97.5, 0.0))"
            ]
          },
          "metadata": {},
          "execution_count": 218
        }
      ]
    },
    {
      "cell_type": "code",
      "source": [
        "\"\"\" data resolution \"\"\" \n",
        "seed(1)\n",
        "data = randn(100)  # univariate sample \n",
        "data = data.round(0)\n",
        "pyplot.hist(data)\n",
        "pyplot.show()"
      ],
      "metadata": {
        "id": "m11vafaXXvQh"
      },
      "execution_count": null,
      "outputs": []
    },
    {
      "cell_type": "code",
      "source": [
        "\"\"\" data extreme events \"\"\" \n",
        "from numpy import zeros \n",
        "from numpy import append \n",
        "\n",
        "seed(1)\n",
        "data = 5*randn(100) + 10  # univariate sample \n",
        "data = append(data, zeros(10))\n",
        "pyplot.hist(data)\n",
        "pyplot.show()"
      ],
      "metadata": {
        "id": "NdqpDIrfYCun"
      },
      "execution_count": null,
      "outputs": []
    },
    {
      "cell_type": "code",
      "source": [
        "\"\"\" data with long tail \"\"\" \n",
        "seed(1)\n",
        "data = 5*randn(100) + 10  # univariate sample \n",
        "tail = 10 + (randn(50) * 100)\n",
        "data = append(data, tail)\n",
        "pyplot.hist(data)\n",
        "pyplot.show()"
      ],
      "metadata": {
        "id": "0_9eXyv5YfCq"
      },
      "execution_count": null,
      "outputs": []
    },
    {
      "cell_type": "code",
      "source": [
        "\"\"\" data with tail truncated \"\"\" \n",
        "seed(1)\n",
        "data = 5*randn(100) + 10  # univariate sample \n",
        "tail = 10 + (randn(10) * 100)\n",
        "data = append(data, tail)\n",
        "# trim values \n",
        "data = [x for x in data if x< 25]\n",
        "pyplot.hist(data)\n",
        "pyplot.show()"
      ],
      "metadata": {
        "id": "tHIvTQ2VY-2W"
      },
      "execution_count": null,
      "outputs": []
    },
    {
      "cell_type": "code",
      "source": [
        "\"\"\" exponential - data log normal distribution \"\"\" \n",
        "from numpy import exp\n",
        "seed(1)\n",
        "data = 5*randn(100) + 50  # univariate sample \n",
        "# transform to be exponential \n",
        "data = exp(data)\n",
        "pyplot.hist(data)\n",
        "pyplot.show()"
      ],
      "metadata": {
        "id": "_LtD2bVUZg62"
      },
      "execution_count": null,
      "outputs": []
    },
    {
      "cell_type": "code",
      "source": [
        "\"\"\" box-cox transform \"\"\" \n",
        "from scipy.stats import boxcox\n",
        "seed(1)\n",
        "data = 5*randn(100) + 50  # univariate sample \n",
        "# transform to be exponential \n",
        "data = exp(data)\n",
        "# power transform\n",
        "data = boxcox(data, 0)\n",
        "pyplot.hist(data)\n",
        "pyplot.show()"
      ],
      "metadata": {
        "id": "PX1HscoWZ9HK"
      },
      "execution_count": null,
      "outputs": []
    },
    {
      "cell_type": "code",
      "source": [
        "from scipy.stats import norm  \n",
        "from numpy import arange\n",
        "arr_x = arange(-3, 3, 0.001)\n",
        "arr_y = norm.pdf(arr_x, 0, 1)\n",
        "arr_x, arr_x.shape, arr_y"
      ],
      "metadata": {
        "colab": {
          "base_uri": "https://localhost:8080/"
        },
        "id": "QCQtn6ctVU4W",
        "outputId": "dfc70055-0973-432b-a354-73291553dcba"
      },
      "execution_count": null,
      "outputs": [
        {
          "output_type": "execute_result",
          "data": {
            "text/plain": [
              "(array([-3.   , -2.999, -2.998, ...,  2.997,  2.998,  2.999]),\n",
              " (6000,),\n",
              " array([0.00443185, 0.00444516, 0.00445851, ..., 0.00447189, 0.00445851,\n",
              "        0.00444516]))"
            ]
          },
          "metadata": {},
          "execution_count": 124
        }
      ]
    },
    {
      "cell_type": "code",
      "source": [
        "x = 2\n",
        "def poly(x):\n",
        "  return 3*x**2 -x +2 \n",
        "print('polynomial function', poly(x))\n",
        "\n",
        "def is_prime(n):\n",
        "  i = 2\n",
        "  for i in range(2,n):\n",
        "    if n%i ==0: return False \n",
        "    i +=1\n",
        "  return True\n",
        "def prime_upto(n):\n",
        "  i = 2\n",
        "  while i <n: \n",
        "    if is_prime(i): print(i, end=' ')\n",
        "    i +=1\n",
        "  return n\n",
        "print('prime ', is_prime(17))\n",
        "print('[prime numbers up to n]', prime_upto(17))"
      ],
      "metadata": {
        "colab": {
          "base_uri": "https://localhost:8080/"
        },
        "id": "XXYCHydy2nKY",
        "outputId": "34b26c2a-e7b3-4267-b401-082d09807768"
      },
      "execution_count": null,
      "outputs": [
        {
          "output_type": "stream",
          "name": "stdout",
          "text": [
            "polynomial function 12\n",
            "prime  True\n",
            "2 3 5 7 11 13 [prime numbers up to n] 17\n"
          ]
        }
      ]
    },
    {
      "cell_type": "code",
      "source": [
        "\"\"\" indexing \"\"\"\n",
        "binary_colors = ['r', 'b', 'g', 'y']\n",
        "slice_= binary_colors[0:2]                        # Slicing complexity O(n)\n",
        "print(slice_, slice_[:-1], binary_colors[:-1])    # Element retrieval O(n)\n",
        "\"\"\" filtering \"\"\" \n",
        "a = [1,2,[100,200,300],6]\n",
        "print(max(a[2]))\n",
        "print(list(filter(lambda x: x> 100, [-3, 4, 5, 100, 200, 300])))\n",
        "\"\"\" transformation - mapping \"\"\"\n",
        "list(map(lambda x: x**2, [-3, 4, 5, 100, 200, 300]))# Lamda O(n)\n",
        "\"\"\" aggregation - reduce \"\"\" \n",
        "from functools import reduce \n",
        "def doSum(x1, x2):\n",
        "  return x1 + x2\n",
        "print(reduce(doSum, [100, 123, 143, 33, 4, 5, 6]))\n",
        "\"\"\" range function \"\"\" \n",
        "x = range(6)\n",
        "y = range(6, 23)\n",
        "odd_number = range(3, 29, 2)\n",
        "list(x), list(y), list(odd_number) # List insert O(1), Delete, Slice, Retrieve"
      ],
      "metadata": {
        "colab": {
          "base_uri": "https://localhost:8080/"
        },
        "id": "x5Re-_Kn2nOH",
        "outputId": "30c8e0f6-62f3-42f7-efbc-9901f2750fbd"
      },
      "execution_count": null,
      "outputs": [
        {
          "output_type": "stream",
          "name": "stdout",
          "text": [
            "['r', 'b'] ['r'] ['r', 'b', 'g']\n",
            "300\n",
            "[200, 300]\n",
            "414\n"
          ]
        },
        {
          "output_type": "execute_result",
          "data": {
            "text/plain": [
              "([0, 1, 2, 3, 4, 5],\n",
              " [6, 7, 8, 9, 10, 11, 12, 13, 14, 15, 16, 17, 18, 19, 20, 21, 22],\n",
              " [3, 5, 7, 9, 11, 13, 15, 17, 19, 21, 23, 25, 27])"
            ]
          },
          "metadata": {},
          "execution_count": 3
        }
      ]
    },
    {
      "cell_type": "code",
      "source": [
        "\"\"\" tuples \"\"\" \n",
        "binary_colors = ['r', 'b', 'g', 'y']\n",
        "tuple(binary_colors[:-1]) # O(1) complexity and space \n",
        "\"\"\" dictionary \"\"\" \n",
        "binary_colors = {'refused_color': 'r', 'approved_color': 'b', \n",
        "                 'approved_color:': 'g', 'manual_color': 'y'}\n",
        "binary_colors['manual_color'] # O(1) complexity set/get, and copy O(n)\n",
        "\"\"\" sets \"\"\" \n",
        "binary_colors, set(binary_colors), list(binary_colors)"
      ],
      "metadata": {
        "colab": {
          "base_uri": "https://localhost:8080/"
        },
        "id": "6Sa9Wyal2nSL",
        "outputId": "a168bd6c-d818-4114-df35-7cb187bfd81b"
      },
      "execution_count": null,
      "outputs": [
        {
          "output_type": "execute_result",
          "data": {
            "text/plain": [
              "({'refused_color': 'r',\n",
              "  'approved_color': 'b',\n",
              "  'approved_color:': 'g',\n",
              "  'manual_color': 'y'},\n",
              " {'approved_color', 'approved_color:', 'manual_color', 'refused_color'},\n",
              " ['refused_color', 'approved_color', 'approved_color:', 'manual_color'])"
            ]
          },
          "metadata": {},
          "execution_count": 12
        }
      ]
    },
    {
      "cell_type": "code",
      "source": [
        "\"\"\" dataframes \"\"\" \n",
        "import pandas as pd \n",
        "df = pd.DataFrame([\n",
        "    ['1', 'str-1', 32, True], \n",
        "    ['2', 'str-2', 32, True],\n",
        "    ['3', 'str-3', 32, False]])\n",
        "df.columns = ['id', 'id-str', 'int', 'decision']\n",
        "df; df[['id', 'decision']]\n",
        "\"\"\" column/row selection \"\"\" \n",
        "df\n",
        "df.iloc[:, 3]\n",
        "df.iloc[1:3, :]\n",
        "df[df.decision==True]"
      ],
      "metadata": {
        "colab": {
          "base_uri": "https://localhost:8080/",
          "height": 112
        },
        "id": "tKPBXc1H2na0",
        "outputId": "7f12195b-f1f9-4ca4-caab-2fa6159e2d82"
      },
      "execution_count": null,
      "outputs": [
        {
          "output_type": "execute_result",
          "data": {
            "text/plain": [
              "  id id-str  int  decision\n",
              "0  1  str-1   32      True\n",
              "1  2  str-2   32      True"
            ],
            "text/html": [
              "\n",
              "  <div id=\"df-09944b11-8564-46be-9bba-5d56c89ccd3a\">\n",
              "    <div class=\"colab-df-container\">\n",
              "      <div>\n",
              "<style scoped>\n",
              "    .dataframe tbody tr th:only-of-type {\n",
              "        vertical-align: middle;\n",
              "    }\n",
              "\n",
              "    .dataframe tbody tr th {\n",
              "        vertical-align: top;\n",
              "    }\n",
              "\n",
              "    .dataframe thead th {\n",
              "        text-align: right;\n",
              "    }\n",
              "</style>\n",
              "<table border=\"1\" class=\"dataframe\">\n",
              "  <thead>\n",
              "    <tr style=\"text-align: right;\">\n",
              "      <th></th>\n",
              "      <th>id</th>\n",
              "      <th>id-str</th>\n",
              "      <th>int</th>\n",
              "      <th>decision</th>\n",
              "    </tr>\n",
              "  </thead>\n",
              "  <tbody>\n",
              "    <tr>\n",
              "      <th>0</th>\n",
              "      <td>1</td>\n",
              "      <td>str-1</td>\n",
              "      <td>32</td>\n",
              "      <td>True</td>\n",
              "    </tr>\n",
              "    <tr>\n",
              "      <th>1</th>\n",
              "      <td>2</td>\n",
              "      <td>str-2</td>\n",
              "      <td>32</td>\n",
              "      <td>True</td>\n",
              "    </tr>\n",
              "  </tbody>\n",
              "</table>\n",
              "</div>\n",
              "      <button class=\"colab-df-convert\" onclick=\"convertToInteractive('df-09944b11-8564-46be-9bba-5d56c89ccd3a')\"\n",
              "              title=\"Convert this dataframe to an interactive table.\"\n",
              "              style=\"display:none;\">\n",
              "        \n",
              "  <svg xmlns=\"http://www.w3.org/2000/svg\" height=\"24px\"viewBox=\"0 0 24 24\"\n",
              "       width=\"24px\">\n",
              "    <path d=\"M0 0h24v24H0V0z\" fill=\"none\"/>\n",
              "    <path d=\"M18.56 5.44l.94 2.06.94-2.06 2.06-.94-2.06-.94-.94-2.06-.94 2.06-2.06.94zm-11 1L8.5 8.5l.94-2.06 2.06-.94-2.06-.94L8.5 2.5l-.94 2.06-2.06.94zm10 10l.94 2.06.94-2.06 2.06-.94-2.06-.94-.94-2.06-.94 2.06-2.06.94z\"/><path d=\"M17.41 7.96l-1.37-1.37c-.4-.4-.92-.59-1.43-.59-.52 0-1.04.2-1.43.59L10.3 9.45l-7.72 7.72c-.78.78-.78 2.05 0 2.83L4 21.41c.39.39.9.59 1.41.59.51 0 1.02-.2 1.41-.59l7.78-7.78 2.81-2.81c.8-.78.8-2.07 0-2.86zM5.41 20L4 18.59l7.72-7.72 1.47 1.35L5.41 20z\"/>\n",
              "  </svg>\n",
              "      </button>\n",
              "      \n",
              "  <style>\n",
              "    .colab-df-container {\n",
              "      display:flex;\n",
              "      flex-wrap:wrap;\n",
              "      gap: 12px;\n",
              "    }\n",
              "\n",
              "    .colab-df-convert {\n",
              "      background-color: #E8F0FE;\n",
              "      border: none;\n",
              "      border-radius: 50%;\n",
              "      cursor: pointer;\n",
              "      display: none;\n",
              "      fill: #1967D2;\n",
              "      height: 32px;\n",
              "      padding: 0 0 0 0;\n",
              "      width: 32px;\n",
              "    }\n",
              "\n",
              "    .colab-df-convert:hover {\n",
              "      background-color: #E2EBFA;\n",
              "      box-shadow: 0px 1px 2px rgba(60, 64, 67, 0.3), 0px 1px 3px 1px rgba(60, 64, 67, 0.15);\n",
              "      fill: #174EA6;\n",
              "    }\n",
              "\n",
              "    [theme=dark] .colab-df-convert {\n",
              "      background-color: #3B4455;\n",
              "      fill: #D2E3FC;\n",
              "    }\n",
              "\n",
              "    [theme=dark] .colab-df-convert:hover {\n",
              "      background-color: #434B5C;\n",
              "      box-shadow: 0px 1px 3px 1px rgba(0, 0, 0, 0.15);\n",
              "      filter: drop-shadow(0px 1px 2px rgba(0, 0, 0, 0.3));\n",
              "      fill: #FFFFFF;\n",
              "    }\n",
              "  </style>\n",
              "\n",
              "      <script>\n",
              "        const buttonEl =\n",
              "          document.querySelector('#df-09944b11-8564-46be-9bba-5d56c89ccd3a button.colab-df-convert');\n",
              "        buttonEl.style.display =\n",
              "          google.colab.kernel.accessAllowed ? 'block' : 'none';\n",
              "\n",
              "        async function convertToInteractive(key) {\n",
              "          const element = document.querySelector('#df-09944b11-8564-46be-9bba-5d56c89ccd3a');\n",
              "          const dataTable =\n",
              "            await google.colab.kernel.invokeFunction('convertToInteractive',\n",
              "                                                     [key], {});\n",
              "          if (!dataTable) return;\n",
              "\n",
              "          const docLinkHtml = 'Like what you see? Visit the ' +\n",
              "            '<a target=\"_blank\" href=https://colab.research.google.com/notebooks/data_table.ipynb>data table notebook</a>'\n",
              "            + ' to learn more about interactive tables.';\n",
              "          element.innerHTML = '';\n",
              "          dataTable['output_type'] = 'display_data';\n",
              "          await google.colab.output.renderOutput(dataTable, element);\n",
              "          const docLink = document.createElement('div');\n",
              "          docLink.innerHTML = docLinkHtml;\n",
              "          element.appendChild(docLink);\n",
              "        }\n",
              "      </script>\n",
              "    </div>\n",
              "  </div>\n",
              "  "
            ]
          },
          "metadata": {},
          "execution_count": 46
        }
      ]
    },
    {
      "cell_type": "code",
      "source": [
        "import numpy as np\n",
        "\"\"\" matrix operations \"\"\"\n",
        "matrix_ = np.array([[10, 11, 12, 13], [21, 22, 23, 24], [31, 32, 33, 34]])\n",
        "matrix_, type(matrix_), matrix_.transpose()"
      ],
      "metadata": {
        "colab": {
          "base_uri": "https://localhost:8080/"
        },
        "id": "ZUOdV1Fp2-se",
        "outputId": "7c81e9bb-7fdf-45f9-82f3-eb50c80a0093"
      },
      "execution_count": null,
      "outputs": [
        {
          "output_type": "execute_result",
          "data": {
            "text/plain": [
              "(array([[10, 11, 12, 13],\n",
              "        [21, 22, 23, 24],\n",
              "        [31, 32, 33, 34]]), numpy.ndarray, array([[10, 21, 31],\n",
              "        [11, 22, 32],\n",
              "        [12, 23, 33],\n",
              "        [13, 24, 34]]))"
            ]
          },
          "metadata": {},
          "execution_count": 49
        }
      ]
    },
    {
      "cell_type": "markdown",
      "source": [
        "# Data Types"
      ],
      "metadata": {
        "id": "XzOAX6ALs81f"
      }
    },
    {
      "cell_type": "code",
      "source": [
        "\"\"\" Abstract Data Types - ADT \"\"\" \n",
        "vector_ = [22, 33, 44, 55]\n",
        "vector_, type(vector_)"
      ],
      "metadata": {
        "colab": {
          "base_uri": "https://localhost:8080/"
        },
        "id": "zoNJufBk2-2G",
        "outputId": "6d735688-2dae-4acc-8337-19f1d0d33b18"
      },
      "execution_count": null,
      "outputs": [
        {
          "output_type": "execute_result",
          "data": {
            "text/plain": [
              "([22, 33, 44, 55], list)"
            ]
          },
          "metadata": {},
          "execution_count": 50
        }
      ]
    },
    {
      "cell_type": "code",
      "source": [
        "\"\"\" stacks - each operation O(1) complexity\"\"\"\n",
        "class Stack:\n",
        "  def __init__(self): self.items = []\n",
        "  def isEmpty(self): return self.items == []\n",
        "  def push(self, item): self.items.append(item)\n",
        "  def pop(self):\n",
        "    if len(self.items) ==0: return None\n",
        "    return self.items.pop()\n",
        "  def peek(self): return self.items[len(self.items) -1]\n",
        "stack_ = Stack()\n",
        "stack_.push(22); stack_.push(33); stack_.push(44); stack_.push(55);\n",
        "stack_.pop(), stack_.pop(), stack_.pop(), stack_.pop(), stack_.pop()\n"
      ],
      "metadata": {
        "colab": {
          "base_uri": "https://localhost:8080/"
        },
        "id": "dXb7iUin2-5P",
        "outputId": "b7ee9248-f9ad-4ca8-b75b-6a0ed267b561"
      },
      "execution_count": null,
      "outputs": [
        {
          "output_type": "execute_result",
          "data": {
            "text/plain": [
              "(55, 44, 33, 22, None)"
            ]
          },
          "metadata": {},
          "execution_count": 58
        }
      ]
    },
    {
      "cell_type": "code",
      "source": [
        "\"\"\" Queue - each operation O(1) complexity - FIFO\"\"\"\n",
        "class Queue:\n",
        "  def __init__(self): self.items = []\n",
        "  def isEmpty(self): return self.items == []\n",
        "  def enqueue(self, item): self.items.insert(0, item)\n",
        "  def dequeue(self):\n",
        "    if len(self.items) ==0: return None\n",
        "    return self.items.pop()\n",
        "  def peek(self): return self.items[-1]\n",
        "queue_ = Queue()\n",
        "queue_.enqueue(22); queue_.enqueue(33); queue_.enqueue(44); queue_.enqueue(55);\n",
        "queue_.dequeue(), queue_.dequeue(), queue_.dequeue(), queue_.dequeue()\n"
      ],
      "metadata": {
        "colab": {
          "base_uri": "https://localhost:8080/"
        },
        "id": "I5q_L_ls94qw",
        "outputId": "5cf1009a-0bb8-45e1-b97d-2cbbc20e4c8d"
      },
      "execution_count": null,
      "outputs": [
        {
          "output_type": "execute_result",
          "data": {
            "text/plain": [
              "(22, 33, 44, 55)"
            ]
          },
          "metadata": {},
          "execution_count": 59
        }
      ]
    },
    {
      "cell_type": "code",
      "source": [
        "\"\"\" ADT - Tree \"\"\" \n",
        "\"\"\" Node, Root, Level of Node, Siblings, Child-Parent, Degree, Leaf Node, Subtree\"\"\""
      ],
      "metadata": {
        "id": "X8ILvBos945_"
      },
      "execution_count": null,
      "outputs": []
    },
    {
      "cell_type": "code",
      "source": [
        "\"\"\" swapping in Python \"\"\" \n",
        "var1 = 15 ; var2 = 17 \n",
        "var1, var2 = var2, var1\n",
        "var1, var2"
      ],
      "metadata": {
        "colab": {
          "base_uri": "https://localhost:8080/"
        },
        "id": "BZrZKha495AR",
        "outputId": "9d1b4b89-d08c-4364-fecb-c861dea47994"
      },
      "execution_count": null,
      "outputs": [
        {
          "output_type": "execute_result",
          "data": {
            "text/plain": [
              "(17, 15)"
            ]
          },
          "metadata": {},
          "execution_count": 61
        }
      ]
    },
    {
      "cell_type": "code",
      "source": [
        "list_u = [25, 26, 22, 24, 27, 23, 21]\n",
        "print(list_u)\n",
        "\"\"\" pass number of Bubble sort \"\"\"\n",
        "def bubble_sort_(list_):\n",
        "  last_el_index = len(list_) -1\n",
        "  for passNumber in range(last_el_index, 0, -1):\n",
        "    for idx in range(passNumber):\n",
        "      if list_[idx] > list_[idx+1]:\n",
        "        list_[idx], list_[idx+1] = list_[idx+1], list_[idx]\n",
        "      #print(idx+1, list_) \n",
        "  return list_\n",
        "bubble_sort_(list_u)"
      ],
      "metadata": {
        "colab": {
          "base_uri": "https://localhost:8080/"
        },
        "id": "3SP2hPZ_95FQ",
        "outputId": "5cf9e2be-d52e-4cb4-ca17-a6e1fb00e0b3"
      },
      "execution_count": null,
      "outputs": [
        {
          "output_type": "stream",
          "name": "stdout",
          "text": [
            "[25, 26, 22, 24, 27, 23, 21]\n"
          ]
        },
        {
          "output_type": "execute_result",
          "data": {
            "text/plain": [
              "[21, 22, 23, 24, 25, 26, 27]"
            ]
          },
          "metadata": {},
          "execution_count": 88
        }
      ]
    },
    {
      "cell_type": "code",
      "source": [
        "\"\"\" splitting the list \"\"\" \n",
        "list_u = [44, 16, 83, 7, 67, 21, 34, 45, 10]\n",
        "def merge_sort(list_):\n",
        "  if len(list_) > 1:\n",
        "    mid_ = len(list_) //2\n",
        "    list_left = list_[:mid_]\n",
        "    list_right = list_[mid_:]\n",
        "    #print(list_left)\n",
        "    merge_sort(list_left)\n",
        "    merge_sort(list_right)\n",
        "\n",
        "    i, j, k = 0, 0, 0 \n",
        "    while i < len(list_left) and j < len(list_right):\n",
        "      if list_left[i] < list_right[j]:\n",
        "        list_[k] = list_left[i]\n",
        "        i +=1 \n",
        "      else:\n",
        "        list_[k] = list_right[j]\n",
        "        j +=1\n",
        "      k +=1\n",
        "    while i < len(list_left):\n",
        "      list_[k] = list_left[i] \n",
        "      i +=1 \n",
        "      k +=1 \n",
        "    while j < len(list_right):\n",
        "      list_[k] = list_right[j] \n",
        "      j +=1 \n",
        "      k +=1 \n",
        "  return list_\n",
        "\n",
        "merge_sort(list_u)  "
      ],
      "metadata": {
        "colab": {
          "base_uri": "https://localhost:8080/"
        },
        "id": "f1h4DsoA2-83",
        "outputId": "e804ec8d-55ec-4a0c-e5fc-dc0ca5fdf515"
      },
      "execution_count": null,
      "outputs": [
        {
          "output_type": "execute_result",
          "data": {
            "text/plain": [
              "[7, 10, 16, 21, 34, 44, 45, 67, 83]"
            ]
          },
          "metadata": {},
          "execution_count": 115
        }
      ]
    },
    {
      "cell_type": "code",
      "source": [
        "\"\"\" Shell Sort \"\"\" \n",
        "list_u = [26, 17, 20, 11, 18, 14, 12, 15, 44, 16, 83, 7, 67, 21, 34, 45, 10]\n",
        "def shell_sort(list_):\n",
        "  distance = len(list_) //2\n",
        "  while distance > 0:\n",
        "    for i in range(distance, len(list_)):\n",
        "      tmp = list_[i]\n",
        "      j = i \n",
        "      # sort the sublist for this distance \n",
        "      while j >= distance and list_[j - distance] > tmp:\n",
        "        # print('\\t\\t swap', list_[j], ' and ', list_[j - distance], '--', tmp)\n",
        "        list_[j] = list_[j - distance]\n",
        "        j = j - distance \n",
        "        list_[j] = tmp \n",
        "      # print(list_, i, j )  \n",
        "    distance //=  2 \n",
        "  return list_\n",
        "shell_sort(list_u)  "
      ],
      "metadata": {
        "colab": {
          "base_uri": "https://localhost:8080/"
        },
        "id": "wSNovZ-N2_Af",
        "outputId": "6dfad45d-0cef-4ab5-9fcb-78915b662165"
      },
      "execution_count": null,
      "outputs": [
        {
          "output_type": "execute_result",
          "data": {
            "text/plain": [
              "[7, 10, 11, 12, 14, 15, 16, 17, 18, 20, 21, 26, 34, 44, 45, 67, 83]"
            ]
          },
          "metadata": {},
          "execution_count": 13
        }
      ]
    },
    {
      "cell_type": "code",
      "source": [
        "def selection_sort(list_): \n",
        "  for fill_slot in range(len(list_) -1, 0, -1):\n",
        "    max_index = 0 \n",
        "    for location in range(1, fill_slot +1):\n",
        "      if list_[location] > list_[max_index]:\n",
        "        max_index = location\n",
        "    list_[fill_slot], list_[max_index] = list_[max_index], list_[fill_slot]\n",
        "  return list_\n",
        "\n",
        "list_u = [26, 17, 20, 11, 18, 14, 12, 15, 44, 16, 83, 7, 67, 21, 34, 45, 10]\n",
        "selection_sort(list_u) "
      ],
      "metadata": {
        "colab": {
          "base_uri": "https://localhost:8080/"
        },
        "id": "bAQNC0BG2_LJ",
        "outputId": "f33d5f15-89f1-4f39-9f92-c40947930874"
      },
      "execution_count": null,
      "outputs": [
        {
          "output_type": "execute_result",
          "data": {
            "text/plain": [
              "[7, 10, 11, 12, 14, 15, 16, 17, 18, 20, 21, 26, 34, 44, 45, 67, 83]"
            ]
          },
          "metadata": {},
          "execution_count": 51
        }
      ]
    },
    {
      "cell_type": "code",
      "source": [
        "def linear_s(list_, item):\n",
        "  idx = 0 ; found = False \n",
        "  while idx < len(list_) and not found:\n",
        "    if list_[idx] == item: \n",
        "      found =True \n",
        "    idx +=1 \n",
        "  return found\n",
        "list_u = [26, 17, 20, 11, 18, 14, 12, 15, 44, 16, 83, 7, 67, 21, 34, 45, 10]\n",
        "linear_s(list_u, 83)"
      ],
      "metadata": {
        "colab": {
          "base_uri": "https://localhost:8080/"
        },
        "id": "JD6CcfV2-3-N",
        "outputId": "94859211-adb2-44a2-f543-e67030a3fddd"
      },
      "execution_count": null,
      "outputs": [
        {
          "output_type": "execute_result",
          "data": {
            "text/plain": [
              "True"
            ]
          },
          "metadata": {},
          "execution_count": 40
        }
      ]
    },
    {
      "cell_type": "code",
      "source": [
        "def binary_s(list_, item):\n",
        "  first, last  = 0, len(list_) -1 ; found = False\n",
        "  while first <= last and not found:\n",
        "    midpoint = first + (last - first)//2\n",
        "    if list_[midpoint] == item: \n",
        "      found = True\n",
        "      return found\n",
        "    elif item < list_[midpoint]: \n",
        "        last = midpoint -1 \n",
        "    else:\n",
        "        first = midpoint +1\n",
        "  return found \n",
        "list_u = [26, 17, 20, 11, 18, 14, 12, 15, 44, 16, 83, 7, 67, 21, 34, 45, 10]\n",
        "selection_sort(list_u)\n",
        "binary_s(list_u, 83), binary_s(list_u, 21),  "
      ],
      "metadata": {
        "id": "SkTy6XwWdsE0"
      },
      "execution_count": null,
      "outputs": []
    },
    {
      "cell_type": "code",
      "source": [
        "\"\"\" interpolation search - more sophisticated using target value \n",
        "    to estimate the position of the element in the sorted array \"\"\" \n",
        "# to search for the word robust, start searching for words that start with r\n",
        "def interpolation_search(list_, x):\n",
        "  idx0 = 0 ; idxn = len(list_) -1 ; found = False \n",
        "  while idx0 <= idxn and x >= list_[idx0] and x <= list_[idxn]:\n",
        "    # find the mid point \n",
        "    mid = idx0 + \\\n",
        "    int(((float(idxn-idx0)/(list_[idxn]-list_[idx0])) * (x-list_[idx0])))\n",
        "    # print(mid)\n",
        "    # compare the value at mid point with the search value \n",
        "    if list_[mid] == x:\n",
        "      found = True ; return found \n",
        "    if list_[mid] < x:\n",
        "      idx0 = mid +1 \n",
        "  return found\n",
        "list_u = [26, 17, 20, 11, 18, 14, 12, 15, 44, 16, 83, 7, 67, 21, 34, 45, 10]\n",
        "selection_sort(list_u)\n",
        "interpolation_search(list_u, 18)"
      ],
      "metadata": {
        "colab": {
          "base_uri": "https://localhost:8080/"
        },
        "id": "X4XJHWII-4IQ",
        "outputId": "d044fc38-f94f-4183-f25c-f7655511f9fd"
      },
      "execution_count": null,
      "outputs": [
        {
          "output_type": "execute_result",
          "data": {
            "text/plain": [
              "True"
            ]
          },
          "metadata": {},
          "execution_count": 62
        }
      ]
    },
    {
      "cell_type": "code",
      "source": [
        "# calculate the frequency of each word in the list \n",
        "wordslist = ['python', 'java', 'ottawa', 'news', 'java', 'ottawa']\n",
        "d_ = {}\n",
        "for index, word in enumerate(wordslist): \n",
        "  if word not in d_: d_[index] = word\n",
        "d_"
      ],
      "metadata": {
        "colab": {
          "base_uri": "https://localhost:8080/"
        },
        "id": "GgzXB0cosh3r",
        "outputId": "8f9519ed-c27b-4971-a2e0-f16c82dc853f"
      },
      "execution_count": null,
      "outputs": [
        {
          "output_type": "execute_result",
          "data": {
            "text/plain": [
              "{0: 'python', 1: 'java', 2: 'ottawa', 3: 'news', 4: 'java', 5: 'ottawa'}"
            ]
          },
          "metadata": {},
          "execution_count": 95
        }
      ]
    },
    {
      "cell_type": "code",
      "source": [
        "!pip install findspark\n",
        "!pip install pyspark \n",
        "!env | grep spark\n",
        "!env | grep pyspark"
      ],
      "metadata": {
        "colab": {
          "base_uri": "https://localhost:8080/"
        },
        "id": "gUi-Et0OgDaj",
        "outputId": "b91312a3-afcf-4069-da8b-064ffdf9edc8"
      },
      "execution_count": null,
      "outputs": [
        {
          "output_type": "stream",
          "name": "stdout",
          "text": [
            "Looking in indexes: https://pypi.org/simple, https://us-python.pkg.dev/colab-wheels/public/simple/\n",
            "Collecting findspark\n",
            "  Downloading findspark-2.0.1-py2.py3-none-any.whl (4.4 kB)\n",
            "Installing collected packages: findspark\n",
            "Successfully installed findspark-2.0.1\n",
            "Looking in indexes: https://pypi.org/simple, https://us-python.pkg.dev/colab-wheels/public/simple/\n",
            "Collecting pyspark\n",
            "  Downloading pyspark-3.3.1.tar.gz (281.4 MB)\n",
            "\u001b[K     |████████████████████████████████| 281.4 MB 43 kB/s \n",
            "\u001b[?25hCollecting py4j==0.10.9.5\n",
            "  Downloading py4j-0.10.9.5-py2.py3-none-any.whl (199 kB)\n",
            "\u001b[K     |████████████████████████████████| 199 kB 53.9 MB/s \n",
            "\u001b[?25hBuilding wheels for collected packages: pyspark\n",
            "  Building wheel for pyspark (setup.py) ... \u001b[?25l\u001b[?25hdone\n",
            "  Created wheel for pyspark: filename=pyspark-3.3.1-py2.py3-none-any.whl size=281845512 sha256=a7bdb80699483f0ee3aaf792fc0df8a7e77894760dcb4f9cb63e5da9c63865ab\n",
            "  Stored in directory: /root/.cache/pip/wheels/43/dc/11/ec201cd671da62fa9c5cc77078235e40722170ceba231d7598\n",
            "Successfully built pyspark\n",
            "Installing collected packages: py4j, pyspark\n",
            "Successfully installed py4j-0.10.9.5 pyspark-3.3.1\n"
          ]
        }
      ]
    },
    {
      "cell_type": "markdown",
      "source": [
        "# Distributed Computing Framework\n",
        "\n",
        "![image.png](data:image/png;base64,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)"
      ],
      "metadata": {
        "id": "aWQ4kwIj0A8f"
      }
    },
    {
      "cell_type": "code",
      "source": [
        "\"\"\" divide and conquer Apache Spark \n",
        "Applications for this strategy to achieve scalability in Cloud Computing:\n",
        "  - Microsoft Azure, AWS, GCP \n",
        "  - Components using this strategy for word count \n",
        "\"\"\"\n",
        "\n",
        "\"\"\" 1. use Apache Spark to create a runtime context of Apache Spark \"\"\"\n",
        "import findspark\n",
        "findspark.init()\n",
        "from pyspark.sql import SparkSession \n",
        "spark = SparkSession.builder.master('local[*]').getOrCreate()\n",
        "sc = spark.sparkContext\n",
        "\"\"\" 2. use the sample list with words \"\"\" \n",
        "wordslist = ['python', 'java', 'ottawa', 'news', 'java', 'ottawa']\n",
        "\"\"\" RDD: Resilient Distributed Dataset \"\"\" \n",
        "wordsRDD = sc.parallelize(wordslist, 4)\n",
        "\"\"\" 3. Use Map function to convert words into a key-value pair \"\"\" \n",
        "wordPairs = wordsRDD.map(lambda w: (w, 1))\n",
        "\"\"\" 4. Use Reduce function to aggregate and get the final result \"\"\" \n",
        "wordCountsCollected = wordPairs.reduceByKey(lambda x, y: x+y)\n",
        "wordslist, wordsRDD.collect(), wordPairs.collect(), wordCountsCollected.collect()\n"
      ],
      "metadata": {
        "colab": {
          "base_uri": "https://localhost:8080/"
        },
        "id": "sRDaiW_ivxq2",
        "outputId": "62b731e7-b3fa-42d5-c300-f2b2b2088749"
      },
      "execution_count": null,
      "outputs": [
        {
          "output_type": "execute_result",
          "data": {
            "text/plain": [
              "(['python', 'java', 'ottawa', 'news', 'java', 'ottawa'],\n",
              " ['python', 'java', 'ottawa', 'news', 'java', 'ottawa'],\n",
              " [('python', 1),\n",
              "  ('java', 1),\n",
              "  ('ottawa', 1),\n",
              "  ('news', 1),\n",
              "  ('java', 1),\n",
              "  ('ottawa', 1)],\n",
              " [('python', 1), ('java', 2), ('ottawa', 2), ('news', 1)])"
            ]
          },
          "metadata": {},
          "execution_count": 102
        }
      ]
    },
    {
      "cell_type": "code",
      "source": [
        "\"\"\" Dynamic Programming Strategy - Memoization \n",
        "OR memorization also called intelligent caching \n",
        "introduced by Richard Bellman for algorithm optimization \n",
        "  1. Divide into subproblems\n",
        "  2. Each subproblem involves and operation/calculation performed \n",
        "     that is repeated and cached so that the operation is performed once. \n",
        "\"\"\" \n",
        "\"\"\" \n",
        "  TSP Problem \n",
        "  Input: A list og n cities denoted as V, and the distance between each pair \n",
        "  of cities, d if (1 <= i, j <= n)\n",
        "  Output: The shortest tour that visits each city exactly once \n",
        "  -           Ottawa    Montreal    Kingston    Toronto   Sudbury\n",
        "  Ottawa      -         199         196         450       484\n",
        "  Montreal    199       -           287         542       680\n",
        "  Kingston    196       287         -           263       634\n",
        "  Toronto     450       542         263         -         400\n",
        "  Sudbury     484       680         634         400       -\n",
        "\n",
        "  Trip: Ottawa-Sudbury-Montreal-Kingston-Toronto-Ottawa with a cost of \n",
        "  (484 + 680 + 287 + 263 + 450 = 2164)\n",
        "\n",
        "  Brute-force: evaluate all possible tours, choose the one with lower cost\n",
        "  (n-1)!\n",
        "  - calculate absolute distance between two points \n",
        "  - calculate the total distance in a given tour for the TSP \n",
        "  - randomly generate a set of n cities located in a layout 500x300\n",
        "\"\"\" \n",
        "from itertools import permutations \n",
        "import random, math"
      ],
      "metadata": {
        "id": "ZrDe68KbgDqN"
      },
      "execution_count": 2,
      "outputs": []
    },
    {
      "cell_type": "code",
      "source": [
        "from tables.utils import clock\n",
        "from collections import Counter\n",
        "from time import clock_gettime\n",
        "import matplotlib.pyplot as plt \n",
        "%matplotlib inline \n",
        "\n",
        "aCity = complex \n",
        "alltours = permutations\n",
        "number_of_cities = 5 \n",
        "\n",
        "def distance_points(first, second):\n",
        "  return abs(first - second)\n",
        "def distance_tour(aTour):\n",
        "  return sum(distance_points(aTour[i -1], aTour[i]) for i in range(len(aTour)))\n",
        "def generate_cities(number_of_cities):\n",
        "  seed = 111 ; width = 500 ; height = 300\n",
        "  random.seed((number_of_cities, seed))\n",
        "  return frozenset(aCity(random.randint(1, width), random.randint(1, \n",
        "                  height)) for c in range(number_of_cities))\n",
        "\"\"\" generate all possible tours of cities, to choose the shortest distance \"\"\"\n",
        "def brute_force(cities):\n",
        "  return shortest_tour(alltours(cities))\n",
        "def shortest_tour(tours):\n",
        "  return min(tours, key=distance_tour)\n",
        "\"\"\" plot cities and links in a segment \"\"\" \n",
        "def visualize_segment(segment, style='bo-'):\n",
        "  plt.plot([X(c) for c in segment], [Y(c) for c in segment], style, clip_on = False)\n",
        "  print(segment)\n",
        "  plt.axis('scaled')\n",
        "  plt.axis('off')\n",
        "\"\"\" plot all the cities and links in a tour and highlight where it started \"\"\"\n",
        "def visualize_tour(tour, style='bo-'): \n",
        "  if len(tour) > 1000: plt.figure(figsize=(15, 10))\n",
        "  start = tour[0:1]\n",
        "  visualize_segment(tour + start, style)\n",
        "  visualize_segment(start, 'rD')\n",
        "def X(city): 'X axis' ; return city.real\n",
        "def Y(city): 'Y axis' ; return city.imag\n",
        "\"\"\" implement TSP with the algorithm steps and visualize by generating a plot \"\"\"\n",
        "def name(algorithm): return algorithm.__name__.replace('_tsp', '')\n",
        "def tsp(algorithm, cities):\n",
        "  t_0 = clock()\n",
        "  tour = algorithm(cities)\n",
        "  t_1 = clock()\n",
        "  assert Counter(tour) == Counter(cities)\n",
        "  visualize_tour(tour) \n",
        "  #print('{}: {} cities = tour length {:.0f} (in {:.3f} sec)'.format(\n",
        "      #name(algorithm), len(tour), distance_tour(tour), t_1 - t_0))\n",
        "tsp(brute_force, generate_cities(10))\n"
      ],
      "metadata": {
        "colab": {
          "base_uri": "https://localhost:8080/",
          "height": 357
        },
        "id": "-3M58vGmgDxy",
        "outputId": "b2721089-1309-4741-9aaa-edef3cc9076d"
      },
      "execution_count": 24,
      "outputs": [
        {
          "output_type": "stream",
          "name": "stderr",
          "text": [
            "<ipython-input-24-0c278a10c89b>:17: DeprecationWarning: Seeding based on hashing is deprecated\n",
            "since Python 3.9 and will be removed in a subsequent version. The only \n",
            "supported seed types are: None, int, float, str, bytes, and bytearray.\n",
            "  random.seed((number_of_cities, seed))\n"
          ]
        },
        {
          "output_type": "stream",
          "name": "stdout",
          "text": [
            "((23+142j), (155+96j), (175+62j), (299+92j), (442+24j), (467+141j), (444+157j), (187+262j), (12+295j), (29+215j), (23+142j))\n",
            "((23+142j),)\n"
          ]
        },
        {
          "output_type": "display_data",
          "data": {
            "text/plain": [
              "<Figure size 432x288 with 1 Axes>"
            ],
            "image/png": "[encoded data removed]"
          },
          "metadata": {
            "needs_background": "light"
          }
        }
      ]
    },
    {
      "cell_type": "code",
      "source": [
        "def greedy_algorithm(cities, start=None):\n",
        "  C = start or first(cities)\n",
        "  tour = [C]\n",
        "  unvisited = set(cities - {C})\n",
        "  while unvisited:\n",
        "    C = neareset_neighbor(C, unvisited)\n",
        "    tour.append(C)\n",
        "    unvisited.remove(C)\n",
        "  return tour \n",
        "\n",
        "def first(collection): \n",
        "  return next(iter(collection))\n",
        "def neareset_neighbor(A, cities):\n",
        "  return min(cities, key=lambda C: distance_points(C, A))\n",
        "\n",
        "tsp(greedy_algorithm, generate_cities(10))"
      ],
      "metadata": {
        "colab": {
          "base_uri": "https://localhost:8080/",
          "height": 357
        },
        "id": "D7NrbapsQUz-",
        "outputId": "3d5d6d8b-c00b-4268-fcb9-df2f6dfff3f3"
      },
      "execution_count": 25,
      "outputs": [
        {
          "output_type": "stream",
          "name": "stdout",
          "text": [
            "[(12+295j), (29+215j), (23+142j), (155+96j), (175+62j), (299+92j), (442+24j), (467+141j), (444+157j), (187+262j), (12+295j)]\n",
            "[(12+295j)]\n"
          ]
        },
        {
          "output_type": "stream",
          "name": "stderr",
          "text": [
            "<ipython-input-24-0c278a10c89b>:17: DeprecationWarning: Seeding based on hashing is deprecated\n",
            "since Python 3.9 and will be removed in a subsequent version. The only \n",
            "supported seed types are: None, int, float, str, bytes, and bytearray.\n",
            "  random.seed((number_of_cities, seed))\n"
          ]
        },
        {
          "output_type": "display_data",
          "data": {
            "text/plain": [
              "<Figure size 432x288 with 1 Axes>"
            ],
            "image/png": "[encoded data removed]"
          },
          "metadata": {
            "needs_background": "light"
          }
        }
      ]
    },
    {
      "cell_type": "code",
      "source": [
        "tsp(greedy_algorithm, generate_cities(2000))"
      ],
      "metadata": {
        "colab": {
          "base_uri": "https://localhost:8080/",
          "height": 603
        },
        "id": "bAHjAvnP-4Xs",
        "outputId": "ade5f8dd-18ea-498c-f180-d27969098a9e"
      },
      "execution_count": 21,
      "outputs": [
        {
          "output_type": "stream",
          "name": "stderr",
          "text": [
            "<ipython-input-19-7915faea784c>:17: DeprecationWarning: Seeding based on hashing is deprecated\n",
            "since Python 3.9 and will be removed in a subsequent version. The only \n",
            "supported seed types are: None, int, float, str, bytes, and bytearray.\n",
            "  random.seed((number_of_cities, seed))\n"
          ]
        },
        {
          "output_type": "display_data",
          "data": {
            "text/plain": [
              "<Figure size 1080x720 with 1 Axes>"
            ],
            "image/png": "[encoded data removed]"
          },
          "metadata": {
            "needs_background": "light"
          }
        }
      ]
    },
    {
      "cell_type": "markdown",
      "source": [
        "**PageRank algorithm**\n",
        "\n",
        "Rank the Web Pages using some criteria to refine the results "
      ],
      "metadata": {
        "id": "9pGmJ9m_D0pX"
      }
    },
    {
      "cell_type": "code",
      "source": [
        "\"\"\" calculate the importance of each page returned in query results \n",
        "    quantify the importance of a particular page, have the algorithm \n",
        "    incorporate two components 1) Information specific to the query \n",
        "    entered by the user and 2) information not related \n",
        "\"\"\" \n",
        "\"\"\" import the necessary libraries \"\"\" \n",
        "import networkx as nx \n",
        "import matplotlib.pyplot as plt \n",
        "import numpy as np \n",
        "myWeb = nx.DiGraph()\n",
        "myPages = range(1,5)\n",
        "\"\"\" connect them randomly to simulate a network \"\"\" \n",
        "connections = [ (1,3), (2,1), (2,3), (3,1), (3,2), (3,4), (4,5), (5,1), (5,4) ]\n",
        "myWeb.add_nodes_from(myPages)\n",
        "myWeb.add_edges_from(connections)\n",
        "\"\"\" plot the graph \"\"\" \n",
        "pos = nx.shell_layout(myWeb)\n",
        "nx.draw(myWeb, pos, arrows=True, with_labels=True)\n",
        "plt.show()\n",
        "\"\"\" PageRank algorithm \"\"\" \n",
        "def createPageRank(aGraph):\n",
        "  nodes_set = len(aGraph)\n",
        "  M = nx.to_numpy_array(aGraph)\n",
        "  outwards = np.squeeze(np.asarray(np.sum(M, axis=1)))\n",
        "  prob_outwards = np.array(\n",
        "      [1.0/count\n",
        "       if count>0 else 0.0 for count in outwards])\n",
        "  G = np.asarray(np.multiply(M.T, prob_outwards))\n",
        "  p = np.ones(nodes_set) / float(nodes_set)\n",
        "  if np.min(np.sum(G, axis=0)) < 1.0:\n",
        "    print('G is substochastic')\n",
        "  return G, p \n",
        "\n",
        "G, p = createPageRank(myWeb)\n",
        "G"
      ],
      "metadata": {
        "colab": {
          "base_uri": "https://localhost:8080/",
          "height": 408
        },
        "id": "FOPBiZyID3YM",
        "outputId": "8e403b89-63b1-4531-a425-2a735a1cf9fb"
      },
      "execution_count": 23,
      "outputs": [
        {
          "output_type": "display_data",
          "data": {
            "text/plain": [
              "<Figure size 432x288 with 1 Axes>"
            ],
            "image/png": "[encoded data removed]"
          },
          "metadata": {}
        },
        {
          "output_type": "execute_result",
          "data": {
            "text/plain": [
              "array([[0.        , 0.5       , 0.33333333, 0.        , 0.5       ],\n",
              "       [0.        , 0.        , 0.33333333, 0.        , 0.        ],\n",
              "       [1.        , 0.5       , 0.        , 0.        , 0.        ],\n",
              "       [0.        , 0.        , 0.33333333, 0.        , 0.5       ],\n",
              "       [0.        , 0.        , 0.        , 1.        , 0.        ]])"
            ]
          },
          "metadata": {},
          "execution_count": 23
        }
      ]
    },
    {
      "cell_type": "markdown",
      "source": [
        "PageRank algorithm Eigenvalue centrality "
      ],
      "metadata": {
        "id": "xLdzDwnEynWF"
      }
    },
    {
      "cell_type": "code",
      "source": [
        "vertices = range(1, 5)\n",
        "edges = [ (7,2), (2,3), (7,4), (4,5), (7,3), (7,5), (1,6), (1,7), (2,8), (2,9) ]\n",
        "G = nx.Graph()\n",
        "G.add_nodes_from(vertices)\n",
        "G.add_edges_from(edges)\n",
        "nx.draw(G, with_labels=True, node_color='y', node_size=800)"
      ],
      "metadata": {
        "colab": {
          "base_uri": "https://localhost:8080/",
          "height": 319
        },
        "id": "jIydHdtEysIA",
        "outputId": "57e877db-344a-420e-d1d1-5415c1fd4e9d"
      },
      "execution_count": null,
      "outputs": [
        {
          "output_type": "display_data",
          "data": {
            "text/plain": [
              "<Figure size 432x288 with 1 Axes>"
            ],
            "image/png": "[encoded data removed]"
          },
          "metadata": {}
        }
      ]
    },
    {
      "cell_type": "code",
      "source": [
        "nx.degree_centrality(G)"
      ],
      "metadata": {
        "colab": {
          "base_uri": "https://localhost:8080/"
        },
        "id": "Cg2b5rG00LaJ",
        "outputId": "85dd74f1-10df-4d6a-dd05-3e845cb36703"
      },
      "execution_count": null,
      "outputs": [
        {
          "output_type": "execute_result",
          "data": {
            "text/plain": [
              "{1: 0.25,\n",
              " 2: 0.5,\n",
              " 3: 0.25,\n",
              " 4: 0.25,\n",
              " 7: 0.625,\n",
              " 5: 0.25,\n",
              " 6: 0.125,\n",
              " 8: 0.125,\n",
              " 9: 0.125}"
            ]
          },
          "metadata": {},
          "execution_count": 10
        }
      ]
    },
    {
      "cell_type": "code",
      "source": [
        "nx.betweenness_centrality(G), nx.draw(G, with_labels=True, node_color='y', node_size=800)"
      ],
      "metadata": {
        "colab": {
          "base_uri": "https://localhost:8080/",
          "height": 498
        },
        "id": "vcDAgszQ0Lvc",
        "outputId": "9378685d-8047-4a40-e8d0-cef076658b1b"
      },
      "execution_count": null,
      "outputs": [
        {
          "output_type": "execute_result",
          "data": {
            "text/plain": [
              "({1: 0.25,\n",
              "  2: 0.46428571428571425,\n",
              "  3: 0.0,\n",
              "  4: 0.0,\n",
              "  7: 0.7142857142857142,\n",
              "  5: 0.0,\n",
              "  6: 0.0,\n",
              "  8: 0.0,\n",
              "  9: 0.0},\n",
              " None)"
            ]
          },
          "metadata": {},
          "execution_count": 11
        },
        {
          "output_type": "display_data",
          "data": {
            "text/plain": [
              "<Figure size 432x288 with 1 Axes>"
            ],
            "image/png": "[encoded data removed]"
          },
          "metadata": {}
        }
      ]
    },
    {
      "cell_type": "code",
      "source": [
        "nx.closeness_centrality(G), nx.draw(G, with_labels=True, node_color='y', node_size=800)"
      ],
      "metadata": {
        "colab": {
          "base_uri": "https://localhost:8080/",
          "height": 498
        },
        "id": "ZnXzFXe70L65",
        "outputId": "1c1dfbd4-e206-4af8-fb80-b93f42551984"
      },
      "execution_count": null,
      "outputs": [
        {
          "output_type": "execute_result",
          "data": {
            "text/plain": [
              "({1: 0.5,\n",
              "  2: 0.6153846153846154,\n",
              "  3: 0.5333333333333333,\n",
              "  4: 0.47058823529411764,\n",
              "  7: 0.7272727272727273,\n",
              "  5: 0.47058823529411764,\n",
              "  6: 0.34782608695652173,\n",
              "  8: 0.4,\n",
              "  9: 0.4},\n",
              " None)"
            ]
          },
          "metadata": {},
          "execution_count": 12
        },
        {
          "output_type": "display_data",
          "data": {
            "text/plain": [
              "<Figure size 432x288 with 1 Axes>"
            ],
            "image/png": "[encoded data removed]"
          },
          "metadata": {}
        }
      ]
    },
    {
      "cell_type": "markdown",
      "source": [
        "BFS/DFS traversals below "
      ],
      "metadata": {
        "id": "IdS3UQS71Pk5"
      }
    },
    {
      "cell_type": "markdown",
      "source": [
        "Use Case fraud(F) / non-fraud(NF) \n",
        "\n",
        "- Fraud analytics: P(F/q) = i/degree_q * Sum(w(n, nj)DOS_normalize\n",
        "- Negative outcome: Negative outcome score\n",
        "  - involvement in CC theft: 8 \n",
        "  - fake check submission: 7 \n",
        "  - criminal record: 6 \n",
        "  - no record: 0  \n",
        "- DOS (degree of suspicion)\n",
        "\n",
        "![image.png](data:image/png;base64,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)"
      ],
      "metadata": {
        "id": "gp-UMzmW1gNN"
      }
    },
    {
      "cell_type": "markdown",
      "source": [
        "DOS criteria for the risk fraud associated with the nodes added to the system \n",
        "\n",
        "- **Value of DOS: Risk classification**\n",
        "- DOS = 0 : No risk \n",
        "- 0 < DOS <= 0.10 : Low risk \n",
        "- 0.10 < DOS <= 0.3 : Medium risk \n",
        "DOS > 0.3 : High risk "
      ],
      "metadata": {
        "id": "ym6At49C9ev-"
      }
    },
    {
      "cell_type": "code",
      "source": [
        "edge_labels_ = {\n",
        "    1: 'DOS=0', 2: 'DOS=0.47', 3: 'DOS=0', 4: 'DOS=0', 5: 'DOS=0.27',\n",
        "    6: 'DOS=0.17', 7: 'DOS=1', 8: 'DOS=0', 9: 'DOS=0'\n",
        "}\n",
        "edge_labels_"
      ],
      "metadata": {
        "colab": {
          "base_uri": "https://localhost:8080/"
        },
        "id": "qlnr1Hvx-pPq",
        "outputId": "7ac510e2-70f9-43ca-841e-c6ded3cd425d"
      },
      "execution_count": null,
      "outputs": [
        {
          "output_type": "execute_result",
          "data": {
            "text/plain": [
              "{1: 'DOS=0',\n",
              " 2: 'DOS=0.47',\n",
              " 3: 'DOS=0',\n",
              " 4: 'DOS=0',\n",
              " 5: 'DOS=0.27',\n",
              " 6: 'DOS=0.17',\n",
              " 7: 'DOS=1',\n",
              " 8: 'DOS=0',\n",
              " 9: 'DOS=0'}"
            ]
          },
          "metadata": {},
          "execution_count": 13
        }
      ]
    },
    {
      "cell_type": "code",
      "source": [
        "import networkx as nx \n",
        "vertices = range(1, 10)\n",
        "edges = [(7,2), (2,3), (7,4), (4,5), (7,3), (7,5), (1,6), (1,7), (2,8), (2,9)]\n",
        "\n",
        "G = nx.Graph()\n",
        "G.add_nodes_from(vertices)\n",
        "G.add_edges_from(edges)\n",
        "pos = nx.spring_layout(G)\n",
        "\"\"\" define the NF nodes \"\"\" \n",
        "nx.draw_networkx_nodes(G, pos, nodelist=[1,4,3,8,9], node_color='g', node_size=1300)\n",
        "\"\"\" define F nodes \"\"\" \n",
        "nx.draw_networkx_nodes(G, pos, nodelist=[2,5,6,7], node_color='r', node_size=1300)\n",
        "nx.draw_networkx_edges(G, pos, edges, width=3, alpha=0.5, edge_color='b')\n",
        "#nx.draw_networkx_edge_labels(G, pos)\n",
        "labels = {}\n",
        "labels[1] = r'1NF' ; labels[2] = r'2 F' ; labels[3] = r'3NF' ; \n",
        "labels[4] = r'4NF' ; labels[5] = r'5 F' ; labels[6] = r'6 F' ;\n",
        "labels[7] = r'7 F' ; labels[8] = r'8NF' ; labels[9] = r'9NF' ;\n",
        "nx.draw_networkx_labels(G, pos, labels, font_size=16)\n"
      ],
      "metadata": {
        "colab": {
          "base_uri": "https://localhost:8080/",
          "height": 409
        },
        "id": "aOY_p0xP1obU",
        "outputId": "47a98b0e-c5d8-458d-e730-01fdf0bc7c45"
      },
      "execution_count": null,
      "outputs": [
        {
          "output_type": "execute_result",
          "data": {
            "text/plain": [
              "{1: Text(-0.3498489221916721, 0.6019367427658756, '1NF'),\n",
              " 2: Text(-0.004424544071409918, -0.5191347785461926, '2 F'),\n",
              " 3: Text(0.2117040670840778, -0.23963179785390643, '3NF'),\n",
              " 4: Text(0.5576645726844635, 0.3516886930178679, '4NF'),\n",
              " 5: Text(0.3594044587691178, 0.5680430051071902, '5 F'),\n",
              " 6: Text(-0.6897919212426453, 0.9634278341216487, '6 F'),\n",
              " 7: Text(0.0970825102451391, 0.15646135153124796, '7 F'),\n",
              " 8: Text(0.18027278430405358, -1.0, '8NF'),\n",
              " 9: Text(-0.36206300558112503, -0.8827910501437323, '9NF')}"
            ]
          },
          "metadata": {},
          "execution_count": 14
        },
        {
          "output_type": "display_data",
          "data": {
            "text/plain": [
              "<Figure size 432x288 with 1 Axes>"
            ],
            "image/png": "[encoded data removed]"
          },
          "metadata": {}
        }
      ]
    },
    {
      "cell_type": "markdown",
      "source": [
        "# Linear Programming\n",
        "\n",
        "Algorithm by George Dantzig \n",
        "\n",
        "- Formulate the linear programming problem\n",
        "- Define Objective Function \n",
        "- Specify the constraints\n",
        "- Use Case - Capacity Planning \n",
        "  Robot manufacturing - basic and advanced model (full functionality)"
      ],
      "metadata": {
        "id": "xi91U-TQJrvK"
      }
    },
    {
      "cell_type": "code",
      "source": [
        "!pip install pulp \n",
        "import pulp"
      ],
      "metadata": {
        "colab": {
          "base_uri": "https://localhost:8080/"
        },
        "id": "Zo53bPe9KbUp",
        "outputId": "6dea3488-dad0-46c2-9e8b-eba379f75b57"
      },
      "execution_count": null,
      "outputs": [
        {
          "output_type": "stream",
          "name": "stdout",
          "text": [
            "Looking in indexes: https://pypi.org/simple, https://us-python.pkg.dev/colab-wheels/public/simple/\n",
            "Collecting pulp\n",
            "  Downloading PuLP-2.7.0-py3-none-any.whl (14.3 MB)\n",
            "\u001b[K     |████████████████████████████████| 14.3 MB 4.9 MB/s \n",
            "\u001b[?25hInstalling collected packages: pulp\n",
            "Successfully installed pulp-2.7.0\n"
          ]
        }
      ]
    },
    {
      "cell_type": "markdown",
      "source": [
        "**Centrality measures** \n",
        "- Concepts: Betweeness, Closeness, Eigenvectors "
      ],
      "metadata": {
        "id": "dFRqq9g7yLe-"
      }
    },
    {
      "cell_type": "markdown",
      "source": [
        "**Adavanced Data topics prior to ML algorithms review**\n",
        "- Google use cases (Maps, File Storage)"
      ],
      "metadata": {
        "id": "EuMmir6KDZNy"
      }
    },
    {
      "cell_type": "markdown",
      "source": [
        "Data-mining lifecycle:\n",
        "- CRISP-DM (Cross Industry Standard Process for Data mining) life cycle\n",
        "- SEMMA (Sample, Explore, Modify, Model, Access)  data mining process "
      ],
      "metadata": {
        "id": "JJKRsrIYJR3D"
      }
    },
    {
      "cell_type": "code",
      "source": [
        "\"\"\" voice categorization use case \"\"\""
      ],
      "metadata": {
        "id": "VRZ8BngzDlbb"
      },
      "execution_count": null,
      "outputs": []
    },
    {
      "cell_type": "code",
      "source": [
        "\"\"\" document categorization \"\"\" "
      ],
      "metadata": {
        "id": "XvldwfONDliZ"
      },
      "execution_count": null,
      "outputs": []
    },
    {
      "cell_type": "markdown",
      "source": [
        "The reliability of the grouping created by clustering algorithms is based on the assumption thatwe can accurately quantify the similarities or closeness \n",
        "between various data points in the problem space. \n",
        "\n",
        "**Quantifying similarities**\n",
        " - Euclidian distance measure \n",
        " - Manhattan distance measure \n",
        " - Cosine similarity - distance measured \n",
        "\n",
        "**K-means clustering algorithm** it triesto create a number of clusters, k,\n",
        "calculating the means to find the closeness between the data points. \n",
        "It uses relative simple clustering approach but it faster and it scales. \n",
        "Algorithmically, k-means clustering uses an iterative logic that moves the centers of the clusters until they reflect the most representative data point of the grouping they belong to. \n",
        "The lean-and-mean design makes k-means suitable for larger datasets. \n",
        "**Logic of k-means clustering **\n",
        "1. Choose the numbr of clusters, k \n",
        "2. Among the data points, we randomly choose k points as cluster centers \n",
        "3. Based on the selected distance measure, iteratively compute the distance from each point of the k cluster centers. Based on the size of the dataset, \n",
        "we decided what the k is to be. \n",
        "4. We assign each data point in the problem space to the nearest cluster center \n",
        "5. Assign each data point in the problem space to the nearest cluster center \n",
        "6. If any change, recompute the cluster assignment for each data point\n",
        "7. stop condition where we have the current maximum number of iterations\n",
        "\n",
        "**Hierarchical clustering**\n",
        "1. Separate the cluster for each data point in problem space \n",
        "   - if problem space consists of 100 data points, then it will start with 100 clusters \n",
        "2. group only those points close to each other \n"
      ],
      "metadata": {
        "id": "Y7UNC674KgGn"
      }
    },
    {
      "cell_type": "code",
      "source": [
        "\"\"\" k-means algorithm \"\"\" \n",
        "from sklearn import cluster \n",
        "import pandas as pd\n",
        "import numpy as np \n",
        "import matplotlib.pyplot as plt\n",
        "\n",
        "dataset = pd.DataFrame({\n",
        "    'x': [11, 21, 28, 17, 29, 33, 24, 45, 45, 52, 51, 52, 55, 53, 55, 61, \n",
        "          62, 70, 72, 10],\n",
        "    'y': [39, 36, 30, 52, 53, 46, 55, 59, 63, 70, 66, 63, 58, 23, 14, 8, \n",
        "          18, 7, 24, 10]\n",
        "})\n",
        "\n",
        "Kmeans_ = cluster.KMeans(n_clusters=2)\n",
        "Kmeans_.fit(dataset)\n",
        "centroids_ = Kmeans_.cluster_centers_ \n",
        "labels = Kmeans_.labels_\n",
        "labels, centroids_\n",
        "plt.scatter(dataset['x'], dataset['y'], s=10)\n",
        "plt.scatter(centroids_[0], centroids_[1])\n",
        "plt.show()"
      ],
      "metadata": {
        "colab": {
          "base_uri": "https://localhost:8080/",
          "height": 265
        },
        "id": "O_UHrKoLDll0",
        "outputId": "f9814a4f-4a90-4d94-b26f-a9530964acfc"
      },
      "execution_count": null,
      "outputs": [
        {
          "output_type": "display_data",
          "data": {
            "text/plain": [
              "<Figure size 432x288 with 1 Axes>"
            ],
            "image/png": "[encoded data removed]"
          },
          "metadata": {
            "needs_background": "light"
          }
        }
      ]
    },
    {
      "cell_type": "code",
      "source": [
        "\"\"\" hierarchichal clustering \"\"\" \n",
        "from sklearn.cluster import AgglomerativeClustering\n",
        "import pandas as pd\n",
        "import numpy as np \n",
        "import matplotlib.pyplot as plt\n",
        "\"\"\" data in in two dimmensional space \"\"\"\n",
        "dataset = pd.DataFrame({\n",
        "    'x': [11, 21, 28, 17, 29, 33, 24, 45, 45, 52, 51, 52, 55, 53, 55, 61, \n",
        "          62, 70, 72, 10],\n",
        "    'y': [39, 36, 30, 52, 53, 46, 55, 59, 63, 70, 66, 63, 58, 23, 14, 8, \n",
        "          18, 7, 24, 10]\n",
        "})\n",
        "\"\"\" hierarchical cluster by specifying the hyperparameters \n",
        "    use fit_predict function to actually process the algorithm \"\"\" \n",
        "#cluster = \\\n",
        "#AgglomerativeClustering(n_clusters=2, affinity='euclidian', linkage='ward')\n",
        "cluster = AgglomerativeClustering(n_clusters=2) #euclidian the default \n",
        "cluster.fit_predict(dataset), cluster.labels_\n"
      ],
      "metadata": {
        "colab": {
          "base_uri": "https://localhost:8080/"
        },
        "id": "-elXtUZHDlpx",
        "outputId": "73f287cf-b4ab-4ea4-a712-c1e07d20172e"
      },
      "execution_count": null,
      "outputs": [
        {
          "output_type": "execute_result",
          "data": {
            "text/plain": [
              "(array([0, 0, 0, 0, 0, 0, 0, 0, 0, 0, 0, 0, 0, 1, 1, 1, 1, 1, 1, 0]),\n",
              " array([0, 0, 0, 0, 0, 0, 0, 0, 0, 0, 0, 0, 0, 1, 1, 1, 1, 1, 1, 0]))"
            ]
          },
          "metadata": {},
          "execution_count": 17
        }
      ]
    },
    {
      "cell_type": "markdown",
      "source": [
        "**Evaluation for Clustering algorithms:**\n",
        "- The data points that belongs to the same cluster as similar as possible \n",
        "- The data points that belongs to separate cluster as different as possible \n",
        "\n",
        "Use range for association with each cluster and data points in neighnoring clusters \n",
        "\n",
        "- Range      Meaning.  Description \n",
        "__________________________________________________________________________\n",
        "- 0.71-1     excellent    k-clustering results in groups quite different \n",
        "- 0.51-0.70  reasonable   groups somewhat differentiable \n",
        "- 0.26-0.5   weak         quality of the grouping should not be relied upon \n",
        "- < 0.25     no clustering has been found \n",
        "\n",
        "**Applications:**\n",
        "- Demographics(social analysis) \n",
        "- Market research(segmentation, targeted advertisement, customer categorization)\n",
        "\n",
        "**Principal component analysis (PCA)**\n",
        "- Remove noise from real time data such as stock market trading \n",
        "\n",
        "**Dimensionality reduction**\n",
        "- Feature selection important to contextualize the problem we are solving \n",
        "- Feature aggregation to reduce dimensions by using \n",
        "    - PCA in a linear unsupervised ML algorithm \n",
        "    - LDA in a liner supervised ML algorithm \n",
        "    - Kernel principal component in a non-linear algorithm "
      ],
      "metadata": {
        "id": "68pAFM6-VQLQ"
      }
    },
    {
      "cell_type": "code",
      "source": [
        "\"\"\" PCA - PC1 and PC2 \"\"\" \n",
        "from sklearn.decomposition import PCA\n",
        "names_ = ['sepal-length', 'sepal-width', 'petal-length', 'petal-width', \n",
        "          'class']\n",
        "iris = pd.read_csv('iris.csv', names=names_)\n",
        "X = iris.drop('class', axis=1)\n",
        "pca_ = PCA(n_components=4)\n",
        "fit_ = pca_.fit(X)\n",
        "\n",
        "pca_df = (pd.DataFrame(pca_.components_, columns=X.columns))\n",
        "\"\"\" calculate PC1 and PC2 using coefficients that are generated \"\"\" \n",
        "X['PC1'] = X['sepal-length'] * pca_df['sepal-length'][0] + \\\n",
        "           X['sepal-width']  * pca_df['sepal-width'][0] + \\\n",
        "           X['petal-length'] * pca_df['petal-length'][0] + \\\n",
        "           X['petal-width']  * pca_df['petal-width'][0] \n",
        "\n",
        "X['PC2'] = X['sepal-length'] * pca_df['sepal-length'][1] + \\\n",
        "           X['sepal-width']  * pca_df['sepal-width'][1] + \\\n",
        "           X['petal-length'] * pca_df['petal-length'][1] + \\\n",
        "           X['petal-width']  * pca_df['petal-width'][1] \n",
        "\n",
        "X['PC3'] = X['sepal-length'] * pca_df['sepal-length'][2] + \\\n",
        "           X['sepal-width']  * pca_df['sepal-width'][2] + \\\n",
        "           X['petal-length'] * pca_df['petal-length'][2] + \\\n",
        "           X['petal-width']  * pca_df['petal-width'][2] \n",
        "\n",
        "X['PC4'] = X['sepal-length'] * pca_df['sepal-length'][3] + \\\n",
        "           X['sepal-width']  * pca_df['sepal-width'][3] + \\\n",
        "           X['petal-length'] * pca_df['petal-length'][3] + \\\n",
        "           X['petal-width']  * pca_df['petal-width'][3] \n",
        "X['PC1'][:]"
      ],
      "metadata": {
        "colab": {
          "base_uri": "https://localhost:8080/"
        },
        "id": "nSvEbhQqXyLt",
        "outputId": "0a23e652-ec6e-4aca-d508-309b75ac5544"
      },
      "execution_count": null,
      "outputs": [
        {
          "output_type": "execute_result",
          "data": {
            "text/plain": [
              "0      2.827136\n",
              "1      2.795952\n",
              "2      2.621524\n",
              "3      2.764906\n",
              "4      2.782750\n",
              "         ...   \n",
              "145    7.455360\n",
              "146    7.037007\n",
              "147    7.275389\n",
              "148    7.412972\n",
              "149    6.901009\n",
              "Name: PC1, Length: 150, dtype: float64"
            ]
          },
          "metadata": {},
          "execution_count": 25
        }
      ]
    },
    {
      "cell_type": "code",
      "source": [
        "X"
      ],
      "metadata": {
        "colab": {
          "base_uri": "https://localhost:8080/",
          "height": 485
        },
        "id": "3mkKQKo4olyS",
        "outputId": "772575c6-fded-44eb-9519-c13f9411b704"
      },
      "execution_count": null,
      "outputs": [
        {
          "output_type": "execute_result",
          "data": {
            "text/plain": [
              "     sepal-length  sepal-width  petal-length  petal-width       PC1       PC2  \\\n",
              "0             5.1          3.5           1.4          0.2  2.827136  5.641331   \n",
              "1             4.9          3.0           1.4          0.2  2.795952  5.145167   \n",
              "2             4.7          3.2           1.3          0.2  2.621524  5.177378   \n",
              "3             4.6          3.1           1.5          0.2  2.764906  5.003599   \n",
              "4             5.0          3.6           1.4          0.2  2.782750  5.648648   \n",
              "..            ...          ...           ...          ...       ...       ...   \n",
              "145           6.7          3.0           5.2          2.3  7.455360  5.502139   \n",
              "146           6.3          2.5           5.0          1.9  7.037007  4.939703   \n",
              "147           6.5          3.0           5.2          2.0  7.275389  5.393243   \n",
              "148           6.2          3.4           5.4          2.3  7.412972  5.430600   \n",
              "149           5.9          3.0           5.1          1.8  6.901009  5.031837   \n",
              "\n",
              "          PC3       PC4  \n",
              "0   -0.664277 -0.037715  \n",
              "1   -0.846287  0.060882  \n",
              "2   -0.618056 -0.019416  \n",
              "3   -0.605093 -0.114676  \n",
              "4   -0.546535 -0.101849  \n",
              "..        ...       ...  \n",
              "145 -0.463462  0.386361  \n",
              "146 -0.763402  0.217002  \n",
              "147 -0.511981  0.097574  \n",
              "148  0.080108  0.002152  \n",
              "149 -0.280447 -0.195031  \n",
              "\n",
              "[150 rows x 8 columns]"
            ],
            "text/html": [
              "\n",
              "  <div id=\"df-d899c9b4-2b84-420f-bb96-3ebbdb1313d6\">\n",
              "    <div class=\"colab-df-container\">\n",
              "      <div>\n",
              "<style scoped>\n",
              "    .dataframe tbody tr th:only-of-type {\n",
              "        vertical-align: middle;\n",
              "    }\n",
              "\n",
              "    .dataframe tbody tr th {\n",
              "        vertical-align: top;\n",
              "    }\n",
              "\n",
              "    .dataframe thead th {\n",
              "        text-align: right;\n",
              "    }\n",
              "</style>\n",
              "<table border=\"1\" class=\"dataframe\">\n",
              "  <thead>\n",
              "    <tr style=\"text-align: right;\">\n",
              "      <th></th>\n",
              "      <th>sepal-length</th>\n",
              "      <th>sepal-width</th>\n",
              "      <th>petal-length</th>\n",
              "      <th>petal-width</th>\n",
              "      <th>PC1</th>\n",
              "      <th>PC2</th>\n",
              "      <th>PC3</th>\n",
              "      <th>PC4</th>\n",
              "    </tr>\n",
              "  </thead>\n",
              "  <tbody>\n",
              "    <tr>\n",
              "      <th>0</th>\n",
              "      <td>5.1</td>\n",
              "      <td>3.5</td>\n",
              "      <td>1.4</td>\n",
              "      <td>0.2</td>\n",
              "      <td>2.827136</td>\n",
              "      <td>5.641331</td>\n",
              "      <td>-0.664277</td>\n",
              "      <td>-0.037715</td>\n",
              "    </tr>\n",
              "    <tr>\n",
              "      <th>1</th>\n",
              "      <td>4.9</td>\n",
              "      <td>3.0</td>\n",
              "      <td>1.4</td>\n",
              "      <td>0.2</td>\n",
              "      <td>2.795952</td>\n",
              "      <td>5.145167</td>\n",
              "      <td>-0.846287</td>\n",
              "      <td>0.060882</td>\n",
              "    </tr>\n",
              "    <tr>\n",
              "      <th>2</th>\n",
              "      <td>4.7</td>\n",
              "      <td>3.2</td>\n",
              "      <td>1.3</td>\n",
              "      <td>0.2</td>\n",
              "      <td>2.621524</td>\n",
              "      <td>5.177378</td>\n",
              "      <td>-0.618056</td>\n",
              "      <td>-0.019416</td>\n",
              "    </tr>\n",
              "    <tr>\n",
              "      <th>3</th>\n",
              "      <td>4.6</td>\n",
              "      <td>3.1</td>\n",
              "      <td>1.5</td>\n",
              "      <td>0.2</td>\n",
              "      <td>2.764906</td>\n",
              "      <td>5.003599</td>\n",
              "      <td>-0.605093</td>\n",
              "      <td>-0.114676</td>\n",
              "    </tr>\n",
              "    <tr>\n",
              "      <th>4</th>\n",
              "      <td>5.0</td>\n",
              "      <td>3.6</td>\n",
              "      <td>1.4</td>\n",
              "      <td>0.2</td>\n",
              "      <td>2.782750</td>\n",
              "      <td>5.648648</td>\n",
              "      <td>-0.546535</td>\n",
              "      <td>-0.101849</td>\n",
              "    </tr>\n",
              "    <tr>\n",
              "      <th>...</th>\n",
              "      <td>...</td>\n",
              "      <td>...</td>\n",
              "      <td>...</td>\n",
              "      <td>...</td>\n",
              "      <td>...</td>\n",
              "      <td>...</td>\n",
              "      <td>...</td>\n",
              "      <td>...</td>\n",
              "    </tr>\n",
              "    <tr>\n",
              "      <th>145</th>\n",
              "      <td>6.7</td>\n",
              "      <td>3.0</td>\n",
              "      <td>5.2</td>\n",
              "      <td>2.3</td>\n",
              "      <td>7.455360</td>\n",
              "      <td>5.502139</td>\n",
              "      <td>-0.463462</td>\n",
              "      <td>0.386361</td>\n",
              "    </tr>\n",
              "    <tr>\n",
              "      <th>146</th>\n",
              "      <td>6.3</td>\n",
              "      <td>2.5</td>\n",
              "      <td>5.0</td>\n",
              "      <td>1.9</td>\n",
              "      <td>7.037007</td>\n",
              "      <td>4.939703</td>\n",
              "      <td>-0.763402</td>\n",
              "      <td>0.217002</td>\n",
              "    </tr>\n",
              "    <tr>\n",
              "      <th>147</th>\n",
              "      <td>6.5</td>\n",
              "      <td>3.0</td>\n",
              "      <td>5.2</td>\n",
              "      <td>2.0</td>\n",
              "      <td>7.275389</td>\n",
              "      <td>5.393243</td>\n",
              "      <td>-0.511981</td>\n",
              "      <td>0.097574</td>\n",
              "    </tr>\n",
              "    <tr>\n",
              "      <th>148</th>\n",
              "      <td>6.2</td>\n",
              "      <td>3.4</td>\n",
              "      <td>5.4</td>\n",
              "      <td>2.3</td>\n",
              "      <td>7.412972</td>\n",
              "      <td>5.430600</td>\n",
              "      <td>0.080108</td>\n",
              "      <td>0.002152</td>\n",
              "    </tr>\n",
              "    <tr>\n",
              "      <th>149</th>\n",
              "      <td>5.9</td>\n",
              "      <td>3.0</td>\n",
              "      <td>5.1</td>\n",
              "      <td>1.8</td>\n",
              "      <td>6.901009</td>\n",
              "      <td>5.031837</td>\n",
              "      <td>-0.280447</td>\n",
              "      <td>-0.195031</td>\n",
              "    </tr>\n",
              "  </tbody>\n",
              "</table>\n",
              "<p>150 rows × 8 columns</p>\n",
              "</div>\n",
              "      <button class=\"colab-df-convert\" onclick=\"convertToInteractive('df-d899c9b4-2b84-420f-bb96-3ebbdb1313d6')\"\n",
              "              title=\"Convert this dataframe to an interactive table.\"\n",
              "              style=\"display:none;\">\n",
              "        \n",
              "  <svg xmlns=\"http://www.w3.org/2000/svg\" height=\"24px\"viewBox=\"0 0 24 24\"\n",
              "       width=\"24px\">\n",
              "    <path d=\"M0 0h24v24H0V0z\" fill=\"none\"/>\n",
              "    <path d=\"M18.56 5.44l.94 2.06.94-2.06 2.06-.94-2.06-.94-.94-2.06-.94 2.06-2.06.94zm-11 1L8.5 8.5l.94-2.06 2.06-.94-2.06-.94L8.5 2.5l-.94 2.06-2.06.94zm10 10l.94 2.06.94-2.06 2.06-.94-2.06-.94-.94-2.06-.94 2.06-2.06.94z\"/><path d=\"M17.41 7.96l-1.37-1.37c-.4-.4-.92-.59-1.43-.59-.52 0-1.04.2-1.43.59L10.3 9.45l-7.72 7.72c-.78.78-.78 2.05 0 2.83L4 21.41c.39.39.9.59 1.41.59.51 0 1.02-.2 1.41-.59l7.78-7.78 2.81-2.81c.8-.78.8-2.07 0-2.86zM5.41 20L4 18.59l7.72-7.72 1.47 1.35L5.41 20z\"/>\n",
              "  </svg>\n",
              "      </button>\n",
              "      \n",
              "  <style>\n",
              "    .colab-df-container {\n",
              "      display:flex;\n",
              "      flex-wrap:wrap;\n",
              "      gap: 12px;\n",
              "    }\n",
              "\n",
              "    .colab-df-convert {\n",
              "      background-color: #E8F0FE;\n",
              "      border: none;\n",
              "      border-radius: 50%;\n",
              "      cursor: pointer;\n",
              "      display: none;\n",
              "      fill: #1967D2;\n",
              "      height: 32px;\n",
              "      padding: 0 0 0 0;\n",
              "      width: 32px;\n",
              "    }\n",
              "\n",
              "    .colab-df-convert:hover {\n",
              "      background-color: #E2EBFA;\n",
              "      box-shadow: 0px 1px 2px rgba(60, 64, 67, 0.3), 0px 1px 3px 1px rgba(60, 64, 67, 0.15);\n",
              "      fill: #174EA6;\n",
              "    }\n",
              "\n",
              "    [theme=dark] .colab-df-convert {\n",
              "      background-color: #3B4455;\n",
              "      fill: #D2E3FC;\n",
              "    }\n",
              "\n",
              "    [theme=dark] .colab-df-convert:hover {\n",
              "      background-color: #434B5C;\n",
              "      box-shadow: 0px 1px 3px 1px rgba(0, 0, 0, 0.15);\n",
              "      filter: drop-shadow(0px 1px 2px rgba(0, 0, 0, 0.3));\n",
              "      fill: #FFFFFF;\n",
              "    }\n",
              "  </style>\n",
              "\n",
              "      <script>\n",
              "        const buttonEl =\n",
              "          document.querySelector('#df-d899c9b4-2b84-420f-bb96-3ebbdb1313d6 button.colab-df-convert');\n",
              "        buttonEl.style.display =\n",
              "          google.colab.kernel.accessAllowed ? 'block' : 'none';\n",
              "\n",
              "        async function convertToInteractive(key) {\n",
              "          const element = document.querySelector('#df-d899c9b4-2b84-420f-bb96-3ebbdb1313d6');\n",
              "          const dataTable =\n",
              "            await google.colab.kernel.invokeFunction('convertToInteractive',\n",
              "                                                     [key], {});\n",
              "          if (!dataTable) return;\n",
              "\n",
              "          const docLinkHtml = 'Like what you see? Visit the ' +\n",
              "            '<a target=\"_blank\" href=https://colab.research.google.com/notebooks/data_table.ipynb>data table notebook</a>'\n",
              "            + ' to learn more about interactive tables.';\n",
              "          element.innerHTML = '';\n",
              "          dataTable['output_type'] = 'display_data';\n",
              "          await google.colab.output.renderOutput(dataTable, element);\n",
              "          const docLink = document.createElement('div');\n",
              "          docLink.innerHTML = docLinkHtml;\n",
              "          element.appendChild(docLink);\n",
              "        }\n",
              "      </script>\n",
              "    </div>\n",
              "  </div>\n",
              "  "
            ]
          },
          "metadata": {},
          "execution_count": 26
        }
      ]
    },
    {
      "cell_type": "code",
      "source": [
        "\"\"\" Variance ratio \n",
        "    1. if we choose to replace the original four columns with\n",
        "    features PC1, they will capture 92.3% of the variance od the initial \n",
        "    variables, with some approximations introduced by not capturing 100%\n",
        "\n",
        "    2. if we choose to replace with PC1 and PC2, then we will capture an \n",
        "    additional 5.3% of the variance of the initial variables \n",
        "\n",
        "    3. if we choose to replace with PC1, PC2, and PC3, then we will now \n",
        "    capture a further 0.017% of the variance of the initial variables\n",
        "\n",
        "    4. if we choose to replace the original four variables, with four \n",
        "    features PC1, PC2, PC3 and PC4 then we will capture 100% of the variances\n",
        "    of the original variables (92.4 + 0.053 + 0.017 + 0.005). But replacing\n",
        "    with PC1-PC4 is meaningless as we did not reduce the dimentionality, \n",
        "    which remains 4 and we haven't achieved it. \n",
        "\"\"\"\n",
        "print(fit_.explained_variance_ratio_)"
      ],
      "metadata": {
        "colab": {
          "base_uri": "https://localhost:8080/"
        },
        "id": "hYETRoQCorsG",
        "outputId": "0faee2e8-2922-4b2b-9a1d-fc11d03a7c77"
      },
      "execution_count": null,
      "outputs": [
        {
          "output_type": "stream",
          "name": "stdout",
          "text": [
            "[0.92461621 0.05301557 0.01718514 0.00518309]\n"
          ]
        }
      ]
    },
    {
      "cell_type": "markdown",
      "source": [
        "**Limitations of PCA** \n",
        "\n",
        "1. PCA can only be used for continuous variables and not categories \n",
        "2. PCA simplifies the problem with the dimensionality reduction at the expense of accuracy. This is a trade-off studied before being used. \n"
      ],
      "metadata": {
        "id": "a4RLRkJLqh_F"
      }
    },
    {
      "cell_type": "markdown",
      "source": [
        "Classification (continuing with the dataset used for PCA)"
      ],
      "metadata": {
        "id": "qfBwUsnD2ElA"
      }
    },
    {
      "cell_type": "code",
      "source": [
        "uploaded = files.upload()\n",
        "for fn in uploaded.keys():\n",
        "  print('User uploaded file \"{name}\" with length {length} bytes'.format(\n",
        "      name=fn, length=len(uploaded[fn])))\n"
      ],
      "metadata": {
        "colab": {
          "base_uri": "https://localhost:8080/",
          "height": 92
        },
        "id": "acDRHVratXak",
        "outputId": "41b35dbd-f20f-4d88-fab8-081d5455e83b"
      },
      "execution_count": null,
      "outputs": [
        {
          "output_type": "display_data",
          "data": {
            "text/plain": [
              "<IPython.core.display.HTML object>"
            ],
            "text/html": [
              "\n",
              "     <input type=\"file\" id=\"files-c6a603f2-6b24-4437-ab84-1e5be745d0bb\" name=\"files[]\" multiple disabled\n",
              "        style=\"border:none\" />\n",
              "     <output id=\"result-c6a603f2-6b24-4437-ab84-1e5be745d0bb\">\n",
              "      Upload widget is only available when the cell has been executed in the\n",
              "      current browser session. Please rerun this cell to enable.\n",
              "      </output>\n",
              "      <script>// Copyright 2017 Google LLC\n",
              "//\n",
              "// Licensed under the Apache License, Version 2.0 (the \"License\");\n",
              "// you may not use this file except in compliance with the License.\n",
              "// You may obtain a copy of the License at\n",
              "//\n",
              "//      http://www.apache.org/licenses/LICENSE-2.0\n",
              "//\n",
              "// Unless required by applicable law or agreed to in writing, software\n",
              "// distributed under the License is distributed on an \"AS IS\" BASIS,\n",
              "// WITHOUT WARRANTIES OR CONDITIONS OF ANY KIND, either express or implied.\n",
              "// See the License for the specific language governing permissions and\n",
              "// limitations under the License.\n",
              "\n",
              "/**\n",
              " * @fileoverview Helpers for google.colab Python module.\n",
              " */\n",
              "(function(scope) {\n",
              "function span(text, styleAttributes = {}) {\n",
              "  const element = document.createElement('span');\n",
              "  element.textContent = text;\n",
              "  for (const key of Object.keys(styleAttributes)) {\n",
              "    element.style[key] = styleAttributes[key];\n",
              "  }\n",
              "  return element;\n",
              "}\n",
              "\n",
              "// Max number of bytes which will be uploaded at a time.\n",
              "const MAX_PAYLOAD_SIZE = 100 * 1024;\n",
              "\n",
              "function _uploadFiles(inputId, outputId) {\n",
              "  const steps = uploadFilesStep(inputId, outputId);\n",
              "  const outputElement = document.getElementById(outputId);\n",
              "  // Cache steps on the outputElement to make it available for the next call\n",
              "  // to uploadFilesContinue from Python.\n",
              "  outputElement.steps = steps;\n",
              "\n",
              "  return _uploadFilesContinue(outputId);\n",
              "}\n",
              "\n",
              "// This is roughly an async generator (not supported in the browser yet),\n",
              "// where there are multiple asynchronous steps and the Python side is going\n",
              "// to poll for completion of each step.\n",
              "// This uses a Promise to block the python side on completion of each step,\n",
              "// then passes the result of the previous step as the input to the next step.\n",
              "function _uploadFilesContinue(outputId) {\n",
              "  const outputElement = document.getElementById(outputId);\n",
              "  const steps = outputElement.steps;\n",
              "\n",
              "  const next = steps.next(outputElement.lastPromiseValue);\n",
              "  return Promise.resolve(next.value.promise).then((value) => {\n",
              "    // Cache the last promise value to make it available to the next\n",
              "    // step of the generator.\n",
              "    outputElement.lastPromiseValue = value;\n",
              "    return next.value.response;\n",
              "  });\n",
              "}\n",
              "\n",
              "/**\n",
              " * Generator function which is called between each async step of the upload\n",
              " * process.\n",
              " * @param {string} inputId Element ID of the input file picker element.\n",
              " * @param {string} outputId Element ID of the output display.\n",
              " * @return {!Iterable<!Object>} Iterable of next steps.\n",
              " */\n",
              "function* uploadFilesStep(inputId, outputId) {\n",
              "  const inputElement = document.getElementById(inputId);\n",
              "  inputElement.disabled = false;\n",
              "\n",
              "  const outputElement = document.getElementById(outputId);\n",
              "  outputElement.innerHTML = '';\n",
              "\n",
              "  const pickedPromise = new Promise((resolve) => {\n",
              "    inputElement.addEventListener('change', (e) => {\n",
              "      resolve(e.target.files);\n",
              "    });\n",
              "  });\n",
              "\n",
              "  const cancel = document.createElement('button');\n",
              "  inputElement.parentElement.appendChild(cancel);\n",
              "  cancel.textContent = 'Cancel upload';\n",
              "  const cancelPromise = new Promise((resolve) => {\n",
              "    cancel.onclick = () => {\n",
              "      resolve(null);\n",
              "    };\n",
              "  });\n",
              "\n",
              "  // Wait for the user to pick the files.\n",
              "  const files = yield {\n",
              "    promise: Promise.race([pickedPromise, cancelPromise]),\n",
              "    response: {\n",
              "      action: 'starting',\n",
              "    }\n",
              "  };\n",
              "\n",
              "  cancel.remove();\n",
              "\n",
              "  // Disable the input element since further picks are not allowed.\n",
              "  inputElement.disabled = true;\n",
              "\n",
              "  if (!files) {\n",
              "    return {\n",
              "      response: {\n",
              "        action: 'complete',\n",
              "      }\n",
              "    };\n",
              "  }\n",
              "\n",
              "  for (const file of files) {\n",
              "    const li = document.createElement('li');\n",
              "    li.append(span(file.name, {fontWeight: 'bold'}));\n",
              "    li.append(span(\n",
              "        `(${file.type || 'n/a'}) - ${file.size} bytes, ` +\n",
              "        `last modified: ${\n",
              "            file.lastModifiedDate ? file.lastModifiedDate.toLocaleDateString() :\n",
              "                                    'n/a'} - `));\n",
              "    const percent = span('0% done');\n",
              "    li.appendChild(percent);\n",
              "\n",
              "    outputElement.appendChild(li);\n",
              "\n",
              "    const fileDataPromise = new Promise((resolve) => {\n",
              "      const reader = new FileReader();\n",
              "      reader.onload = (e) => {\n",
              "        resolve(e.target.result);\n",
              "      };\n",
              "      reader.readAsArrayBuffer(file);\n",
              "    });\n",
              "    // Wait for the data to be ready.\n",
              "    let fileData = yield {\n",
              "      promise: fileDataPromise,\n",
              "      response: {\n",
              "        action: 'continue',\n",
              "      }\n",
              "    };\n",
              "\n",
              "    // Use a chunked sending to avoid message size limits. See b/62115660.\n",
              "    let position = 0;\n",
              "    do {\n",
              "      const length = Math.min(fileData.byteLength - position, MAX_PAYLOAD_SIZE);\n",
              "      const chunk = new Uint8Array(fileData, position, length);\n",
              "      position += length;\n",
              "\n",
              "      const base64 = btoa(String.fromCharCode.apply(null, chunk));\n",
              "      yield {\n",
              "        response: {\n",
              "          action: 'append',\n",
              "          file: file.name,\n",
              "          data: base64,\n",
              "        },\n",
              "      };\n",
              "\n",
              "      let percentDone = fileData.byteLength === 0 ?\n",
              "          100 :\n",
              "          Math.round((position / fileData.byteLength) * 100);\n",
              "      percent.textContent = `${percentDone}% done`;\n",
              "\n",
              "    } while (position < fileData.byteLength);\n",
              "  }\n",
              "\n",
              "  // All done.\n",
              "  yield {\n",
              "    response: {\n",
              "      action: 'complete',\n",
              "    }\n",
              "  };\n",
              "}\n",
              "\n",
              "scope.google = scope.google || {};\n",
              "scope.google.colab = scope.google.colab || {};\n",
              "scope.google.colab._files = {\n",
              "  _uploadFiles,\n",
              "  _uploadFilesContinue,\n",
              "};\n",
              "})(self);\n",
              "</script> "
            ]
          },
          "metadata": {}
        },
        {
          "output_type": "stream",
          "name": "stdout",
          "text": [
            "Saving iris.csv to iris.csv\n",
            "User uploaded file \"iris.csv\" with length 4551 bytes\n"
          ]
        }
      ]
    },
    {
      "cell_type": "code",
      "source": [
        "\"\"\" classifications with iris dataset \"\"\" \n",
        "from google.colab import files\n",
        "from pandas import read_csv\n",
        "from pandas.plotting import scatter_matrix\n",
        "\n",
        "\"\"\" load the dataset \"\"\" \n",
        "names_ = ['s-length', 's-width', 'p-length', 'p-width', 'class']\n",
        "dataset = read_csv('iris.csv', header=None, names=names_)\n",
        "\n",
        "#dataset.shape, dataframe.describe(), dataframe.groupby('class').size()\n",
        "#scatter_matrix(dataframe), dataframe.describe()\n",
        "\"\"\" visualization \"\"\" \n",
        "import matplotlib \n",
        "from matplotlib import pyplot\n",
        "import pandas.plotting\n",
        "\n",
        "\"\"\" box plots \"\"\"\n",
        "dataset.plot(kind='box', subplots=True, layout=(2,2), sharex=False, sharey=False)\n",
        "pyplot.show()"
      ],
      "metadata": {
        "colab": {
          "base_uri": "https://localhost:8080/",
          "height": 267
        },
        "id": "AbC-5lw8X2M1",
        "outputId": "c5f1d84f-b254-48e8-b5ce-0fded783a3a6"
      },
      "execution_count": null,
      "outputs": [
        {
          "output_type": "display_data",
          "data": {
            "text/plain": [
              "<Figure size 432x288 with 4 Axes>"
            ],
            "image/png": "[encoded data removed]"
          },
          "metadata": {
            "needs_background": "light"
          }
        }
      ]
    },
    {
      "cell_type": "code",
      "source": [
        "\"\"\" histograms \"\"\"\n",
        "dataset.hist()\n",
        "pyplot.show()"
      ],
      "metadata": {
        "colab": {
          "base_uri": "https://localhost:8080/",
          "height": 281
        },
        "id": "p2VJ-LHiX2Y1",
        "outputId": "9d004f4f-7db5-4e47-e78f-2d8d6973ddaa"
      },
      "execution_count": null,
      "outputs": [
        {
          "output_type": "display_data",
          "data": {
            "text/plain": [
              "<Figure size 432x288 with 4 Axes>"
            ],
            "image/png": "[encoded data removed]"
          },
          "metadata": {
            "needs_background": "light"
          }
        }
      ]
    },
    {
      "cell_type": "code",
      "source": [
        "\"\"\" scatter plot matrix \"\"\" \n",
        "scatter_matrix(dataset)\n",
        "pyplot.show()"
      ],
      "metadata": {
        "colab": {
          "base_uri": "https://localhost:8080/",
          "height": 282
        },
        "id": "D2QVCLW5t3i9",
        "outputId": "1b5cc361-9b73-400b-e487-96b5d54a75ef"
      },
      "execution_count": null,
      "outputs": [
        {
          "output_type": "display_data",
          "data": {
            "text/plain": [
              "<Figure size 432x288 with 16 Axes>"
            ],
            "image/png": "[encoded data removed]"
          },
          "metadata": {
            "needs_background": "light"
          }
        }
      ]
    },
    {
      "cell_type": "code",
      "source": [
        "from sklearn.model_selection import train_test_split\n",
        "from sklearn.model_selection import KFold \n",
        "from sklearn.model_selection import cross_val_score \n",
        "\n",
        "from sklearn.linear_model import LogisticRegression\n",
        "from sklearn.tree import DecisionTreeClassifier\n",
        "from sklearn.neighbors import KNeighborsClassifier\n",
        "from sklearn.discriminant_analysis import LinearDiscriminantAnalysis\n",
        "from sklearn.naive_bayes import GaussianNB\n",
        "from sklearn.svm import SVC \n",
        "\n",
        "from sklearn.metrics import classification_report\n",
        "from sklearn.metrics import confusion_matrix \n",
        "from sklearn.metrics import accuracy_score \n",
        "\n",
        "\"\"\" split out the data \"\"\" \n",
        "array = dataset.values \n",
        "X_ = array[:, 0:4]\n",
        "Y_ = array[:, 4]\n",
        "validation_size = 0.20 \n",
        "seed = 7 \n",
        "X_train, X_validation, Y_train, Y_validation = \\\n",
        "  train_test_split(X_, Y_, test_size=validation_size, random_state=seed)\n",
        "\n",
        "\"\"\" spot check algorithms \"\"\" \n",
        "models = \\\n",
        "  [('LR', LogisticRegression(multi_class='ovr', solver='liblinear')),\n",
        "   ('LDA', LinearDiscriminantAnalysis()),\n",
        "   ('KNN', KNeighborsClassifier()),\n",
        "   ('CART', DecisionTreeClassifier()),\n",
        "   ('NB', GaussianNB()),\n",
        "   ('SVM', SVC(gamma='auto'))]\n",
        "results = []\n",
        "names = []\n",
        "for name, model in models:\n",
        "  kfold = KFold(n_splits=10, random_state=seed, shuffle=True)\n",
        "  cv_results = cross_val_score(model, X_train, Y_train, cv=kfold, scoring = 'accuracy')\n",
        "  results.append(cv_results)\n",
        "  names.append(name)\n",
        "  msg = '%s %f (%f)' \\\n",
        "        % (name, cv_results.mean(), cv_results.std())\n",
        "  print(msg)\n",
        "\n",
        "\"\"\" compare algorithms \"\"\" \n",
        "fig = pyplot.figure()\n",
        "fig.suptitle('Algorithm comparison')\n",
        "ax = fig.add_subplot(111)\n",
        "pyplot.boxplot(results)\n",
        "ax.set_xticklabels(names)\n",
        "pyplot.show()\n"
      ],
      "metadata": {
        "colab": {
          "base_uri": "https://localhost:8080/",
          "height": 401
        },
        "id": "U4sZ_vt-uL-s",
        "outputId": "de33b70e-d13f-48af-f4a7-6166393b6ce8"
      },
      "execution_count": null,
      "outputs": [
        {
          "output_type": "stream",
          "name": "stdout",
          "text": [
            "LR 0.958333 (0.055902)\n",
            "LDA 0.975000 (0.038188)\n",
            "KNN 0.983333 (0.033333)\n",
            "CART 0.950000 (0.076376)\n",
            "NB 0.966667 (0.040825)\n",
            "SVM 0.991667 (0.025000)\n"
          ]
        },
        {
          "output_type": "display_data",
          "data": {
            "text/plain": [
              "<Figure size 432x288 with 1 Axes>"
            ],
            "image/png": "[encoded data removed]"
          },
          "metadata": {
            "needs_background": "light"
          }
        }
      ]
    },
    {
      "cell_type": "code",
      "source": [
        "\"\"\" make predictions on validation sets \"\"\" \n",
        "knn_ = KNeighborsClassifier()\n",
        "knn_.fit(X_train, Y_train)\n",
        "predictions = knn_.predict(X_validation)\n",
        "accuracy_score(Y_validation, predictions)"
      ],
      "metadata": {
        "colab": {
          "base_uri": "https://localhost:8080/"
        },
        "id": "cWRx4-2CuMOr",
        "outputId": "2af52017-84bd-418e-c444-2f4549b7bf00"
      },
      "execution_count": null,
      "outputs": [
        {
          "output_type": "execute_result",
          "data": {
            "text/plain": [
              "0.9"
            ]
          },
          "metadata": {},
          "execution_count": 30
        }
      ]
    },
    {
      "cell_type": "code",
      "source": [
        "confusion_matrix(Y_validation, predictions)"
      ],
      "metadata": {
        "colab": {
          "base_uri": "https://localhost:8080/"
        },
        "id": "OP-b6ioU1Hq0",
        "outputId": "bb290dbd-daf8-4b41-80f0-31998cb61150"
      },
      "execution_count": null,
      "outputs": [
        {
          "output_type": "execute_result",
          "data": {
            "text/plain": [
              "array([[ 7,  0,  0],\n",
              "       [ 0, 11,  1],\n",
              "       [ 0,  2,  9]])"
            ]
          },
          "metadata": {},
          "execution_count": 31
        }
      ]
    },
    {
      "cell_type": "code",
      "source": [
        "print(classification_report(Y_validation, predictions))"
      ],
      "metadata": {
        "colab": {
          "base_uri": "https://localhost:8080/"
        },
        "id": "XQxKOQpV1LPP",
        "outputId": "b8febeb1-d34c-40f6-fc95-22e8dd342637"
      },
      "execution_count": null,
      "outputs": [
        {
          "output_type": "stream",
          "name": "stdout",
          "text": [
            "                 precision    recall  f1-score   support\n",
            "\n",
            "    Iris-setosa       1.00      1.00      1.00         7\n",
            "Iris-versicolor       0.85      0.92      0.88        12\n",
            " Iris-virginica       0.90      0.82      0.86        11\n",
            "\n",
            "       accuracy                           0.90        30\n",
            "      macro avg       0.92      0.91      0.91        30\n",
            "   weighted avg       0.90      0.90      0.90        30\n",
            "\n"
          ]
        }
      ]
    },
    {
      "cell_type": "code",
      "source": [
        "X['PC1'][:] \n",
        "type(array)\n",
        "xy = np.array([X['PC1'][0:4], X['PC2'][0:4], X['PC3'][0:4]])\n",
        "array_ = np.array(X[:][:])\n",
        "array.shape, array_.shape, X.shape\n",
        "X_ = array_[:, 4:8]\n",
        "Y_ = array_[:, 4]\n",
        "X_.shape, Y_.shape"
      ],
      "metadata": {
        "colab": {
          "base_uri": "https://localhost:8080/"
        },
        "id": "-2RLN_p52_Hy",
        "outputId": "85208049-a58e-4738-941e-c9e210193f1b"
      },
      "execution_count": null,
      "outputs": [
        {
          "output_type": "execute_result",
          "data": {
            "text/plain": [
              "((150, 4), (150,))"
            ]
          },
          "metadata": {},
          "execution_count": 33
        }
      ]
    },
    {
      "cell_type": "code",
      "source": [
        "array = dataset.values \n",
        "X_ = array[:, 0:4]\n",
        "Y_ = array[:, 4]\n",
        "X_.shape, Y_.shape"
      ],
      "metadata": {
        "colab": {
          "base_uri": "https://localhost:8080/"
        },
        "id": "wMEZ8bi7-Lv2",
        "outputId": "52f87899-1a19-417f-9d29-40cb71b7f631"
      },
      "execution_count": null,
      "outputs": [
        {
          "output_type": "execute_result",
          "data": {
            "text/plain": [
              "((150, 4), (150,))"
            ]
          },
          "metadata": {},
          "execution_count": 34
        }
      ]
    },
    {
      "cell_type": "code",
      "source": [
        "\"\"\" use PCA - TBD \"\"\""
      ],
      "metadata": {
        "id": "JS3FXtcL-biv"
      },
      "execution_count": null,
      "outputs": []
    },
    {
      "cell_type": "code",
      "source": [
        "\"\"\" data and model encryption with the iris dataset \"\"\" \n",
        "import cryptography as crypt \n",
        "from cryptography.fernet import Fernet\n",
        "from sklearn.linear_model import LogisticRegression\n",
        "from sklearn.model_selection import train_test_split \n",
        "from sklearn.datasets import load_iris \n",
        "import pickle\n",
        "from pickle import dump \n",
        "\n",
        "\n",
        "iris_2 = load_iris()\n",
        "X = iris_2.data \n",
        "y = iris_2.target \n",
        "\n",
        "\"\"\"\n",
        "array = dataset.values \n",
        "X_ = array[:, 0:4]\n",
        "Y_ = array[:, 4]\n",
        "seed = 7 \n",
        "\"\"\"\n",
        "\n",
        "X_train, X_test, y_train, y_test = train_test_split(X,y)\n",
        "model = LogisticRegression()\n",
        "model.fit(X_train, y_train)\n",
        "file_source = 'model_source_.sav'\n",
        "file_destination = 'model_destination.sav'\n",
        "file_secure = 'model_secure.sav'\n",
        "dump(model, open(file_source, 'wb'))\n",
        "\"\"\" generate a symmetric key and store in the key file \"\"\" \n",
        "def write_key():\n",
        "  key = Fernet.generate_key()\n",
        "  with open('key.key', 'wb') as key_file:\n",
        "    key_file.write(key)\n",
        "def load_key():\n",
        "  return open('keys.key', 'rb').read()\n",
        "\"\"\" encrypt function that encrypts the train model, and stores it \"\"\" \n",
        "def encrypt(file_source, key):\n",
        "  f = Fernet(key)\n",
        "  with open(file_source, 'rb') as file:\n",
        "    file_data = file.read()\n",
        "  encrypted_data = f.encrypt(file_data)\n",
        "  with open(file_secure, 'wb') as file: \n",
        "    file.write(encrypted_data)\n",
        "\n",
        "write_key()\n",
        "encrypt(file_source, load_key())\n",
        "\n",
        "\"\"\" unencrypt file to load the model for use for predictions \"\"\" \n",
        "def decrypt(file_secure, key):\n",
        "  f = Fernet(key)\n",
        "  with open(file_secure, 'rb') as file:\n",
        "    encrypted_data = file.read()\n",
        "  decrypted_data = f.decrypt(encrypted_data)\n",
        "  with open(file_destination, 'wb') as file: \n",
        "    file.write(decrypted_data)\n",
        "\n",
        "decrypt(file_secure, load_key())\n",
        "\n",
        "loaded_model = pickle.load(open(file_destination, 'rb'))\n",
        "result_ = loaded_model.score(X_test, y_test)\n",
        "result_ "
      ],
      "metadata": {
        "colab": {
          "base_uri": "https://localhost:8080/"
        },
        "id": "2qaddKJWM2fF",
        "outputId": "4b15833f-095b-45bf-8489-f082e2f8e0e9"
      },
      "execution_count": null,
      "outputs": [
        {
          "output_type": "execute_result",
          "data": {
            "text/plain": [
              "0.9736842105263158"
            ]
          },
          "metadata": {},
          "execution_count": 131
        }
      ]
    },
    {
      "cell_type": "markdown",
      "source": [
        "# Scaling Datasets"
      ],
      "metadata": {
        "id": "nkeK3JrmsabU"
      }
    },
    {
      "cell_type": "code",
      "source": [
        "import numpy as np\n",
        "nb_samples = 200 \n",
        "mu_ = [1.0, 1.0]\n",
        "covm_ = [[2.0, 0.0], [0.0, 0.8]]\n",
        "X = np.random.multivariate_normal(mean=mu_, cov=covm_, size=nb_samples)\n",
        "X[3:7]"
      ],
      "metadata": {
        "colab": {
          "base_uri": "https://localhost:8080/"
        },
        "id": "P_4uw_F-SgSv",
        "outputId": "19cea6fd-20fd-43d9-9968-9359d679e3d9"
      },
      "execution_count": null,
      "outputs": [
        {
          "output_type": "execute_result",
          "data": {
            "text/plain": [
              "array([[-0.38293445,  2.28796752],\n",
              "       [-1.38710061,  0.15506247],\n",
              "       [ 1.83595505, -0.19979202],\n",
              "       [ 1.07752566,  0.71118854]])"
            ]
          },
          "metadata": {},
          "execution_count": 4
        }
      ]
    },
    {
      "cell_type": "code",
      "source": [
        "from sklearn.preprocessing import StandardScaler, RobustScaler, MinMaxScaler\n",
        "ss = StandardScaler()\n",
        "X_ss = ss.fit_transform(X)\n",
        "rs = RobustScaler(quantile_range=(10, 90))\n",
        "X_rs = rs.fit_transform(X)\n",
        "mms = MinMaxScaler(feature_range=(-1, 1))\n",
        "X_mms = mms.fit_transform(X)"
      ],
      "metadata": {
        "id": "4CaR0cQAtJcu"
      },
      "execution_count": null,
      "outputs": []
    },
    {
      "cell_type": "markdown",
      "source": [
        "# Association Rules\n",
        "  - trivial, inexplicable, actionable \n",
        "\n",
        "# Ranking rules\n",
        "  - support (frequency of items): \n",
        "      - how frequent a pattern we are looking for is in the dataset \n",
        "      - support(itemset_alpha) = num_itemset_alpha/num_total \n",
        "  - confidence:\n",
        "      - the number that quantifies how strongly we can associate the left side (X) and the right side (Y) by calculating conditional probability \n",
        "      - confidence(x->y) = support(X union Y) / support(X) \n",
        "  - lift: \n",
        "      - another way to estimate the quality of a rule by calculating the lift\n",
        "      - it returns a number that quantifies how much improvement has been achieved by a rule at predicting the result compared to just assuming the result at the right-hand side of the equation. If X and Y itemsets are independent, then the lift is calculated by the formula \n",
        "      - lift(x->y) = support(X union Y) / support(X)xsupport(Y)\n",
        "  \n",
        "\n",
        "# Algorithms\n",
        "  - Apriori algorithm \n",
        "      - candidate generation phase \n",
        "      - filter phase filters out the rules below expected confidence threshold \n",
        "  - FP-growth algorithm \n",
        "      - populating FP tree \n",
        "      - mining frequent patterns "
      ],
      "metadata": {
        "id": "a-yB2dZS-1ow"
      }
    },
    {
      "cell_type": "markdown",
      "source": [
        "# FP-Growth Algorithm"
      ],
      "metadata": {
        "id": "aC4v2g4TDdto"
      }
    },
    {
      "cell_type": "code",
      "source": [
        "!pip install pyfpgrowth"
      ],
      "metadata": {
        "colab": {
          "base_uri": "https://localhost:8080/"
        },
        "id": "0ac4mBNKHT6L",
        "outputId": "6ce7bd7d-0627-404a-a9d3-d1a43375e650"
      },
      "execution_count": null,
      "outputs": [
        {
          "output_type": "stream",
          "name": "stdout",
          "text": [
            "Looking in indexes: https://pypi.org/simple, https://us-python.pkg.dev/colab-wheels/public/simple/\n",
            "Collecting pyfpgrowth\n",
            "  Downloading pyfpgrowth-1.0.tar.gz (1.6 MB)\n",
            "\u001b[K     |████████████████████████████████| 1.6 MB 5.1 MB/s \n",
            "\u001b[?25hBuilding wheels for collected packages: pyfpgrowth\n",
            "  Building wheel for pyfpgrowth (setup.py) ... \u001b[?25l\u001b[?25hdone\n",
            "  Created wheel for pyfpgrowth: filename=pyfpgrowth-1.0-py2.py3-none-any.whl size=5505 sha256=a2263059db96b58e38bb8be6ee9659ed2eaca132a42d032e75e5a76850b06d59\n",
            "  Stored in directory: /root/.cache/pip/wheels/29/e2/a7/ccb34c35e2c6737d3f09b53784f4323b7ff556a5f02096c70d\n",
            "Successfully built pyfpgrowth\n",
            "Installing collected packages: pyfpgrowth\n",
            "Successfully installed pyfpgrowth-1.0\n"
          ]
        }
      ]
    },
    {
      "cell_type": "code",
      "source": [
        "import pyfpgrowth as fp\n",
        "dictionary_1 = {\n",
        "    'id': [0,1,2,3],\n",
        "    'items': [\n",
        "        ['wickets', 'pads'],\n",
        "        ['bat', 'wickets', 'pads', 'helmet'],\n",
        "        ['helmet', 'pad'],\n",
        "        ['bat', 'pads', 'helmet']]\n",
        "}\n",
        "transaction_set = pd.DataFrame(dictionary_1)\n",
        "print(transaction_set)"
      ],
      "metadata": {
        "colab": {
          "base_uri": "https://localhost:8080/"
        },
        "id": "Zz6Dsx8wHbvu",
        "outputId": "09a8a2be-aac1-49fe-ef7d-a4e9bf5fbf97"
      },
      "execution_count": null,
      "outputs": [
        {
          "output_type": "stream",
          "name": "stdout",
          "text": [
            "   id                         items\n",
            "0   0               [wickets, pads]\n",
            "1   1  [bat, wickets, pads, helmet]\n",
            "2   2                 [helmet, pad]\n",
            "3   3           [bat, pads, helmet]\n"
          ]
        }
      ]
    },
    {
      "cell_type": "code",
      "source": [
        "\"\"\" code, analysis, discuss the limitations \"\"\" \n",
        "# ItemSet_CandidateRules = { item1, item2,..., itemm} 2^m possible itemsets \n",
        "patterns = fp.find_frequent_patterns(transaction_set['items'], 1)\n",
        "patterns"
      ],
      "metadata": {
        "colab": {
          "base_uri": "https://localhost:8080/"
        },
        "id": "LN8zWtowDd8_",
        "outputId": "cfaf889a-de47-4d86-8363-adc27385b88d"
      },
      "execution_count": null,
      "outputs": [
        {
          "output_type": "execute_result",
          "data": {
            "text/plain": [
              "{('pad',): 1,\n",
              " ('helmet', 'pad'): 1,\n",
              " ('wickets',): 2,\n",
              " ('pads', 'wickets'): 2,\n",
              " ('bat', 'wickets'): 1,\n",
              " ('helmet', 'wickets'): 1,\n",
              " ('bat', 'pads', 'wickets'): 1,\n",
              " ('helmet', 'pads', 'wickets'): 1,\n",
              " ('bat', 'helmet', 'wickets'): 1,\n",
              " ('bat', 'helmet', 'pads', 'wickets'): 1,\n",
              " ('bat',): 2,\n",
              " ('bat', 'helmet'): 2,\n",
              " ('bat', 'pads'): 2,\n",
              " ('bat', 'helmet', 'pads'): 2,\n",
              " ('pads',): 3,\n",
              " ('helmet',): 3,\n",
              " ('helmet', 'pads'): 2}"
            ]
          },
          "metadata": {},
          "execution_count": 36
        }
      ]
    },
    {
      "cell_type": "code",
      "source": [
        "# generate the rules \n",
        "rules = fp.generate_association_rules(patterns, 0.4)\n",
        "rules"
      ],
      "metadata": {
        "colab": {
          "base_uri": "https://localhost:8080/"
        },
        "id": "ZW7CTk0YDecP",
        "outputId": "1e91bce3-59e0-4efa-d15d-e8d57e8e3525"
      },
      "execution_count": null,
      "outputs": [
        {
          "output_type": "execute_result",
          "data": {
            "text/plain": [
              "{('pad',): (('helmet',), 1.0),\n",
              " ('pads',): (('helmet',), 0.6666666666666666),\n",
              " ('wickets',): (('bat', 'helmet', 'pads'), 0.5),\n",
              " ('bat',): (('helmet', 'pads'), 1.0),\n",
              " ('bat', 'pads'): (('helmet',), 1.0),\n",
              " ('bat', 'wickets'): (('helmet', 'pads'), 1.0),\n",
              " ('pads', 'wickets'): (('bat', 'helmet'), 0.5),\n",
              " ('helmet', 'pads'): (('bat',), 1.0),\n",
              " ('helmet', 'wickets'): (('bat', 'pads'), 1.0),\n",
              " ('bat', 'helmet'): (('pads',), 1.0),\n",
              " ('bat', 'helmet', 'pads'): (('wickets',), 0.5),\n",
              " ('bat', 'helmet', 'wickets'): (('pads',), 1.0),\n",
              " ('bat', 'pads', 'wickets'): (('helmet',), 1.0),\n",
              " ('helmet', 'pads', 'wickets'): (('bat',), 1.0),\n",
              " ('helmet',): (('pads',), 0.6666666666666666)}"
            ]
          },
          "metadata": {},
          "execution_count": 37
        }
      ]
    },
    {
      "cell_type": "markdown",
      "source": [
        "# Twitter Use Case\n",
        "\n",
        "Unsupervised learning - clustering similar tweets together \n",
        "- **Step1**: Topic Modeling (various topics from a given set of tweets)\n",
        "    - Latent Dirichlet Allocation \n",
        "    - tokenize tweets \n",
        "    - preprocess the data, remove the stopwrods, numbers, symbols and perform stemming \n",
        "    - create a term-document-matrix(TDM) for the tweets. Select the top 200 words that appear most frequently in unique tweets\n",
        "    - Select top 10 words that directly or indirectly represent a concept or a topic. The 10 words are now the topics that are successfully discovered and will become the cluster centers for the tweets\n",
        "- **Step2**: Clustering by associating each of the tweets with one of the \n",
        "discovered topics\n",
        "    - run K-means clustering algorithm that will assign each of the tweets to one f the cluster centers \n",
        "- Real-time processing of input data \n"
      ],
      "metadata": {
        "id": "91IoFEfB1kUc"
      }
    },
    {
      "cell_type": "markdown",
      "source": [
        "# Huffman coding"
      ],
      "metadata": {
        "id": "ST75BeBjOp_M"
      }
    },
    {
      "cell_type": "code",
      "source": [
        "\"\"\" \n",
        "coding, codeword, fixed-length coding, variable-length coding, prefix, eval \n",
        "\n",
        "character   frequency   fixed length variable length \n",
        "                        code          code \n",
        "_______________________________________________________\n",
        "    L         0.45      000           0\n",
        "    M         0.13      001           101 \n",
        "    N         0.12      010           100 \n",
        "    X         0.16      011           111\n",
        "    Y         0.09      100           1101\n",
        "    Z         0.05      101           1100\n",
        "\n",
        "\"\"\""
      ],
      "metadata": {
        "id": "Cp-cRrzGOpKd"
      },
      "execution_count": null,
      "outputs": []
    },
    {
      "cell_type": "code",
      "source": [
        "!pip install twitter"
      ],
      "metadata": {
        "colab": {
          "base_uri": "https://localhost:8080/"
        },
        "id": "_GSSBQSe2e9-",
        "outputId": "0ceefd82-25b2-43d5-c35f-bbaeca357cf7"
      },
      "execution_count": null,
      "outputs": [
        {
          "output_type": "stream",
          "name": "stdout",
          "text": [
            "Looking in indexes: https://pypi.org/simple, https://us-python.pkg.dev/colab-wheels/public/simple/\n",
            "Collecting twitter\n",
            "  Downloading twitter-1.19.6-py2.py3-none-any.whl (50 kB)\n",
            "\u001b[K     |████████████████████████████████| 50 kB 1.8 MB/s \n",
            "\u001b[?25hRequirement already satisfied: certifi in /usr/local/lib/python3.8/dist-packages (from twitter) (2022.9.24)\n",
            "Installing collected packages: twitter\n",
            "Successfully installed twitter-1.19.6\n"
          ]
        }
      ]
    },
    {
      "cell_type": "code",
      "source": [
        "!pip install vaderSentiment"
      ],
      "metadata": {
        "colab": {
          "base_uri": "https://localhost:8080/"
        },
        "id": "bKM--AJR3f0v",
        "outputId": "9b99ae82-9b04-4787-9783-689c56c9d306"
      },
      "execution_count": null,
      "outputs": [
        {
          "output_type": "stream",
          "name": "stdout",
          "text": [
            "Looking in indexes: https://pypi.org/simple, https://us-python.pkg.dev/colab-wheels/public/simple/\n",
            "Collecting vaderSentiment\n",
            "  Downloading vaderSentiment-3.3.2-py2.py3-none-any.whl (125 kB)\n",
            "\u001b[K     |████████████████████████████████| 125 kB 5.0 MB/s \n",
            "\u001b[?25hRequirement already satisfied: requests in /usr/local/lib/python3.8/dist-packages (from vaderSentiment) (2.23.0)\n",
            "Requirement already satisfied: chardet<4,>=3.0.2 in /usr/local/lib/python3.8/dist-packages (from requests->vaderSentiment) (3.0.4)\n",
            "Requirement already satisfied: idna<3,>=2.5 in /usr/local/lib/python3.8/dist-packages (from requests->vaderSentiment) (2.10)\n",
            "Requirement already satisfied: certifi>=2017.4.17 in /usr/local/lib/python3.8/dist-packages (from requests->vaderSentiment) (2022.9.24)\n",
            "Requirement already satisfied: urllib3!=1.25.0,!=1.25.1,<1.26,>=1.21.1 in /usr/local/lib/python3.8/dist-packages (from requests->vaderSentiment) (1.24.3)\n",
            "Installing collected packages: vaderSentiment\n",
            "Successfully installed vaderSentiment-3.3.2\n"
          ]
        }
      ]
    },
    {
      "cell_type": "code",
      "source": [
        "import ssl, urllib, urllib.request, urllib.parse, urllib.error, json\n",
        "\n",
        "TWITTER_URL = 'https://api.twitter.com/1.1/statuses/user_timeline.json'\n",
        "def oauth():\n",
        "  return {\n",
        "      'consumer_key': '',\n",
        "      'consumer_secret': '', \n",
        "      'token_key': '',\n",
        "      'token_secret': ''\n",
        "  }\n",
        "ctx = ssl.create_default_context()\n",
        "ctx.check_hostname = False \n",
        "ctx.verify_node = ssl.CERT_NONE\n",
        "\n",
        "# connection = urllib.request.urlopen(url, context=ctx)"
      ],
      "metadata": {
        "id": "ZdQeFb7RzX4G"
      },
      "execution_count": null,
      "outputs": []
    },
    {
      "cell_type": "code",
      "source": [
        "\"\"\" Twitter real time sentiment analysis \n",
        "7000 tweets per second on a variety of topics \n",
        "\n",
        "Capture real time the emotions of news from different sources \n",
        "  - import the needed packages, VADER \n",
        "  - VADER Valence Aware Dictionary and Sentiment Reasoner\n",
        "  - tweepy the Python based API to access twitter \n",
        "  - API keys to use the developer account for Authentication \n",
        "  - extract the tweets and create a graph to display the polarity of news \n",
        "    for each individual source \n",
        "  - produce and interpret summary statistics \n",
        "\"\"\" \n",
        "import tweepy, json, time\n",
        "from vaderSentiment.vaderSentiment import SentimentIntensityAnalyzer\n",
        "import pandas as pd\n",
        "analyzer = SentimentIntensityAnalyzer()\n",
        "\n",
        "twitter_consumer_key = '#########'\n",
        "twitter_consumer_secret = '###########'\n",
        "\n",
        "twitter_bearer_token = '###########'\n",
        "\n",
        "twitter_access_token = '###########'\n",
        "twitter_access_token_secret = '###########'\n",
        "\n",
        "twitter_client_secret = '###########'\n",
        "\n",
        "\"\"\" Tweepy API authentication \"\"\" \n",
        "auth = tweepy.OAuthHandler(twitter_consumer_key, \n",
        "                           twitter_consumer_secret)\n",
        "auth.set_access_token(twitter_access_token, \n",
        "                      twitter_access_token_secret)\n",
        "api = tweepy.API(auth, \n",
        "                wait_on_rate_limit=True, wait_on_rate_limit_notify=True,\n",
        "                parser=tweepy.parsers.JSONParser())\n",
        "\n",
        "user_ = api.me()\n",
        "\n",
        "#user_[id] == '1564454514'\n",
        "user_.get(id)"
      ],
      "metadata": {
        "id": "9ZVB2mSqO40v"
      },
      "execution_count": null,
      "outputs": []
    },
    {
      "cell_type": "code",
      "source": [
        "\"\"\" \n",
        "Auth URL -  https://twitter.com/i/oauth2/authorize\n",
        "Access Token URL -  https://api.twitter.com/2/oauth2/token\n",
        "Client ID - Your OAuth2.0 client ID from Dev Portal\n",
        "Client Secret - If you are using a confidential client\n",
        "Update Scope - Scopes to match the endpoints you want to connect to. \n",
        "\n",
        "\"\"\"\n",
        "print('Start ... collecting tweets from source')\n",
        "\n",
        "def user_timeline_tweets(news_sources):\n",
        "    arr_sentiments = []\n",
        "    for user in news_sources:\n",
        "      count_tweet = 100\n",
        "      print('Start tweets from %s'%user)\n",
        "      for x in range(5):\n",
        "        public_tweets = api.user_timeline(user, pages=x)\n",
        "        # print(public_tweets)\n",
        "        # for each tweet\n",
        "        for tweet in public_tweets:\n",
        "          # calculate the compund, _ive, -ive, and neutral value for each tweet \n",
        "          compound = analyzer.polarity_scores(tweet['text'])['compound']\n",
        "          pos_ = analyzer.polarity_scores(['text'])['pos']\n",
        "          neu_ = analyzer.polarity_scores(['text'])['neu']\n",
        "          neg_ = analyzer.polarity_scores(['text'])['neg']\n",
        "\n",
        "          arr_sentiments.append({\n",
        "              'Media': user,\n",
        "              'Tweet Text': tweet['text'],\n",
        "              'Compound': compound,\n",
        "              'Positive': pos_, \n",
        "              'Negative': neg_,\n",
        "              'Neutral': neu_, \n",
        "              'Date': tweet['created_at'],\n",
        "              'Tweets Ago': count_tweet})\n",
        "          count_tweet -=1\n",
        "\n",
        "    print('Done with extracting tweets')\n",
        "    return arr_sentiments\n",
        "\n"
      ],
      "metadata": {
        "colab": {
          "base_uri": "https://localhost:8080/"
        },
        "id": "_9GwX9rBO5BG",
        "outputId": "f306ddb9-924c-42eb-cd5a-72f1d3748647"
      },
      "execution_count": null,
      "outputs": [
        {
          "output_type": "stream",
          "name": "stdout",
          "text": [
            "Start ... collecting tweets from source\n"
          ]
        }
      ]
    },
    {
      "cell_type": "code",
      "source": [
        "#news_sources = ('@BBC', '@CBSNews', '@CNN',  '@FoxNews', '@TIME')\n",
        "news_sources = ('@FoxNews', '@CNN')\n",
        "\n",
        "array_sentiments = user_timeline_tweets(news_sources)\n",
        "type(array_sentiments)\n",
        "sentiments_df = pd.DataFrame(array_sentiments)"
      ],
      "metadata": {
        "colab": {
          "base_uri": "https://localhost:8080/"
        },
        "id": "w-prIgB2iFYm",
        "outputId": "1af6ba17-78d1-43e2-be5f-cbb5ea93de82"
      },
      "execution_count": null,
      "outputs": [
        {
          "output_type": "stream",
          "name": "stdout",
          "text": [
            "Start tweets from @FoxNews\n",
            "Start tweets from @CNN\n",
            "Done with extracting tweets\n"
          ]
        }
      ]
    },
    {
      "cell_type": "code",
      "source": [
        "from matplotlib import pyplot as plt\n",
        "for media in news_sources:\n",
        "  m_df = sentiments_df[sentiments_df['Media']==media]\n",
        "  plt.scatter(m_df['Tweets Ago'], m_df['Compound'], \n",
        "              marker = 'o', linewidth=0, alpha=0.8, label=media, \n",
        "              facecolors=m_df['Media'].map({\n",
        "                  '@FoxNews': 'red', '@CNN': 'blue'\n",
        "                  }))\n",
        "#'@FoxNews': 'red', '@CNN':'blue','@CBSNews': 'green',\n",
        "#'@BBC': 'pink', '@Time': 'purple'\n",
        "                 \n",
        "plt.legend(bbox_to_anchor=(1,1), title= 'Media Sources')\n",
        "plt.title('Sentiment analysis of Media tweets %s' \n",
        "          %(time.strftime('%x')), fontsize=14)\n",
        "plt.xlabel('Tweets ago')\n",
        "plt.ylabel('Tweet Polarity')\n",
        "plt.xlim(101, 0)\n",
        "plt.ylim(-1, 1)\n",
        "plt.grid(True)\n",
        "plt.show()\n",
        "sentiments_df['Media'], sentiments_df['Compound']\n",
        "sentiments__ = (sentiments_df.groupby('Media').mean()['Compound']) \n",
        "#print(sentiments__) \n",
        "print('most positive-popular', sentiments__[0])\n",
        "sentiments_df.groupby('Media').mean()"
      ],
      "metadata": {
        "colab": {
          "base_uri": "https://localhost:8080/",
          "height": 440
        },
        "id": "cAiJwAy9eZal",
        "outputId": "52b01555-ee0e-4b3b-8891-9a4bcd1df8eb"
      },
      "execution_count": null,
      "outputs": [
        {
          "output_type": "display_data",
          "data": {
            "text/plain": [
              "<Figure size 432x288 with 1 Axes>"
            ],
            "image/png": "[encoded data removed]"
          },
          "metadata": {
            "needs_background": "light"
          }
        },
        {
          "output_type": "stream",
          "name": "stdout",
          "text": [
            "most positive-popular 0.12549500000000002\n"
          ]
        },
        {
          "output_type": "execute_result",
          "data": {
            "text/plain": [
              "          Compound  Positive  Negative  Neutral  Tweets Ago\n",
              "Media                                                      \n",
              "@CNN      0.125495       0.0       0.0      1.0        50.5\n",
              "@FoxNews -0.015605       0.0       0.0      1.0        50.5"
            ],
            "text/html": [
              "\n",
              "  <div id=\"df-5f56dd03-3427-4063-a6b6-3701a2b16848\">\n",
              "    <div class=\"colab-df-container\">\n",
              "      <div>\n",
              "<style scoped>\n",
              "    .dataframe tbody tr th:only-of-type {\n",
              "        vertical-align: middle;\n",
              "    }\n",
              "\n",
              "    .dataframe tbody tr th {\n",
              "        vertical-align: top;\n",
              "    }\n",
              "\n",
              "    .dataframe thead th {\n",
              "        text-align: right;\n",
              "    }\n",
              "</style>\n",
              "<table border=\"1\" class=\"dataframe\">\n",
              "  <thead>\n",
              "    <tr style=\"text-align: right;\">\n",
              "      <th></th>\n",
              "      <th>Compound</th>\n",
              "      <th>Positive</th>\n",
              "      <th>Negative</th>\n",
              "      <th>Neutral</th>\n",
              "      <th>Tweets Ago</th>\n",
              "    </tr>\n",
              "    <tr>\n",
              "      <th>Media</th>\n",
              "      <th></th>\n",
              "      <th></th>\n",
              "      <th></th>\n",
              "      <th></th>\n",
              "      <th></th>\n",
              "    </tr>\n",
              "  </thead>\n",
              "  <tbody>\n",
              "    <tr>\n",
              "      <th>@CNN</th>\n",
              "      <td>0.125495</td>\n",
              "      <td>0.0</td>\n",
              "      <td>0.0</td>\n",
              "      <td>1.0</td>\n",
              "      <td>50.5</td>\n",
              "    </tr>\n",
              "    <tr>\n",
              "      <th>@FoxNews</th>\n",
              "      <td>-0.015605</td>\n",
              "      <td>0.0</td>\n",
              "      <td>0.0</td>\n",
              "      <td>1.0</td>\n",
              "      <td>50.5</td>\n",
              "    </tr>\n",
              "  </tbody>\n",
              "</table>\n",
              "</div>\n",
              "      <button class=\"colab-df-convert\" onclick=\"convertToInteractive('df-5f56dd03-3427-4063-a6b6-3701a2b16848')\"\n",
              "              title=\"Convert this dataframe to an interactive table.\"\n",
              "              style=\"display:none;\">\n",
              "        \n",
              "  <svg xmlns=\"http://www.w3.org/2000/svg\" height=\"24px\"viewBox=\"0 0 24 24\"\n",
              "       width=\"24px\">\n",
              "    <path d=\"M0 0h24v24H0V0z\" fill=\"none\"/>\n",
              "    <path d=\"M18.56 5.44l.94 2.06.94-2.06 2.06-.94-2.06-.94-.94-2.06-.94 2.06-2.06.94zm-11 1L8.5 8.5l.94-2.06 2.06-.94-2.06-.94L8.5 2.5l-.94 2.06-2.06.94zm10 10l.94 2.06.94-2.06 2.06-.94-2.06-.94-.94-2.06-.94 2.06-2.06.94z\"/><path d=\"M17.41 7.96l-1.37-1.37c-.4-.4-.92-.59-1.43-.59-.52 0-1.04.2-1.43.59L10.3 9.45l-7.72 7.72c-.78.78-.78 2.05 0 2.83L4 21.41c.39.39.9.59 1.41.59.51 0 1.02-.2 1.41-.59l7.78-7.78 2.81-2.81c.8-.78.8-2.07 0-2.86zM5.41 20L4 18.59l7.72-7.72 1.47 1.35L5.41 20z\"/>\n",
              "  </svg>\n",
              "      </button>\n",
              "      \n",
              "  <style>\n",
              "    .colab-df-container {\n",
              "      display:flex;\n",
              "      flex-wrap:wrap;\n",
              "      gap: 12px;\n",
              "    }\n",
              "\n",
              "    .colab-df-convert {\n",
              "      background-color: #E8F0FE;\n",
              "      border: none;\n",
              "      border-radius: 50%;\n",
              "      cursor: pointer;\n",
              "      display: none;\n",
              "      fill: #1967D2;\n",
              "      height: 32px;\n",
              "      padding: 0 0 0 0;\n",
              "      width: 32px;\n",
              "    }\n",
              "\n",
              "    .colab-df-convert:hover {\n",
              "      background-color: #E2EBFA;\n",
              "      box-shadow: 0px 1px 2px rgba(60, 64, 67, 0.3), 0px 1px 3px 1px rgba(60, 64, 67, 0.15);\n",
              "      fill: #174EA6;\n",
              "    }\n",
              "\n",
              "    [theme=dark] .colab-df-convert {\n",
              "      background-color: #3B4455;\n",
              "      fill: #D2E3FC;\n",
              "    }\n",
              "\n",
              "    [theme=dark] .colab-df-convert:hover {\n",
              "      background-color: #434B5C;\n",
              "      box-shadow: 0px 1px 3px 1px rgba(0, 0, 0, 0.15);\n",
              "      filter: drop-shadow(0px 1px 2px rgba(0, 0, 0, 0.3));\n",
              "      fill: #FFFFFF;\n",
              "    }\n",
              "  </style>\n",
              "\n",
              "      <script>\n",
              "        const buttonEl =\n",
              "          document.querySelector('#df-5f56dd03-3427-4063-a6b6-3701a2b16848 button.colab-df-convert');\n",
              "        buttonEl.style.display =\n",
              "          google.colab.kernel.accessAllowed ? 'block' : 'none';\n",
              "\n",
              "        async function convertToInteractive(key) {\n",
              "          const element = document.querySelector('#df-5f56dd03-3427-4063-a6b6-3701a2b16848');\n",
              "          const dataTable =\n",
              "            await google.colab.kernel.invokeFunction('convertToInteractive',\n",
              "                                                     [key], {});\n",
              "          if (!dataTable) return;\n",
              "\n",
              "          const docLinkHtml = 'Like what you see? Visit the ' +\n",
              "            '<a target=\"_blank\" href=https://colab.research.google.com/notebooks/data_table.ipynb>data table notebook</a>'\n",
              "            + ' to learn more about interactive tables.';\n",
              "          element.innerHTML = '';\n",
              "          dataTable['output_type'] = 'display_data';\n",
              "          await google.colab.output.renderOutput(dataTable, element);\n",
              "          const docLink = document.createElement('div');\n",
              "          docLink.innerHTML = docLinkHtml;\n",
              "          element.appendChild(docLink);\n",
              "        }\n",
              "      </script>\n",
              "    </div>\n",
              "  </div>\n",
              "  "
            ]
          },
          "metadata": {},
          "execution_count": 17
        }
      ]
    },
    {
      "cell_type": "code",
      "source": [],
      "metadata": {
        "id": "BpXrGOK1RKG0"
      },
      "execution_count": null,
      "outputs": []
    },
    {
      "cell_type": "markdown",
      "source": [
        "Security libraries"
      ],
      "metadata": {
        "id": "DiqwcD8Auj7M"
      }
    },
    {
      "cell_type": "code",
      "source": [
        "import string \n",
        "rotation = 3 \n",
        "P = 'CALM' ; C = '' \n",
        "for letter in P:\n",
        "  C = C + (chr(ord(letter) + rotation))\n",
        "C"
      ],
      "metadata": {
        "colab": {
          "base_uri": "https://localhost:8080/",
          "height": 35
        },
        "id": "jCNQ2KlG6J79",
        "outputId": "934d3dad-0e3e-4c5b-cdf5-a3cc2077af6b"
      },
      "execution_count": null,
      "outputs": [
        {
          "output_type": "execute_result",
          "data": {
            "text/plain": [
              "'FDOP'"
            ],
            "application/vnd.google.colaboratory.intrinsic+json": {
              "type": "string"
            }
          },
          "metadata": {},
          "execution_count": 66
        }
      ]
    },
    {
      "cell_type": "code",
      "source": [
        "\"\"\" ROT13 \"\"\" \n",
        "import codecs\n",
        "P = 'CALM' ; C=''\n",
        "C = codecs.encode(P, 'rot_13')\n",
        "C"
      ],
      "metadata": {
        "colab": {
          "base_uri": "https://localhost:8080/",
          "height": 35
        },
        "id": "_boFef4y6dwh",
        "outputId": "d4b6ef0e-33ee-4ffd-d350-41685256d8ab"
      },
      "execution_count": null,
      "outputs": [
        {
          "output_type": "execute_result",
          "data": {
            "text/plain": [
              "'PNYZ'"
            ],
            "application/vnd.google.colaboratory.intrinsic+json": {
              "type": "string"
            }
          },
          "metadata": {},
          "execution_count": 69
        }
      ]
    },
    {
      "cell_type": "code",
      "source": [
        "!pip install passlib"
      ],
      "metadata": {
        "colab": {
          "base_uri": "https://localhost:8080/"
        },
        "id": "yE6VjcEl62kj",
        "outputId": "f38776dd-66a0-4e26-c8bb-6a95a549a53c"
      },
      "execution_count": null,
      "outputs": [
        {
          "output_type": "stream",
          "name": "stdout",
          "text": [
            "Looking in indexes: https://pypi.org/simple, https://us-python.pkg.dev/colab-wheels/public/simple/\n",
            "Collecting passlib\n",
            "  Downloading passlib-1.7.4-py2.py3-none-any.whl (525 kB)\n",
            "\u001b[K     |████████████████████████████████| 525 kB 4.3 MB/s \n",
            "\u001b[?25hInstalling collected packages: passlib\n",
            "Successfully installed passlib-1.7.4\n"
          ]
        }
      ]
    },
    {
      "cell_type": "code",
      "source": [
        "from hashlib import md5\n",
        "\"\"\" algorithm with signature  \n",
        "'md5', 'sha1', 'sha224', 'sha256', 'sha384', 'sha512'  \"\"\"\n",
        "\n",
        "string = 'myPassword' ; myHash = md5(string.encode()).hexdigest()\n",
        "string, string.encode(), myHash"
      ],
      "metadata": {
        "colab": {
          "base_uri": "https://localhost:8080/"
        },
        "id": "glxCp19Q7CZH",
        "outputId": "1613f15f-080c-4831-f489-101bed93b7f2"
      },
      "execution_count": null,
      "outputs": [
        {
          "output_type": "execute_result",
          "data": {
            "text/plain": [
              "('myPassword', b'myPassword', 'deb1536f480475f7d593219aa1afd74c')"
            ]
          },
          "metadata": {},
          "execution_count": 78
        }
      ]
    },
    {
      "cell_type": "code",
      "source": [
        "import passlib\n",
        "from passlib.hash import md5_crypt\n",
        "myHash_ = md5_crypt.encrypt(string)\n",
        "md5_crypt.verify(string, myHash), md5_crypt.verify('myPassword2', myHash_)"
      ],
      "metadata": {
        "colab": {
          "base_uri": "https://localhost:8080/"
        },
        "id": "DAUee6cY-ifj",
        "outputId": "e1782411-0a69-4b9e-868b-03a240693a8a"
      },
      "execution_count": null,
      "outputs": [
        {
          "output_type": "stream",
          "name": "stderr",
          "text": [
            "<ipython-input-86-8087bcd377d8>:3: DeprecationWarning: the method passlib.handlers.md5_crypt.md5_crypt.encrypt() is deprecated as of Passlib 1.7, and will be removed in Passlib 2.0, use .hash() instead.\n",
            "  myHash = md5_crypt.encrypt(string)\n"
          ]
        },
        {
          "output_type": "execute_result",
          "data": {
            "text/plain": [
              "(True, False)"
            ]
          },
          "metadata": {},
          "execution_count": 86
        }
      ]
    },
    {
      "cell_type": "code",
      "source": [
        "from passlib.hash import sha512_crypt\n",
        "myHash__ = sha512_crypt.using(salt = 'qIo0foX5', rounds=5000).hash('myPassword')\n",
        "\"\"\" salt: add random characters before hashing \"\"\" \n",
        "myHash__ "
      ],
      "metadata": {
        "colab": {
          "base_uri": "https://localhost:8080/",
          "height": 53
        },
        "id": "iEs8zz0I_9m7",
        "outputId": "f3e90aae-3459-420e-ad35-5dd3a8fa3fc7"
      },
      "execution_count": null,
      "outputs": [
        {
          "output_type": "execute_result",
          "data": {
            "text/plain": [
              "'$6$qIo0foX5$a.RA/OyedLnLEnWovzqngCqhyy3EfqRtwacvWKsIoYSvYgRxCRetM3XSwrgMxwdPqZt4KfbXzCp6yNyxI5j6o/'"
            ],
            "application/vnd.google.colaboratory.intrinsic+json": {
              "type": "string"
            }
          },
          "metadata": {},
          "execution_count": 88
        }
      ]
    },
    {
      "cell_type": "code",
      "source": [
        "!pip install cryptography"
      ],
      "metadata": {
        "colab": {
          "base_uri": "https://localhost:8080/"
        },
        "id": "90XcW3-RAtDz",
        "outputId": "f4987635-3d07-4136-d164-bd0d0d474026"
      },
      "execution_count": null,
      "outputs": [
        {
          "output_type": "stream",
          "name": "stdout",
          "text": [
            "Looking in indexes: https://pypi.org/simple, https://us-python.pkg.dev/colab-wheels/public/simple/\n",
            "Collecting cryptography\n",
            "  Downloading cryptography-38.0.4-cp36-abi3-manylinux_2_24_x86_64.whl (4.0 MB)\n",
            "\u001b[K     |████████████████████████████████| 4.0 MB 4.8 MB/s \n",
            "\u001b[?25hRequirement already satisfied: cffi>=1.12 in /usr/local/lib/python3.8/dist-packages (from cryptography) (1.15.1)\n",
            "Requirement already satisfied: pycparser in /usr/local/lib/python3.8/dist-packages (from cffi>=1.12->cryptography) (2.21)\n",
            "Installing collected packages: cryptography\n",
            "Successfully installed cryptography-38.0.4\n"
          ]
        }
      ]
    },
    {
      "cell_type": "code",
      "source": [
        "import cryptography as crypt  \n",
        "from cryptography.fernet import Fernet\n",
        "\n",
        "key_ = Fernet.generate_key()\n",
        "file = open('keys.key', 'wb') ; file.write(key_)  ; file.close()\n",
        "!cat keys.key\n",
        "key_"
      ],
      "metadata": {
        "colab": {
          "base_uri": "https://localhost:8080/"
        },
        "id": "KBG-y2anAzLk",
        "outputId": "7be4ae42-1ff3-44a6-ab63-512273748e73"
      },
      "execution_count": null,
      "outputs": [
        {
          "output_type": "stream",
          "name": "stdout",
          "text": [
            "S65KIVRsVoNPhW0wlsGnAbEqoo3uQv1JWk0KIgx2OS0="
          ]
        },
        {
          "output_type": "execute_result",
          "data": {
            "text/plain": [
              "b'S65KIVRsVoNPhW0wlsGnAbEqoo3uQv1JWk0KIgx2OS0='"
            ]
          },
          "metadata": {},
          "execution_count": 97
        }
      ]
    },
    {
      "cell_type": "code",
      "source": [
        "message_ = 'Palo Alto weather nice in December'\n",
        "message_ = bytes(message_.encode('utf-8'))\n",
        "f = Fernet(key_)\n",
        "encrypted_ = f.encrypt(message_)\n",
        "decrypted_ = f.decrypt(encrypted_)\n",
        "encrypted_, decrypted_"
      ],
      "metadata": {
        "colab": {
          "base_uri": "https://localhost:8080/"
        },
        "id": "CYXDJtdgB-g6",
        "outputId": "cffcb5b7-00b4-4815-f8db-79cfa1b1e485"
      },
      "execution_count": null,
      "outputs": [
        {
          "output_type": "execute_result",
          "data": {
            "text/plain": [
              "(b'gAAAAABjknJbQa7lCVpZFqRpcSQL_G6yroMFbvfnb9AoVJi1eqeMkvGvbNHU_x50BcRvYP6jbAF-SWm8tsWzAepYKLNJNwb2-1TFzvthwv71ENxSu6qhv6mliXPJUMpoYzHEdHhNY990',\n",
              " b'Palo Alto weather nice in December')"
            ]
          },
          "metadata": {},
          "execution_count": 105
        }
      ]
    },
    {
      "cell_type": "code",
      "source": [
        "from xmlrpc.client import SafeTransport, ServerProxy\n",
        "import ssl \n",
        "class CertVerify(SafeTransport):\n",
        "  def __init__(self, cafile, certfile=None, keyfile=None):\n",
        "    SafeTransport.__init__(self)\n",
        "    self._ssl_context = ssl.SSLContext(ssl.PROTOCOL_TLSv1)\n",
        "    self._ssl_context.load_verify_locations(cafile)\n",
        "    if cert:\n",
        "      self._ssl_context.load_cert_chain(certfile, keyfile)\n",
        "    self._ssl_context.verify_mode = ssl.CERT_REQUIRED\n",
        "  \n",
        "  def make_connection(self, host):\n",
        "    s = super().make_connection((host, {'context': self._ssl_context}))\n",
        "    return s \n",
        "\n",
        "\"\"\" create client proxy \"\"\" \n",
        "s = ServerProxy('https://', \n",
        "                transport=ssl.VERIFY_ALLOW_PROXY_CERTS('server_cert.pem'),\n",
        "                allow_none = True) \n"
      ],
      "metadata": {
        "id": "byhT-SBhD67Y"
      },
      "execution_count": null,
      "outputs": []
    },
    {
      "cell_type": "markdown",
      "source": [
        "**Main Algorithms** used in:\n",
        "- **Unsupervised ML**\n",
        "    - Clustering, Dimensionality reduction, Anomaly detection, Association rules \n",
        "- **Traditional Supervised ML**:\n",
        "    - Classifiers, Regressors \n",
        "- Neural Networks \n",
        "- Natural Language Processing \n",
        "- Recommendation Engines \n"
      ],
      "metadata": {
        "id": "R61z6qekBu0s"
      }
    },
    {
      "cell_type": "markdown",
      "source": [
        "# Graphs"
      ],
      "metadata": {
        "id": "Fv4A2aV2L9LQ"
      }
    },
    {
      "cell_type": "markdown",
      "source": [
        "**Review**\n",
        "\n",
        "*   Graphs - the basics \n",
        "*   Graph Search and its Applications\n",
        "*   Dijkstra's Shortest-Path Algorithm\n",
        "*   The heap Data Structure\n",
        "*   Search Trees \n",
        "*   Hash Tables, Bloom Filters\n",
        "*   Review of Asymptotic notation\n"
      ],
      "metadata": {
        "id": "DrmU7Lg92hcf"
      }
    },
    {
      "cell_type": "code",
      "source": [
        "\"\"\" \n",
        "Graph G = (V, E) with vertex set V, and edge set E\n",
        "n = |V| denoting the number of vertices and m =|E| the number of edges\n",
        "\n",
        "Undirected: an edge with endpoints v and w, denoted by {v, w} or by {w, v} \n",
        "Directed: an edge with endpoints v and w, ordered pair (ordered edge traveling \n",
        "from v to w) with v the first vertex (tail) and the w the second vertex (head).\n",
        "\n",
        "Applications: Road networks(maps), WWW, Social networks, Precedence constraints\n",
        "Precedence constraints example is the topological ordering on following a directed\n",
        "graph, in which there is one vertex for each edge (course schedule with prereqs).\n",
        "\n",
        "\"\"\"\n",
        "print()"
      ],
      "metadata": {
        "id": "jWK5NbhYaIjw",
        "colab": {
          "base_uri": "https://localhost:8080/"
        },
        "outputId": "eca19d2a-7e70-4d23-b3c2-93f3c304c678"
      },
      "execution_count": null,
      "outputs": [
        {
          "output_type": "stream",
          "name": "stdout",
          "text": [
            "\n"
          ]
        }
      ]
    },
    {
      "cell_type": "code",
      "source": [
        "\"\"\" Challenge \n",
        "Consider an undirected graph with n vertices and no parallel edges. What is \n",
        "the minimum and maximum number of edges the graph can have\n",
        "n -1 & n(n-1)/2 \n",
        "\n",
        "1. n choices for the tail edge and n-1 for the head edge \n",
        "(example here would be trees structure with n-1 edges - adding a new edges fuses\n",
        "the pieces containing its endpoints to a signle piece)\n",
        "  A\n",
        "  | \\\n",
        "  B__C\n",
        "\n",
        "two connected undirected graphs with 4 vertices and 3 edges \n",
        "A__B__C__D      A\n",
        "                |\n",
        "                B\n",
        "              /   \\\n",
        "            C       D\n",
        "\n",
        "2. the maximum number of edges in a graph is achieved with complete graph with \n",
        "every possible edge possible n(n-1)/2\n",
        "            n = 4   (4/2)3= 6\n",
        "    A __ B\n",
        "    | \\/ |\n",
        "    | /\\ |\n",
        "    C __ D\n",
        "\n",
        "- Discuss Sparse vc. Dense Graph: distinction is important as they are different\n",
        "data structure with different algorithm usage \n",
        "For an undirected graph with n vertices connected, the number of edges m is at\n",
        "least linear in n (m=Omega(n)). If the graph has no parallel edges then the # of\n",
        "edges m = O(n^2). We conclude that the number of edges in a 'connected' graph \n",
        "is somewhere between linear and quadratic # of vertices. \n",
        "Therefore a graph is 'sparse' if the number of edges is relatively closer to \n",
        "linear and dense if it is closer to the quadratic function. \n",
        "Graph with n vertices and O(nlog(n)) edges is considered sparse, and those with \n",
        "Omega(n^2/log(n)) are usually considered dense or partially dense like those \n",
        "with ~ n^(3/2) edges\n",
        "\n",
        "\"\"\"\n",
        "print()"
      ],
      "metadata": {
        "colab": {
          "base_uri": "https://localhost:8080/"
        },
        "id": "S2Z_kp1iAf2y",
        "outputId": "d1eaa6cb-4eb7-4437-f95e-52b5c92687ae"
      },
      "execution_count": null,
      "outputs": [
        {
          "output_type": "stream",
          "name": "stdout",
          "text": [
            "\n"
          ]
        }
      ]
    },
    {
      "cell_type": "code",
      "source": [
        "\"\"\"\n",
        "Measuring the size of the Graph \n",
        "Specify exactlywhat the graph is, how it is represented and used in the running\n",
        "function as the input (and input size). Two parameters that control the size of\n",
        "the graph are the number of vertices and edges\n",
        "\n",
        "Representing a Graph\n",
        "\n",
        "There is more than one way to represent the graph, and we work primarily with \n",
        "the adjacency list (we can use adjacency matrix)\n",
        "  1. an array containing the graph's vertices \n",
        "  2. an array containing the graph's edges\n",
        "  3. for each edge, a pointer to each with its two endpoints\n",
        "  3. for each vertes, a pointer to each of the incident edges\n",
        "\n",
        "In terma of the data structure the adjacency list boils down to two arrays or\n",
        "linked lists, one for keeping track of the vertices, and one for the edges. \n",
        "These two arrays cross reference each other with each edge associated with \n",
        "pointers to endpoints.\n",
        "\n",
        "How much space for the adjacency list representation of the graph with \n",
        "n vertices and m edges.\n",
        "Theta(n) or Theta(m) or Theta(m+n) or Theta(n^2) ? \n",
        "Theta(m+n) is the answer (revisit the proof- and Google PageRank algorithm)\n",
        "Scorecard:\n",
        "  vertex array                              Theta(n)\n",
        "  edge array                                Theta(n)\n",
        "  pointers from edges to endpoints          Theta(m)\n",
        "+ pointers from vertices to incident edges  Theta(m)\n",
        "______________________________________________________\n",
        "  total                                     Theta(m+n) \n",
        "  (connected & w/o parallel edges ) \n",
        "\n",
        "G = (V, E) with n vertices and no parallel edges, label vertices 1,2,3, ..., n\n",
        "Adjacency matrix nxn\n",
        "A[ij] = {1 if edge (i,j) belongs to set E, otherwise 0}\n",
        "                            1   2   3   4\n",
        "                            _______________\n",
        "                1      1    0   1   0   0\n",
        "                |      2    1   0   1   1\n",
        "                2      3    0   1   0   1\n",
        "              /   \\    4    0   1   1   0\n",
        "             3 ___ 4\n",
        "      A graph           Adjacency list (1 bit per vertex pair)\n",
        "\n",
        "Add representation for\n",
        "  - parallel edges: if multiple edges with same endpoints, the denote A[i,j]\n",
        "  - weighted graphs: if each edge (i,j) has a weight representing a cost or a\n",
        "    distance, then each eantry has an weight w(i,j)\n",
        "  - directed graphs: each entry A(i,j) of Adjacency list as \n",
        "    A[ij] = {1 if edge (i,j) belongs to set E, otherwise 0}\n",
        "\n",
        "How to best represent the graph - it depends - for instance on density -\n",
        "compare the # of edges to the # of vertices, and encode in efficient way. \n",
        "It works for a dense graph and not so much for a sparse one however it is the \n",
        "recommended approach for use with many of the graph algorithms.\n",
        "\n",
        "\"\"\"\n",
        "print()"
      ],
      "metadata": {
        "colab": {
          "base_uri": "https://localhost:8080/"
        },
        "id": "-WmLx5x3Cqgh",
        "outputId": "6d508823-5502-445d-c525-290b60ae699c"
      },
      "execution_count": null,
      "outputs": [
        {
          "output_type": "stream",
          "name": "stdout",
          "text": [
            "\n"
          ]
        }
      ]
    },
    {
      "cell_type": "code",
      "source": [
        "\"\"\" problem set - concepts  \n",
        "\n",
        "1. Graph with n vertices and no parallel edges. What is the max number of\n",
        "edges.\n",
        "  n(n-1)\n",
        "\n",
        "2. Let G = (V, E) an undirected graph. By the degree of a vertex v pertains to\n",
        "V, we mean the number of edges in E that are incident to v (v endpoint). What is\n",
        "the sum of the degrees of all of G's vertices, as a function of n and m? \n",
        "  2m \n",
        "  each edge contributes exactly 1 to the degrees of 2 different endpoints\n",
        "\n",
        "3. For each of the conditions on a graph G =(V,E) is the condition satisfied by\n",
        "dense graphs, sparse graphs, or by both some sparse and some dense graphs. \n",
        "Assume the number of vertices is large ~ at least 10k. \n",
        "  a) at least one vertex of G has degree at most 10 \n",
        "  b) every vertex of G has degree at most 10 \n",
        "  c) at least one vertex of G has degree n -1\n",
        "  d) every vertex of G has degree n -1 \n",
        "\n",
        "  a) & c) satisfied by some sparse graph (like star graph), and some dense graphs\n",
        "  (such as complete graph with an extra edge - gued on)\n",
        "  b) satisfied by sparse graphs\n",
        "  d) satisfied by dense graphs\n",
        "\n",
        "4. Consider an undirected graph G = (V,E) represented with A(i,j) matrix \n",
        "Given v pertinant to V, how many operations are required to identify the edges\n",
        "incident to v? Let k denote the number of such edges \n",
        "  Scan through the row corresponding to v, k = Theta(n)\n",
        "\n",
        "5. Consider a directed graph G = (V, E) that is represented with adjacency \n",
        "lists (matrix), except with each vertex storing only an array of its outgoing \n",
        "edges (not incoming edges). Given a vertex v pertinant to V, how many operations\n",
        "are required to identify the incoming edges? \n",
        "  Scan through the edge array, k = Theta(m)\n",
        "\n",
        "\"\"\" "
      ],
      "metadata": {
        "colab": {
          "base_uri": "https://localhost:8080/"
        },
        "id": "64MaPFusH6QR",
        "outputId": "896557a8-ccd6-4581-e74b-7ed338c5443c"
      },
      "execution_count": null,
      "outputs": [
        {
          "output_type": "stream",
          "name": "stdout",
          "text": [
            "\n"
          ]
        }
      ]
    },
    {
      "cell_type": "markdown",
      "source": [
        "# Graph Search and its Applications"
      ],
      "metadata": {
        "id": "eQshy2GOTWea"
      }
    },
    {
      "cell_type": "code",
      "source": [
        "\"\"\" Fundamental primitives for Graph Search and applications\n",
        "\n",
        "Compute the strongly connected components of a directed graph with only two\n",
        "passes of depth-first-search\n",
        "Application: Checking connectivity, Shortest path computation, Planning for \n",
        "reaching a goal state from an initial state \n",
        "Complexity: Algorithms blazingly fast, run in just O(m+m) with constant factor.\n",
        "\n",
        "Problem Graph Search: \n",
        "Input is an undirected or directed graph G = (V,E) & a starting vertex s in V.\n",
        "Goal is to identify the vertices of V reachable from s in G\n",
        "Lemma/Proposition on Generic Graph Search \n",
        "\n",
        "Generic Search\n",
        "Postcondition: a vertex is reachable from s if and only if it marked as explored\n",
        "________________\n",
        "mark as explored, all other vertices as unexplored \n",
        "while there is an edge (v,w) in E with v explored\n",
        "  and w unexplored do \n",
        "    choose some such edge (v,w)   // underspecified \n",
        "    mark w as explored \n",
        "\n",
        "1. BFS implementation in linear time using a queue data structure \n",
        "2. BFS to compute in linear time the length of a shortest path between one vertex \n",
        "and all other vertices, layer-i vertices being precisely at distance i from s \n",
        "3. DFS agressive strategy for exploring graph in linear time, using recursion\n",
        "4. DFS to compute in linear time, a topological order of the vertices of a \n",
        "directed graph, a useful primitive for sequencing problems\n",
        "5. DFS to compute in linear time, the strongly connected components of a \n",
        "directed graph - useful in applications with the structure of graph\n",
        "\n",
        "BFS Search\n",
        "Postcondition: a vertex is reachable from s if and only if it marked as explored\n",
        "________________\n",
        "mark as explored, all other vertices as unexplored \n",
        "Q: a queue data structure initialized with s\n",
        "while Q is not empty do\n",
        "  remove the vertex from the front of Q, call it v\n",
        "  for each edge (v,w) in v's adjacency list do\n",
        "    if w unexplored then \n",
        "      mark w as explored\n",
        "      add w to the end of Q\n",
        "\"\"\"\n",
        "print()"
      ],
      "metadata": {
        "colab": {
          "base_uri": "https://localhost:8080/"
        },
        "id": "6b26OHtvTnrI",
        "outputId": "e29775e0-b9d9-4333-e78d-f5585016a110"
      },
      "execution_count": null,
      "outputs": [
        {
          "output_type": "stream",
          "name": "stdout",
          "text": [
            "\n"
          ]
        }
      ]
    },
    {
      "cell_type": "markdown",
      "source": [
        "**Implement a Graph**\n",
        "- Is it directed? implement both\n",
        "- Do the edges have weights? Yes \n",
        "- Can the graph have cyscles? Yes \n",
        "- If we try to add a node that already exists, do we just do nothing?\n",
        "- If we try to delete a node that doesnt exist, do we just do nothing \n",
        "- Can we assume this is a connected graph? Yes \n",
        "- Can we assume all inputs are valid? Yes \n",
        "- Can we assume this fits the memory? Yes \n",
        "\n",
        "Input:\n",
        "- add_edge(source, destination, weight)\n",
        "- graph.add_edge(0, 1, 5) \n",
        "- graph.add_edge(0, 5, 2) \n",
        "- graph.add_edge(1, 2, 3)  \n",
        "- graph.add_edge(2, 3, 4) \n",
        "- graph.add_edge(3, 4, 5) \n",
        "- graph.add_edge(3, 5, 6)\n",
        "- graph.add_edge(4, 0, 7) \n",
        "- graph.add_edge(5, 4, 8) \n",
        "- graph.add_edge(5, 2, 9)\n",
        "\n",
        "Result:\n",
        "- source and destination nodes within graph are connected with specified weight\n",
        "- the Graph class can be used as a building block for more complex graphs\n",
        "\n",
        "(challenges)\n",
        "\n",
        "**Algorithm (what it should do):**\n",
        "\n",
        "**Node - steps**\n",
        "1. Node will keep track of Id, visit state, incoming edge count \n",
        "(used in topological sort), adjacent nodes and edge weights \n",
        "2. Add_neighbor - if the neighbor doesn't already exist as an adjacent node;\n",
        "update the adjacent nodes with edge weights; \n",
        "increment count if neighbor's incoming edge\n",
        "Implement with complexity Time O(1) and Space O(1)\n",
        "\n",
        "**Graph - steps**\n",
        "1. Graph will keep tradk of its nodes \n",
        "2. add_node - if node exists return it, create a node with given id, add the newly node to the collection nodes. Keep Complexity for Time O(1), Space O(1)\n",
        "3. add_edge - If the source node is not the collection of nodes, add it; if the destination is not in the collection add it; Add a connection from the source node to the destination node with the given edge weight \n",
        "4. add_undirected_edge - call add_edge, and also add a connection from the destination node to the source node with the given edge weight. Keep the complexity for Time O(1), Space O(1)"
      ],
      "metadata": {
        "id": "CgwX1ZfhUi1R"
      }
    },
    {
      "cell_type": "code",
      "source": [
        "from enum import Enum\n",
        "class State(Enum): \n",
        "  unvisited = 0\n",
        "  visiting = 1 \n",
        "  visited = 2 \n",
        "\n",
        "\"\"\" class Node \"\"\"\n",
        "class Node:\n",
        "  def __init__(self, key): \n",
        "    self.key = key \n",
        "    self.visit_state= State.unvisited\n",
        "    self.incoming_edges = 0 \n",
        "    self.adj_nodes = {}   # dictionary key, value nodes\n",
        "    self.adj_weights = {} # dictionary key, value nodes\n",
        "  \n",
        "  def __repr__(self):\n",
        "    return str(self.key)\n",
        "  def __lt__(self, other):\n",
        "    return self.key < other.key \n",
        "\n",
        "  def add_neighbor(self, neighbor, weight=0):\n",
        "    if neighbor is None or weight is None: \n",
        "      raise TypeError('neighbor or weight cannot be none')\n",
        "    neighbor.incoming_edges += 1 \n",
        "    self.adj_weights[neighbor.key] = weight \n",
        "    self.adj_nodes[neighbor.key] = neighbor\n",
        "\n",
        "  def remove_neighbor(self, neighbor): \n",
        "    if neighbor is None: \n",
        "      raise TypeError('neighbor or weight cannot be none')   \n",
        "    if neighbor.key not in self.adj_nodes:\n",
        "      raise KeyError('neighbor not found')\n",
        "    neighbor.incoming_edges -= 1 \n",
        "    del self.adj_weights[neighbor.key]\n",
        "    del self.adj_nodes[neighbor.key]\n",
        "\n",
        "\"\"\" class Graph \"\"\" \n",
        "class Graph: \n",
        "  def __init__(self):\n",
        "    self.nodes = {}\n",
        "  \n",
        "  def add_node(self, key):\n",
        "    if key is None:\n",
        "      raise TypeError('key cannot be none')\n",
        "    if key not in self.nodes:\n",
        "      self.nodes[key] = Node(key)\n",
        "    return self.nodes[key]\n",
        "  \n",
        "  def add_edge(self, source_key, dest_key, weight=0):\n",
        "    if source_key is None or dest_key is None:\n",
        "      raise KeyError('Invalid key')\n",
        "    if source_key not in self.nodes: \n",
        "      self.add_node(source_key)\n",
        "    if dest_key not in self.nodes:\n",
        "      self.add_node(dest_key)\n",
        "    self.nodes[source_key].add_neighbor(self.nodes[dest_key], weight)\n",
        "  \n",
        "  def add_undirected_edge(self, source_key, dest_key, weight=0):\n",
        "    if source_key is None and dest_key is None:\n",
        "      raise TypeError('key cannot be none')\n",
        "    self.add_edge(source_key, dest_key, weight)\n",
        "    self.add_wedge(dest_key, source_key, weight)\n",
        "\n",
        "\"\"\" create Graph \"\"\"\n",
        "def create_graph():\n",
        "  graph = Graph()\n",
        "  for key in range(0, 6):\n",
        "    graph.add_node(key)\n",
        "  return graph\n",
        "\n",
        "graph_ = create_graph()\n",
        "#print(graph_.__repr__())\n",
        "#print(graph_.nodes)\n",
        "graph_.add_edge(0, 1, weight=5) \n",
        "graph_.add_edge(0, 2, weight=5) \n",
        "graph_.add_edge(0, 5, weight=2) \n",
        "graph_.add_edge(1, 2, weight=3)  \n",
        "graph_.add_edge(2, 3, weight=4) \n",
        "graph_.add_edge(3, 4, weight=5) \n",
        "graph_.add_edge(3, 5, weight=6)\n",
        "graph_.add_edge(4, 0, weight=7) \n",
        "graph_.add_edge(5, 4, weight=8) \n",
        "graph_.add_edge(5, 2, weight=9)\n",
        "\n",
        "print(graph_.nodes[0].adj_nodes[graph_.nodes[1].key], \n",
        "      graph_.nodes[0].adj_weights[graph_.nodes[1].key])\n",
        "print(graph_.nodes[0].adj_nodes[graph_.nodes[5].key], \n",
        "      graph_.nodes[0].adj_weights[graph_.nodes[5].key])\n",
        "print(graph_.nodes[1].adj_nodes[graph_.nodes[2].key],\n",
        "      graph_.nodes[1].adj_weights[graph_.nodes[2].key])\n",
        "\n",
        "graph_.nodes[5].incoming_edges\n",
        "graph_.nodes[0].remove_neighbor(graph_.nodes[2])"
      ],
      "metadata": {
        "colab": {
          "base_uri": "https://localhost:8080/"
        },
        "id": "5XXacjetXTjF",
        "outputId": "d4a572d2-2faa-47ff-8c21-926de5d74d6b"
      },
      "execution_count": null,
      "outputs": [
        {
          "output_type": "stream",
          "name": "stdout",
          "text": [
            "1 5\n",
            "5 2\n",
            "2 3\n"
          ]
        }
      ]
    },
    {
      "cell_type": "markdown",
      "source": [
        "**Define Graph - simple implementation**\n",
        "\n",
        "- Graph denoted as G = (V,E) \n",
        "- Graph has a vertex set V (V= [1,2,3,4,5,6]) \n",
        "- The Edge set E is [[1,2],[1,5],[2,3],[2,5],[3,4],[4,5],[4,6]]\n",
        "- Path is a graph G = (V,E) is a sequence of vertices v1, v2, ... , vk with the \n",
        "property that there are edges between vi and v1 +1.  Path goes from v1 -> vk\n",
        "The sequence 6,4,5,1,2 defines a path from node 6 to node 2.\n",
        "Similarly other paths can be created by traversing the edges of the graph.\n",
        "- A path is simple if the vertices are all different\n",
        "\n",
        "Cycle is a path v1, v2, ..., vk for which\n",
        "  1. k>2 \n",
        "  2. the first k-1 vertices are all different, and \n",
        "  3. v1 = vk \n",
        "the sequence 4, 5, 2, 3, 4 is a cycle \n",
        "- A path is connected if for every pair (u, v) of vertices u and v, there is a\n",
        "path from u to v. \n",
        "-  The Graph class has two data members, the total number of vertices, and\n",
        "a list of adjacent vertices. "
      ],
      "metadata": {
        "id": "DWU9_EqnshTb"
      }
    },
    {
      "cell_type": "code",
      "source": [
        "\"\"\"\n",
        "Graph denoted as G = (V,E) \n",
        "Graph has a vertex set V (V= [1,2,3,4,5,6]) \n",
        "The Edge set E is [[1,2],[1,5],[2,3],[2,5],[3,4],[4,5],[4,6]]\n",
        "[6]\n",
        "  \\\n",
        "  [4] -----[5]\n",
        "    |      | \\\n",
        "    |      | [1]\n",
        "    |      | / \n",
        "  [[3]] -- [[2]]\n",
        "\"\"\"\n",
        "\n",
        "\n",
        "class AdjNode: \n",
        "  \"\"\" represent the adjacency list of the node \"\"\"\n",
        "  def __init__(self, data):\n",
        "    self.vertex = data \n",
        "    self.next = None \n",
        "\n",
        "class Graph_s:\n",
        "  \"\"\" represent the Graph class \"\"\" \n",
        "  def __init__(self, vertices):\n",
        "    self.V = vertices \n",
        "    self.graph = [None] * self.V\n",
        "  \n",
        "  \"\"\" method to add an edge in an unidrected graph \"\"\" \n",
        "  def add_edge(self, source, destination):\n",
        "    \"\"\" add edge source and destination vertex \"\"\" \n",
        "    node = AdjNode(destination)\n",
        "    node.next = self.graph[source]\n",
        "    self.graph[source] = node \n",
        "    \"\"\" intentionally comment these lines if undirected graph \"\"\" \n",
        "    \"\"\" \n",
        "    node = AdjNode(source)\n",
        "    node.next = self.graph[destination]\n",
        "    self.graph[destination] = node     \"\"\"\n",
        "\n",
        "  \"\"\" method to print the graph \"\"\" \n",
        "  def print_graph(self): \n",
        "    for i in range(self.V): \n",
        "      print('Adjacency list of vertex {} \\n head'.format(i), end='')\n",
        "      tmp = self.graph[i]\n",
        "      while tmp:\n",
        "        print(' -> {} '.format(tmp.vertex), end='')\n",
        "        tmp = tmp.next \n",
        "      print(' \\n ')\n",
        "\n",
        "V = 6 # total vertices\n",
        "graph_ = Graph_s(V)\n",
        "graph_.add_edge(1,2)\n",
        "graph_.add_edge(1,5)\n",
        "graph_.add_edge(2,3)\n",
        "graph_.add_edge(2,5)\n",
        "graph_.add_edge(3,4)\n",
        "graph_.add_edge(4,5)\n",
        "graph_.add_edge(4,6)\n",
        "\n",
        "graph_.print_graph()"
      ],
      "metadata": {
        "colab": {
          "base_uri": "https://localhost:8080/"
        },
        "id": "aWCcpgIgftcN",
        "outputId": "5d042419-f939-4267-c25e-df60b7275e75"
      },
      "execution_count": null,
      "outputs": [
        {
          "output_type": "stream",
          "name": "stdout",
          "text": [
            "Adjacency list of vertex 0 \n",
            " head \n",
            " \n",
            "Adjacency list of vertex 1 \n",
            " head -> 5  -> 2  \n",
            " \n",
            "Adjacency list of vertex 2 \n",
            " head -> 5  -> 3  \n",
            " \n",
            "Adjacency list of vertex 3 \n",
            " head -> 4  \n",
            " \n",
            "Adjacency list of vertex 4 \n",
            " head -> 6  -> 5  \n",
            " \n",
            "Adjacency list of vertex 5 \n",
            " head \n",
            " \n"
          ]
        }
      ]
    },
    {
      "cell_type": "markdown",
      "source": [
        "**Find the shortest path between two nodes in a graph**\n",
        "\n",
        "- Is the Graph directional? Yes\n",
        "- Could the graph have cycles? Yes. If No, is DAG - solve with topological sort\n",
        "- Are the edges weighted? Yes. If edges are not weighted, use BFS \n",
        "- Are the edges all non-negative numbers? Yes. \n",
        "  - Graphs with negative edges can be done with Bellman-Ford \n",
        "  - Graphs with negative cost cycles do not have a defined shortest path \n",
        "- Do we have to check for non-negative edges? No \n",
        "- Assume this is a connected graph? Yes \n",
        "- Assume all inputs are valid? No \n",
        "- Assume we already have a graph class? Yes \n",
        "- Assume we already have a priority queue class? Yes \n",
        "- Assume this fits the memory? Yes \n",
        "- The constraint is that we don't have to check for negtive edges -test general \n",
        "\n",
        "Input\n",
        "- graph.add_edge('a', 'b', weight =5)\n",
        "- graph.add_edge('a', 'c', weight =3)\n",
        "- graph.add_edge('a', 'e', weight =2)\n",
        "- graph.add_edge('b', 'd', weight =2)\n",
        "- graph.add_edge('c', 'b', weight =1)\n",
        "- graph.add_edge('c', 'd', weight =1)\n",
        "- graph.add_edge('d', 'a', weight =1)\n",
        "- graph.add_edge('d', 'g', weight =2)\n",
        "- graph.add_edge('d', 'h', weight =1)\n",
        "- graph.add_edge('e', 'a', weight =1)\n",
        "- graph.add_edge('e', 'h', weight =4)\n",
        "- graph.add_edge('e', 'i', weight =7)\n",
        "- graph.add_edge('f', 'b', weight =3)\n",
        "- graph.add_edge('f', 'g', weight =1)\n",
        "- graph.add_edge('g', 'c', weight =3)\n",
        "- graph.add_edge('g', 'i', weight =2)\n",
        "- graph.add_edge('h', 'c', weight =2)\n",
        "- graph.add_edge('h', 'f', weight =2)\n",
        "- graph.add_edge('h', 'g', weight =2)\n",
        "\n",
        "- shortest_path = ShortestPath(graph)\n",
        "- result = shortest_path.find_shortest_path('a', 'i')\n",
        "\n",
        "**Algorithm**\n",
        "\n",
        "- Initialize the following:\n",
        "  - Set each node's previous node key to None: previous = {}\n",
        "  - Set each node's shortest path weight to inf: path_weight = {}\n",
        "  - Add each node's shortest pah weight to the priority queue: remaining=PQ()\n",
        "- Set the start node's path_weight to 0 and update the value in remaining \n",
        "- Loop while remaining still has items \n",
        "  - Extract the min node (node with minimum path weight) from remaining\n",
        "  - loop through each adjacent node in the min node\n",
        "    - calculate the new weight: adjacent node's edge weight + min node's path_weight \n",
        "    - if the newly calculated path is less than the adjacent node's current path weight \n",
        "       - set the node's previous node key leading to the shortest path \n",
        "       - update the adjacent node's shortest path and update the value in the priority queue \n",
        "- Walk backwards to determine the shortest path \n",
        "  - start at the end node, walk the previous dict to get to the start node\n",
        "- Reverse the list and return it \n",
        "\n",
        "**Complexity for array-based priority-queue**\n",
        "- Time O(v^2) where v is the number of vertices\n",
        "- Space: O(v^2) \n",
        "If the graph has a lot of edges, it is better with min-based pq\n",
        "- O(v^2) is better than O((v+v^2)log(v))\n",
        "\n",
        "**Complexity for min-heap-based priority queue**\n",
        "- Time O((v+e)log(v)) where v is the number of vertices, e number of edges\n",
        "- Space O((v+e)log(v))\n",
        "This is better than the array variant if the graph is sparse \n"
      ],
      "metadata": {
        "id": "5KI4NeEo01mD"
      }
    },
    {
      "cell_type": "code",
      "source": [
        "\"\"\" import priority queue class \"\"\" \n",
        "\"\"\" import graph base implementation class \"\"\"\n",
        "\"\"\" implement ShortestPath class \n",
        "    with initialization and find_shortest_path \"\"\" "
      ],
      "metadata": {
        "colab": {
          "base_uri": "https://localhost:8080/",
          "height": 35
        },
        "id": "relKAIuZgL9Y",
        "outputId": "5c46584a-9cc9-419e-b03e-a59ac324ef8b"
      },
      "execution_count": null,
      "outputs": [
        {
          "output_type": "execute_result",
          "data": {
            "text/plain": [
              "' implement ShortestPath class \\n    with initialization and find_shortest_path '"
            ],
            "application/vnd.google.colaboratory.intrinsic+json": {
              "type": "string"
            }
          },
          "metadata": {},
          "execution_count": 8
        }
      ]
    },
    {
      "cell_type": "code",
      "source": [
        "import sys \n",
        "class PriorityQueueMode(object):\n",
        "  def __init__(self, obj, key):\n",
        "    self.obj = obj \n",
        "    self.key = key \n",
        "  \n",
        "  def __repr__(self):\n",
        "    return str(self.obj) + ': ' + str(self.key)\n",
        "\n",
        "class PriorityQueue(object):\n",
        "  def __init__(self):\n",
        "    self.queue = []\n",
        "\n",
        "  def __len__(self):\n",
        "    return len(self.queue)\n",
        "  \n",
        "  def insert(self, node):\n",
        "    if node is not None:\n",
        "      self.queue.append(node)\n",
        "      return self.queue[-1]\n",
        "    return None\n",
        "  \n",
        "  def extract_min(self):\n",
        "    if not self.queue: \n",
        "      return None \n",
        "    minimum = sys.maxsize\n",
        "    minimum_index = 0\n",
        "    for index, node in enumerate(self.queue):\n",
        "      if node.key < minimum:\n",
        "        minimum = node.key \n",
        "        minimum_index = index \n",
        "    return self.queue.pop(minimum_index)\n",
        "  \n",
        "  def decrease_key(self, obj, new_key):\n",
        "    for node in self.queue:\n",
        "      if node.obj is obj:\n",
        "        node.key = new_key \n",
        "        return node \n",
        "    return None \n",
        "\n",
        "\"\"\" test priority queue \"\"\"\n",
        "priority_queue = PriorityQueue()\n",
        "print(priority_queue, priority_queue.extract_min())\n",
        "priority_queue.insert(PriorityQueueMode('a', 20))\n",
        "print(priority_queue.extract_min())\n",
        "priority_queue.insert(PriorityQueueMode('b', 5))\n",
        "priority_queue.insert(PriorityQueueMode('c', 15))\n",
        "priority_queue.insert(PriorityQueueMode('d', 22))\n",
        "priority_queue.insert(PriorityQueueMode('e', 40))\n",
        "priority_queue.insert(PriorityQueueMode('f', 3))\n",
        "priority_queue.decrease_key('f', 2)\n",
        "priority_queue.decrease_key('a', 19)\n",
        "mins = []\n",
        "while priority_queue.queue:\n",
        "  mins.append(priority_queue.extract_min())\n",
        "mins\n"
      ],
      "metadata": {
        "colab": {
          "base_uri": "https://localhost:8080/"
        },
        "id": "AxCCucx2f5kJ",
        "outputId": "dbe7d537-baef-4a7d-da08-85d063e58fbc"
      },
      "execution_count": null,
      "outputs": [
        {
          "output_type": "stream",
          "name": "stdout",
          "text": [
            "<__main__.PriorityQueue object at 0x7fe3800ab0d0> None\n",
            "a: 20\n"
          ]
        },
        {
          "output_type": "execute_result",
          "data": {
            "text/plain": [
              "[f: 2, b: 5, c: 15, d: 22, e: 40]"
            ]
          },
          "metadata": {},
          "execution_count": 9
        }
      ]
    },
    {
      "cell_type": "code",
      "source": [
        "class ShortestPath(object):\n",
        "  def __init__(self, graph):\n",
        "    if graph is None: \n",
        "      raise TypeError('graph cannot be None')\n",
        "    self.graph = graph\n",
        "    self.previous = {}    # key/val previous node list \n",
        "    self.path_weight = {} # key/val weight shortest path \n",
        "    self.remaining = PriorityQueue()  # Queue of node key, path weight \n",
        "    for key in self.graph.nodes.keys():\n",
        "      # set each node's previous node key to None \n",
        "      # set each node's shortest path weight to inf \n",
        "      # add each node's shortest path weight to the priority queue \n",
        "      self.previous[key] = None\n",
        "      self.path_weight[key] = sys.maxsize \n",
        "      self.remaining.insert(\n",
        "          PriorityQueueMode(key, self.path_weight[key]))\n",
        "    \n",
        "  def find_shortest_path(self, start_node_key, end_node_key):\n",
        "    if start_node_key is None or end_node_key is None:\n",
        "      raise TypeError('Input node keys cannot be None')\n",
        "    if (start_node_key not in self.graph.nodes or \n",
        "          end_node_key not in self.graph.nodes): \n",
        "      raise ValueError('Invalid start or end node key')\n",
        "    # set the start node's shortest path weight to 0 \n",
        "    # and update the value in the priority queue \n",
        "    self.path_weight[start_node_key] = 0 \n",
        "    self.remaining.decrease_key(start_node_key, 0)\n",
        "    while self.remaining: \n",
        "      # extract the min node (node with minimum path weight) \n",
        "      # from the priority queue \n",
        "      min_node_key = self.remaining.extract_min().obj \n",
        "      min_node = self.graph.nodes[min_node_key]\n",
        "      # loop through each adjacent node in the min node \n",
        "      for adj_key in min_node.adj_nodes.keys():\n",
        "        # node's path \n",
        "        # adjacent node's edge weight + the min node's shortest path weight \n",
        "        new_weight = (min_node.adj_weights[adj_key] + \n",
        "            self.path_weight[min_node_key])\n",
        "        # only update if the newly calculated path is \n",
        "        # less than existing node's shortest path \n",
        "        if self.path_weight[adj_key] > new_weight:\n",
        "          # set the node previous node key to the shortest path\n",
        "          # update the adjacent node's shortest path \n",
        "          # update the value in the priority queue \n",
        "          self.previous[adj_key] = min_node_key \n",
        "          self.path_weight[adj_key] = new_weight \n",
        "          self.remaining.decrease_key(adj_key, new_weight)\n",
        "    # walk backward to determine the shortest path\n",
        "    # start at the end node, walk the previous dict to get to start node \n",
        "    result = []\n",
        "    current_node_key = end_node_key \n",
        "    while current_node_key is not None:\n",
        "        result.append(current_node_key)\n",
        "        current_node_key = self.previous[current_node_key]\n",
        "    # reverse the list \n",
        "    return result[::-1]"
      ],
      "metadata": {
        "id": "sBcGXj9-f56J"
      },
      "execution_count": null,
      "outputs": []
    },
    {
      "cell_type": "code",
      "source": [
        "\"\"\" test the shortest_path algorithm \"\"\"\n",
        "graph__ = Graph()\n",
        "graph__.add_edge('a', 'b', weight=5)\n",
        "graph__.add_edge('a', 'c', weight=3)\n",
        "graph__.add_edge('a', 'e', weight=2)\n",
        "graph__.add_edge('b', 'd', weight=2)\n",
        "graph__.add_edge('c', 'b', weight=1)\n",
        "graph__.add_edge('c', 'd', weight=1)\n",
        "graph__.add_edge('d', 'a', weight=1)\n",
        "graph__.add_edge('d', 'g', weight=2)\n",
        "graph__.add_edge('d', 'h', weight=1)\n",
        "graph__.add_edge('e', 'a', weight=1)\n",
        "graph__.add_edge('e', 'h', weight=4)\n",
        "graph__.add_edge('e', 'i', weight=7)\n",
        "graph__.add_edge('f', 'b', weight=3)\n",
        "graph__.add_edge('f', 'g', weight=1)\n",
        "graph__.add_edge('g', 'c', weight=3)\n",
        "graph__.add_edge('g', 'i', weight=2)\n",
        "graph__.add_edge('h', 'c', weight=2)\n",
        "graph__.add_edge('h', 'f', weight=2)\n",
        "graph__.add_edge('h', 'g', weight=2)\n",
        "\n",
        "shortest_path = ShortestPath(graph__)\n",
        "result = shortest_path.find_shortest_path('a', 'i')\n",
        "result, shortest_path.path_weight['i']"
      ],
      "metadata": {
        "colab": {
          "base_uri": "https://localhost:8080/"
        },
        "id": "Bd1d622Kf6EB",
        "outputId": "812c89a1-9b3f-400d-b8f6-aed41d5fcca3"
      },
      "execution_count": null,
      "outputs": [
        {
          "output_type": "execute_result",
          "data": {
            "text/plain": [
              "(['a', 'c', 'd', 'g', 'i'], 8)"
            ]
          },
          "metadata": {},
          "execution_count": 11
        }
      ]
    },
    {
      "cell_type": "markdown",
      "source": [
        "**Graph Shortest Path Unweighted**\n",
        "- Constraints \n",
        "  - Graph directed - weighted - connected - valid inputs - fits the memory \n",
        "  - Graph has Graph and node classes \n",
        "  - Input two nodes \n",
        "  - Output a list of Node keys that make up the shortest path \n",
        "  - If there is no path return None \n",
        "\n",
        "- Inputs \n",
        "  - add_edge(source, destination, weight) - weight defaults to zero \n",
        "  - graph.add_edge(0, 1)\n",
        "  - graph.add_edge(0, 4)\n",
        "  - graph.add_edge(0, 5)\n",
        "  - graph.add_edge(1, 3)\n",
        "  - graph.add_edge(1, 4)\n",
        "  - graph.add_edge(2, 1)\n",
        "  - graph.add_edge(3, 2)  \n",
        "  - graph.add_edge(3, 4)\n",
        "\n",
        "- Result \n",
        "  - search_path(start=0, end=2) -> [0,1,3,2] \n",
        "  - search_path(start=0, end=0) -> [0]\n",
        "  - search_path(start=4, end=5) -> None\n",
        "\n",
        "- Algorithm \n",
        "  To determine shortest path in an 'unweighted' graph, we can use BFS search\n",
        "    by keeping track of the previous nodes ids for each node. \n",
        "    Previous nodes ids can be a dictionary {} of: \n",
        "      - key current node id, and value previous node id\n",
        "  - If start node is the end node return True \n",
        "  - Add the start node to the queue and mark it as visited \n",
        "    - update the previous node ids, previous node is of the start node is None\n",
        "  - While queue is not empty \n",
        "    - dequeue a node and visit it \n",
        "    - if the node is the end node, return the previous nodes \n",
        "    - set the previous node to the current node \n",
        "    - iterate through each adjacent node \n",
        "      - if the node has not been visited, add it to the queue and mark it as visited - update previous node ids\n",
        "  - Return None (default unless changed in the while loop) \n",
        "  - Walk the previous node ids backwards to get the path \n",
        "\n",
        "- **Template in general for UCC (Unweighted Connected Components)**\n",
        "  - Input: G = (V,E) with Adjacency list representation, with V={1,2,3,...,n)\n",
        "  - mark all vertices as unexplored \n",
        "  - numCC = 0\n",
        "  - For i in range(1,n) do: // try all vertices \n",
        "    - if i is unexplored then   // avoid redundancy \n",
        "      - nummCC ++ // new component \n",
        "      - // call BFS at i \n",
        "      - Q: a queue data structure, initialized with i \n",
        "      - while Q is not empty do\n",
        "        - remove the vertex from the Q, call it v \n",
        "        - cc(v) = nummCC\n",
        "        - for each (v,w) in v's adjacency list do\n",
        "          - if w is unexplored\n",
        "            - mark w as explored \n",
        "            - add w to the end of the Q \n",
        "  \n",
        "- Complexity \n",
        "  - Time O(V + E) where V equal the number of vertices and E number of edges \n",
        "  - Space O(V + E)\n",
        "\n",
        "Applications:\n",
        "  - Detecting network failures, Clustering, Data Visualization"
      ],
      "metadata": {
        "id": "0zNGNCwpmqW7"
      }
    },
    {
      "cell_type": "code",
      "source": [
        "from collections import deque \n",
        "\n",
        "class GraphShortestPathUnweighted(Graph):\n",
        "\n",
        "  def shortest_path(self, source_key, dest_key):\n",
        "    if source_key is None or dest_key is None:\n",
        "      return None \n",
        "    if source_key is dest_key:\n",
        "      return [source_key]\n",
        "    prev_node_keys = self._shortest_path(source_key, dest_key)\n",
        "    if prev_node_keys is None:\n",
        "      return None \n",
        "    else: \n",
        "      path_ids = [dest_key]\n",
        "      prev_node_key = prev_node_keys[dest_key]\n",
        "      while prev_node_key is not None:\n",
        "        path_ids.append(prev_node_key)\n",
        "        prev_node_key = prev_node_keys[prev_node_key]\n",
        "      return path_ids[::-1]\n",
        "\n",
        "  def _shortest_path(self, source_key, dest_key):\n",
        "    queue = deque()\n",
        "    queue.append(self.nodes[source_key])\n",
        "    prev_node_keys = {source_key: None}\n",
        "    self.nodes[source_key].visit_state = State.visited\n",
        "    while queue:\n",
        "      node = queue.popleft()\n",
        "      if node.key is dest_key:\n",
        "        return prev_node_keys \n",
        "      prev_node = node \n",
        "      for adj_node in node.adj_nodes.values():\n",
        "        if adj_node.visit_state == State.unvisited:\n",
        "          queue.append(adj_node)\n",
        "          prev_node_keys[adj_node.key] = prev_node.key \n",
        "          adj_node.visit_state = State.visited \n",
        "    return None \n",
        "\n",
        "nodes = []\n",
        "graph_u = GraphShortestPathUnweighted()\n",
        "for id in range(0, 6):\n",
        "  nodes.append(graph_u.add_node(id))\n",
        "graph_u.add_edge(0, 1)\n",
        "graph_u.add_edge(0, 4)\n",
        "graph_u.add_edge(0, 5)\n",
        "graph_u.add_edge(1, 3)\n",
        "graph_u.add_edge(1, 4)\n",
        "graph_u.add_edge(2, 1)\n",
        "graph_u.add_edge(3, 2)\n",
        "graph_u.add_edge(3, 4)\n",
        "print(graph_u.shortest_path(nodes[0].key, nodes[2].key))\n",
        "print(graph_u.shortest_path(nodes[0].key, nodes[0].key))\n",
        "print(graph_u.shortest_path(nodes[4].key, nodes[5].key))"
      ],
      "metadata": {
        "colab": {
          "base_uri": "https://localhost:8080/"
        },
        "id": "uvNhXnZOmqua",
        "outputId": "704f362f-807a-4109-f61b-dc77767368a7"
      },
      "execution_count": null,
      "outputs": [
        {
          "output_type": "stream",
          "name": "stdout",
          "text": [
            "[0, 1, 3, 2]\n",
            "[0]\n",
            "None\n"
          ]
        }
      ]
    },
    {
      "cell_type": "markdown",
      "source": [
        "**Graph Path Exists**\n",
        "\n",
        "- Determine whether there is a path between two nodes in a graph\n",
        "- Assumptions: \n",
        "  - Graph directed\n",
        "  - Already have Graph and Node classes\n",
        "  - It is a connected graph\n",
        "  - Inputs are valid\n",
        "  - It fits the memory \n",
        "- Inputs\n",
        "  - graph.add_edge(source, destination, weight)\n",
        "  - graph.add_edge(0, 1, 5)\n",
        "  - graph.add_edge(0, 4, 3)\n",
        "  - graph.add_edge(0, 5, 2)\n",
        "  - graph.add_edge(1, 3, 5)\n",
        "  - graph.add_edge(1, 4, 4)\n",
        "  - graph.add_edge(2, 1, 6)\n",
        "  - graph.add_edge(3, 2, 7)\n",
        "  - graph.add_edge(3, 4, 8)\n",
        "- Result\n",
        "  - search_path(start, end) \n",
        "- Algorithm \n",
        "  - Use either BFS or DFS to determine if there is a path \n",
        "  - BFS can also be used to determine the shortest path. DFS is easier with \n",
        "  straight recursion but often results in longer path \n",
        "  - Solution with BFS approach:\n",
        "      - Add the start node to the queue and mark it as visited \n",
        "      - If the start node is the end node, return True \n",
        "      - while the queue is not empty: \n",
        "          - Dequeue a node and visit it \n",
        "          - If the node is the end node, return True \n",
        "          - Iterate through each adjacent node \n",
        "              - if the node unvisited, add it to the queue and mark as visited\n",
        "      - return (default False - condition changes in the loop - queue iteration\n",
        "- Complexity is linear Time O(V+E), Space O(V+E)"
      ],
      "metadata": {
        "id": "O_aKX4MDbp3y"
      }
    },
    {
      "cell_type": "code",
      "source": [
        "from collections import deque \n",
        "\n",
        "class GraphPathExists(Graph): \n",
        "\n",
        "  def path_exists(self, start, end):\n",
        "    if start is None or end is None:\n",
        "      return False \n",
        "    if start is end:\n",
        "      return True \n",
        "    queue = deque()\n",
        "    queue.append(start)\n",
        "    start.visit_state = State.visited\n",
        "    while queue:\n",
        "      node = queue.popleft()\n",
        "      if node is end:\n",
        "        return True \n",
        "      for adj_node in node.adj_nodes.values():\n",
        "        if adj_node.visit_state == State.unvisited:\n",
        "          queue.append(adj_node)\n",
        "          adj_node.visit_state = State.visited\n",
        "    return False \n",
        "\n",
        "graph___ = GraphPathExists()\n",
        "nodes = []\n",
        "for id in range(0, 6): \n",
        "  nodes.append(graph___.add_node(id))\n",
        "\n",
        "graph___.add_edge(0, 1, 5)\n",
        "graph___.add_edge(0, 4, 3)\n",
        "graph___.add_edge(0, 5, 2)\n",
        "graph___.add_edge(1, 3, 5)\n",
        "graph___.add_edge(1, 4, 4)\n",
        "graph___.add_edge(2, 1, 6)\n",
        "graph___.add_edge(3, 2, 7)\n",
        "graph___.add_edge(3, 4, 8)\n",
        "\n",
        "graph___.path_exists(nodes[0], nodes[2]), \\\n",
        "graph___.path_exists(nodes[0], nodes[0]), \\\n",
        "graph___.path_exists(nodes[4], nodes[5]), \\\n",
        "graph___.path_exists(nodes[3], nodes[5])"
      ],
      "metadata": {
        "colab": {
          "base_uri": "https://localhost:8080/"
        },
        "id": "Krt1-tAMbqLq",
        "outputId": "0510d69d-1618-449b-d7c2-6cbb750ad167"
      },
      "execution_count": null,
      "outputs": [
        {
          "output_type": "execute_result",
          "data": {
            "text/plain": [
              "(True, True, False, False)"
            ]
          },
          "metadata": {},
          "execution_count": 13
        }
      ]
    },
    {
      "cell_type": "markdown",
      "source": [
        "**Graph BFS Traversal**\n",
        "Same requirements and assumptions as above \n",
        "- Use BFS to determine the shortest path\n",
        "\n",
        "- Algorithm:\n",
        "  - add current node to the queue and mark as visited \n",
        "  - while queue (is not empty) \n",
        "      - 1) dequeue a node and visit it \n",
        "      - 2)iterate through adjacent nodes, if not visited - add it & mark as visited \n",
        "\n",
        "Complexity:\n",
        "  - Time O(V+E), V - number of vertices, E - number of edges \n",
        "  - Space O(V) \n",
        "  - If number of vertices in the graph is known ahead of time, we can reduce the complexity based on the data structures that we use to determine which vertices have already been used \n",
        "  - If Graph is represented as Adjacency list it occupies O(V+E) space in memory\n",
        "  - If Graph is represented as Adjacency matrix, it occupies O(V^2) space "
      ],
      "metadata": {
        "id": "qI0Zood_bqnM"
      }
    },
    {
      "cell_type": "code",
      "source": [
        "from collections import deque \n",
        "\n",
        "class GraphBfs(Graph): \n",
        "  def bfs(self, root, visit_functionality):\n",
        "    if root is None:\n",
        "      return  \n",
        "    queue = deque()\n",
        "    queue.append(root)\n",
        "    root.visit_state = State.visited\n",
        "    while queue:\n",
        "      node = queue.popleft()\n",
        "      visit_functionality(node)\n",
        "      for adj_node in node.adj_nodes.values():\n",
        "        if adj_node.visit_state == State.unvisited:\n",
        "          queue.append(adj_node)\n",
        "          adj_node.visit_state = State.visited\n",
        "\n",
        "nodes = []\n",
        "results = []\n",
        "graph_b = GraphBfs()\n",
        "for id in range(0, 6):\n",
        "  nodes.append(graph_b.add_node(id))\n",
        "\n",
        "graph_b.add_edge(0, 1, 5)\n",
        "graph_b.add_edge(0, 4, 3)\n",
        "graph_b.add_edge(0, 5, 2)\n",
        "graph_b.add_edge(1, 3, 5)\n",
        "graph_b.add_edge(1, 4, 4)\n",
        "graph_b.add_edge(2, 1, 6)\n",
        "graph_b.add_edge(3, 2, 7)\n",
        "graph_b.add_edge(3, 4, 8)\n",
        "#graph_b.bfs(nodes[0], print)\n",
        "graph_b.bfs(nodes[0], results.append)\n",
        "results"
      ],
      "metadata": {
        "colab": {
          "base_uri": "https://localhost:8080/"
        },
        "id": "cGGZdsP2bq1k",
        "outputId": "d9ea3bdc-4aa1-4a26-b3f8-6f4372785a1d"
      },
      "execution_count": null,
      "outputs": [
        {
          "output_type": "execute_result",
          "data": {
            "text/plain": [
              "[0, 1, 4, 5, 3, 2]"
            ]
          },
          "metadata": {},
          "execution_count": 14
        }
      ]
    },
    {
      "cell_type": "markdown",
      "source": [
        "**Graph DFS Traversal**\n",
        "\n",
        "- Requirements and Assumptions same as above \n",
        "- Algorithm:\n",
        "  - If we want to visit every node in a graph we use DFS \n",
        "  - Visit current node and mark it as visited\n",
        "  - Iterate through each adjacent node\n",
        "    - If the node has not been visited, call dfs on it \n",
        "\n",
        "- Template: \n",
        "  - Input: G = (V,E)\n",
        "  - Postcondition: a vertex is reachable from s if and only if marked as explored\n",
        "  - // all vertices unexplored before the outer call \n",
        "  - **Recursive**\n",
        "  - mark s as explored\n",
        "  - for each edge (s,v) in s's adjacent list:\n",
        "      - if v is unexplored then \n",
        "        - DFS(G,v)\n",
        "  - **Iterative Version**\n",
        "  - mark all vertices as unexplored \n",
        "  - S: - a stack data structure initialzed with s \n",
        "  - while S is not empty do \n",
        "    - remove (pop) the vertex v from the front of the stack S\n",
        "    - if v is unexplored then \n",
        "      - mark v as explored \n",
        "      - for each edge (v,w) in v's adjacency list do\n",
        "        - add (push) w to the front of S\n",
        "\n",
        "- Complexity:\n",
        "  - Time O(E+V)\n",
        "  - Space O(V), for the recursion depth "
      ],
      "metadata": {
        "id": "QLcUwH_XbrFS"
      }
    },
    {
      "cell_type": "code",
      "source": [
        "class GraphDfs(Graph):\n",
        "  def dfs(self, root, visit_functionality):\n",
        "    if root is None:\n",
        "      return \n",
        "    visit_functionality(root)\n",
        "    root.visit_state = State.visited \n",
        "    for node in root.adj_nodes.values():\n",
        "      if node.visit_state == State.unvisited:\n",
        "        self.dfs(node, visit_functionality) # recursion\n",
        "\n",
        "nodes = []\n",
        "results = []\n",
        "graph_d = GraphDfs()\n",
        "for id in range(0, 6):\n",
        "  nodes.append(graph_d.add_node(id))\n",
        "\n",
        "graph_d.add_edge(0, 1, 5)\n",
        "graph_d.add_edge(0, 4, 3)\n",
        "graph_d.add_edge(0, 5, 2)\n",
        "graph_d.add_edge(1, 3, 5)\n",
        "graph_d.add_edge(1, 4, 4)\n",
        "graph_d.add_edge(2, 1, 6)\n",
        "graph_d.add_edge(3, 2, 7)\n",
        "graph_d.add_edge(3, 4, 8)\n",
        "#graph_b.bfs(nodes[0], print)\n",
        "graph_d.dfs(nodes[0], results.append)\n",
        "results"
      ],
      "metadata": {
        "colab": {
          "base_uri": "https://localhost:8080/"
        },
        "id": "MYawhZLZbrTf",
        "outputId": "3f577d62-769b-4693-81a8-63cf7ba5e608"
      },
      "execution_count": null,
      "outputs": [
        {
          "output_type": "execute_result",
          "data": {
            "text/plain": [
              "[0, 1, 3, 2, 4, 5]"
            ]
          },
          "metadata": {},
          "execution_count": 15
        }
      ]
    },
    {
      "cell_type": "markdown",
      "source": [
        "**Topological sort or ordering**\n",
        "\n",
        "- Applications: Sequencing tasks so that all precedence constraints are met \n",
        "- Let G = (V,E) be a directed graph. A topological ordering of G is an assignment f(v) of every vertex v pertinant to V to a different number, such that: for every (v,w) pertinant to E, f(v) < f(w)\n",
        "- Theorem: Every DAG has a topological ordering, at least one\n",
        "- Lemma: Every DAG has a source, at least one source vertex \n",
        "- Input: DAG graph G = (V,E) in adjacency list representation \n",
        "- Output: A topological ordering of the vertices of G \n",
        "- Topological sort via DFS \n",
        "\n"
      ],
      "metadata": {
        "id": "zgyysbV2UdY0"
      }
    },
    {
      "cell_type": "markdown",
      "source": [
        "**Pseudocode for Kosaraju topological sorting**\n",
        "- 1. let G denote the input graph G with direction of every edge reversed\n",
        "- 2. call DFS from every vertex of G', processed in arbitrary order, to compute a position f(v) for each vertex v \n",
        "- 3. call DFS from every vertex of G', processed from highest to lowest position, to compute identity of each vertex's connected component \n",
        "\n",
        "- G' is G with all edges reversed \n",
        "- mark all vertices of G' as unexplored \n",
        "- first pass DFS - compute f(v)'s TopoSort(G')\n",
        "- second pass of DFS finds SCCs in reverse topological order \n",
        "- mark all vertices of G as unexplored\n",
        "- nummSCC = 0\n",
        "- for each v in V, in increasing order of f(v) do:\n",
        "  - if v unexplored then\n",
        "    - numSCC ++\n",
        "    - // assign scc-values \n",
        "    - DFS-SCC(G,v)\n",
        "  \n",
        "- DFS-SCC\n",
        "- mark s as explored\n",
        "- scc(s) = numSCC \n",
        "- for each edge (s,v) in s's outgoing adjacency list do \n",
        "- if v is unexplored then\n",
        "  - DFS-SCC(G,v)\n"
      ],
      "metadata": {
        "id": "MUlxm4nMNARM"
      }
    },
    {
      "cell_type": "code",
      "source": [
        "\"\"\"\n",
        "Definitions\n",
        "Topological Sort of directed graph ia a linear ordering of vertices such that \n",
        "for every directed edge (U, V) from vertex to vertex U comes before V. \n",
        "\n",
        "Example1: [[3,2], [3,0], [2,0], [2,1]]\n",
        "Vertices: 4\n",
        "Edges: [3,2], [3,0], [2,0], [2,1]\n",
        "valid sort for the given graph\n",
        "(3,2) - (2, 1) and (3, 2) and (2,0)\n",
        "|\n",
        "(3,0) \n",
        "    3\n",
        "    | \\ 2\n",
        "    | / \\\n",
        "    0    1\n",
        "Example2: [[4,2], [4,3], [2,0], [2,1], [3,1]]\n",
        "Example3: [[6,4], [6,2], [5,3], [5,4], [3,0], [3,1], [3,2], [4,1]]\n",
        "\n",
        "Topological ordering only possible with DAG\n",
        "Algorithm: \n",
        "  - Traverse the graph in BFS\n",
        "  - Save all sources in a sorted list \n",
        "  - Remove all sources and edges from the graph until all vertices are visited\n",
        "\n",
        "Initialization\n",
        "Build the graph and find-in-degrees of all vertices\n",
        "Find all sources - store them in queue structure \n",
        "Sort the sources list\n",
        "\n",
        "edges = [[3, 2], [3, 0], [2, 0], [2, 1]]\n",
        "vertices = 4\n",
        "\n",
        "1. Initialize the graph\n",
        "inDegree = {0: 0, 1: 0, 2: 0, 3: 0}\n",
        "graph = {0: [], 1: [], 2: [], 3: []}\n",
        "\n",
        "2. Build the graph\n",
        "Parent\tChild\n",
        "------------------\n",
        "3\t\t  2\tappend[key=3]-2\n",
        "3 \t\t0\tappend[key=3]-0\n",
        "2 \t\t0\tappend[key=2]-0\n",
        "2 \t\t1\tappend[key=2]-1\n",
        "\n",
        "graph = {0: [], 1: [], 2: [0, 1], 3: [2, 0]}\n",
        "inDegree = {0: 2, 1: 1, 2: 1, 3: 0}\n",
        "\n",
        "3. Find all sources\n",
        "sources = deque([3])\n",
        "\n",
        "4. For each source, add it to the sortedOrder \n",
        "and subtract one from all of its children's in-degrees\n",
        "# if a child's in-degree becomes zero, add it to the sources queue\n",
        "sorted_order = [3, 2, 0, 1]\n",
        "\n",
        "Total complexity is O(E+V) where E is the number of edges, and V of vertices\n",
        "\"\"\"\n",
        "print()"
      ],
      "metadata": {
        "colab": {
          "base_uri": "https://localhost:8080/"
        },
        "id": "vZKY6qLDUgmN",
        "outputId": "ea99c801-4cf2-4b04-988e-63ca234215ef"
      },
      "execution_count": null,
      "outputs": [
        {
          "output_type": "stream",
          "name": "stdout",
          "text": [
            "\n"
          ]
        }
      ]
    },
    {
      "cell_type": "code",
      "source": [
        "\"\"\" topological sorting 'previous' implementation \"\"\" \n",
        "# Toplogical Sort DAG (Stubs -code)\n",
        "from collections import deque\n",
        "\n",
        "def topological_sort(vertices, edges):\n",
        "  sortedOrder = []\n",
        "  if vertices <= 0:\n",
        "    return sortedOrder\n",
        "\n",
        "  # a. Initialize the graph\n",
        "  inDegree = {i: 0 for i in range(vertices)}  # count of incoming edges\n",
        "  graph = {i: [] for i in range(vertices)}  # adjacency list graph\n",
        "  #print(inDegree)\n",
        "  #print(graph)\n",
        "\n",
        "  # b. Build the graph\n",
        "  for edge in edges:f\n",
        "    parent, child = edge[0], edge[1]\n",
        "    print(parent, child)\n",
        "    graph[parent].append(child)  # put the child into it's parent's list\n",
        "    inDegree[child] += 1  # increment child's inDegree\n",
        "\n",
        "  #print(inDegree)\n",
        "  #print(graph)\n",
        "\n",
        "  # c. Find all sources i.e., all vertices with 0 in-degrees\n",
        "  sources = deque()\n",
        "  for key in inDegree:\n",
        "    if inDegree[key] == 0:\n",
        "      sources.append(key)\n",
        "  #print(sources)\n",
        "\n",
        "  # d. For each source, add it to the sortedOrder and subtract one from \n",
        "  # all of its children's in-degrees\n",
        "  # if a child's in-degree becomes zero, add it to the sources queue\n",
        "  while sources:\n",
        "    vertex = sources.popleft()\n",
        "    sortedOrder.append(vertex)\n",
        "    # get the node's children to decrement their in-degrees\n",
        "    for child in graph[vertex]:  \n",
        "      inDegree[child] -= 1\n",
        "      if inDegree[child] == 0:\n",
        "        sources.append(child)\n",
        "\n",
        "  print(sortedOrder)\n",
        "\n",
        "  # topological sort is not possible as the graph has a cycle\n",
        "  if len(sortedOrder) != vertices:\n",
        "    return []\n",
        "\n",
        "  return sortedOrder"
      ],
      "metadata": {
        "id": "4bn7ybu0H-YT"
      },
      "execution_count": null,
      "outputs": []
    },
    {
      "cell_type": "markdown",
      "source": [
        "# The Heap Data Structure\n",
        "\n",
        "(recap)\n",
        "\n",
        "- Heap DS facilitates the fast minimum and maximum operations/computations\n",
        "- Operations: Insert, ExtractMin to remove and return an object with the smallest key, FindMin, Heapify given an array with objects-crate a heap to contain them \n",
        "- Runtime: Insert O(log(n)), ExtractMin O(log(n)), FinMin O(1), Heapify O(n), Delete O(log(n))\n",
        "- Applications: Sorting an array in arbitrary order from smallest to largest \n",
        "- Replacement for Selection sort that for scanning takes longer with O(n^2)\n",
        "- HeapSort running time is O(nlog(n))\n",
        "\n"
      ],
      "metadata": {
        "id": "qSWaO5_iX0LG"
      }
    },
    {
      "cell_type": "code",
      "source": [
        "\"\"\" Min Heap \n",
        "\n",
        "Implement a min hear with ectract min, and insert methods \n",
        "Constraints\n",
        "- All inputs are integers and we assume this fits the memory \n",
        "\n",
        "Test cases:\n",
        " - extract min of an empty tree \n",
        " - extract min general case \n",
        " - insert into an empty tree \n",
        " - insert general case (left and right insert)\n",
        "   __5__ \n",
        "   /    \\\n",
        "  20    15  \n",
        " / \\    / \\\n",
        "22  40 25\n",
        "\n",
        "extract_min(): 5        insert(2)\n",
        "   __15__                 __2__ \n",
        "   /    \\                 /    \\\n",
        "  20    25               20    5  \n",
        " / \\    / \\             / \\    / \\\n",
        "22  40                 22  40 25  15\n",
        "\n",
        "Steps for extract_min: 1) save the root value to be returned - that is 5\n",
        "2) move the right most element to the root - 25 3) bubble down 25, swap 15 w/15 \n",
        "as value 15 is the smaller child 4) return 5 \n",
        "\n",
        "Steps for insert: 1) insert the value 2 at the right most spot to maintain the \n",
        "heap property 2) swap 2 with 15 to maintain the property 3) swap 2 with 5\n",
        "Use array to represent the indices. To get to a parent take (index -1)/2\n",
        "\n",
        "A Heap is a complete binary tree that satisfies the criteria in which each node\n",
        "is smaller than its children. W use array DS to represent the tree with indices.\n",
        "To get to a child we take 2 index + 1 (left child) or 2 index + 2 (right child).\n",
        "example - the right child of index1 is 2*1 + 2 = 4 \n",
        "   __0__  [indices]\n",
        "   /    \\\n",
        "  1      2  \n",
        " / \\    / \\\n",
        "3   4 \n",
        "\n",
        "Time O(log(n)), Space O(log(n)) for the recursion depth (tree height)\n",
        "or O(1) using an iterative approach \n",
        "\"\"\"\n",
        "import sys \n",
        "\n",
        "class MinHeap():\n",
        "\n",
        "  def __init__(self):\n",
        "    self.array = []\n",
        "  \n",
        "  def __len__(self):\n",
        "    return len(self.array)\n",
        "  \n",
        "  def peek_min(self):\n",
        "    return self.array[0] if self.array else None \n",
        "  \n",
        "  def insert(self, key):\n",
        "    if key is None:\n",
        "      raise TypeError('key cannot be None')\n",
        "    # 1) insert the value at the right most spotto maintain heap property\n",
        "    self.array.append(key)\n",
        "    # 2) bubble up \n",
        "    self._bubble_up(index=len(self.array) -1)\n",
        "\n",
        "  def _bubble_up(self, index):\n",
        "    if index == 0:\n",
        "      return \n",
        "    index_parent = (index -1)//2\n",
        "    if self.array[index] < self.array[index_parent]:\n",
        "      # swap the indexes and recurse \n",
        "      self.array[index], self.array[index_parent] = \\\n",
        "        self.array[index_parent], self.array[index]\n",
        "      self._bubble_up(index_parent)\n",
        "\n",
        "  def extract_min(self):\n",
        "    if not self.array: \n",
        "      return None \n",
        "    if len(self.array) == 1:\n",
        "      return self.array.pop()\n",
        "    minimum = self.array[0] # 1) save the min value that is root \n",
        "    # 2) move the last (right most) element to the root \n",
        "    self.array[0] = self.array.pop(-1)\n",
        "    # 3) bubble down and swap if needed to keep the property\n",
        "    self._bubble_down(index=0)\n",
        "    return minimum \n",
        "\n",
        "  def _bubble_down(self, index):\n",
        "    min_child_index = self._find_smaller_child(index)\n",
        "    if min_child_index == -1:\n",
        "      return \n",
        "    if self.array[index] > self.array[min_child_index]:\n",
        "      # swap the indices and recurse\n",
        "      self.array[index], self.array[min_child_index] = \\\n",
        "        self.array[min_child_index], self.array[index]\n",
        "      self._bubble_down(min_child_index)\n",
        "  \n",
        "  def _find_smaller_child(self, index):\n",
        "    left_child_index = 2*index + 1 \n",
        "    right_child_index = 2*index + 2 \n",
        "    # no right child \n",
        "    if right_child_index >= len(self.array):\n",
        "      # no left child \n",
        "      if left_child_index >= len(self.array):\n",
        "        return -1\n",
        "      else:\n",
        "        return left_child_index \n",
        "    else:\n",
        "      # compare left and right children \n",
        "      if self.array[left_child_index] < self.array[right_child_index]:\n",
        "        return left_child_index\n",
        "      else:\n",
        "        return right_child_index\n",
        "\n",
        "heap_ = MinHeap()\n",
        "print(heap_.peek_min())\n",
        "heap_.insert(20)\n",
        "heap_.insert(5)\n",
        "heap_.insert(15)\n",
        "heap_.insert(22)\n",
        "heap_.insert(40)\n",
        "heap_.insert(2)\n",
        "print(heap_.peek_min())\n",
        "print(heap_.array[0], heap_.array[1], heap_.array[2], heap_.array[3],\n",
        "      heap_.array[4], heap_.array[5])\n",
        "\n",
        "mins = []\n",
        "while heap_:\n",
        "  mins.append(heap_.extract_min())\n",
        "print(mins)\n"
      ],
      "metadata": {
        "colab": {
          "base_uri": "https://localhost:8080/"
        },
        "id": "2X4TSwq5X5vj",
        "outputId": "c237ac3e-a6ab-4d89-9be3-ce5ee5cb13c7"
      },
      "execution_count": null,
      "outputs": [
        {
          "output_type": "stream",
          "name": "stdout",
          "text": [
            "None\n",
            "2\n",
            "2 20 5 22 40 15\n",
            "[2, 5, 15, 20, 22, 40]\n"
          ]
        }
      ]
    },
    {
      "cell_type": "markdown",
      "source": [
        "# Search Trees"
      ],
      "metadata": {
        "id": "V0quMdn9mjym"
      }
    },
    {
      "cell_type": "code",
      "source": [
        "\"\"\" BST data structure \"\"\" \n",
        "class Node():\n",
        "  def __init__(self, data):\n",
        "    self.data = data \n",
        "    self.left = None \n",
        "    self.right = None \n",
        "    self.parent = None \n",
        "  \n",
        "  def __repr__(self):\n",
        "    return str(self.data)\n",
        "\n",
        "class Bst():\n",
        "  def __init__(self, root=None): \n",
        "    self.root = root \n",
        "  \n",
        "  def insert(self, data):\n",
        "    if data is None:\n",
        "      raise TypeError('data cannot be None')\n",
        "    if self.root is None:\n",
        "      self.root = Node(data)\n",
        "      return self.root\n",
        "    else:\n",
        "      return self._insert(self.root, data)\n",
        "  \n",
        "  def _insert(self, node, data):\n",
        "    if node is None:\n",
        "      return Node(data)\n",
        "    if data <= node.data:\n",
        "      if node.left is None:\n",
        "        node.left = self._insert(node.left, data)\n",
        "        node.left.parent = node \n",
        "        return node.left\n",
        "      else:\n",
        "        return self._insert(node.left, data)\n",
        "    else:\n",
        "      if node.right is None:\n",
        "        node.right = self._insert(node.right, data)\n",
        "        node.right.parent = node \n",
        "        return node.right \n",
        "      else:\n",
        "        return self._insert(node.right, data)\n",
        "\n",
        "\"\"\" in order traversal 1 -2 -3 -5 -8 \"\"\"\n",
        "bst = Bst()\n",
        "bst.insert(5) ; bst.insert(2) ; bst.insert(8) ; bst.insert(1) ; bst.insert(3)\n"
      ],
      "metadata": {
        "colab": {
          "base_uri": "https://localhost:8080/"
        },
        "id": "XdSHrkw5cJn6",
        "outputId": "8dd84ceb-fe97-4f81-dcb8-f95bcfcf17a6"
      },
      "execution_count": null,
      "outputs": [
        {
          "output_type": "execute_result",
          "data": {
            "text/plain": [
              "3"
            ]
          },
          "metadata": {},
          "execution_count": 19
        }
      ]
    },
    {
      "cell_type": "code",
      "source": [
        "\"\"\" BST Min\n",
        "create a BST with minimal height from a sorted array \n",
        "\n",
        "- array in increasing order, elements are unique  \n",
        "[0,1,2,3,4,5,6] -> height 3 \n",
        "[0,1,2,3,4,5,6,7] -> height 4 \n",
        "\"\"\" \n",
        "class MinBst():\n",
        "  def create_min_bst(self, array):\n",
        "    if array is None:\n",
        "      return \n",
        "    return self._create_min_bst(array, 0, len(array) -1)\n",
        "\n",
        "  def _create_min_bst(self, array, start, end):\n",
        "    if end < start:\n",
        "      return None \n",
        "    mid = (start + end) //2\n",
        "    node = Node(array[mid])\n",
        "    node.left = self._create_min_bst(array, start, mid -1)\n",
        "    node.right = self._create_min_bst(array, mid +1, end)\n",
        "    return node \n",
        "\n",
        "  def height(self, node):\n",
        "    if node is None:\n",
        "      return 0 \n",
        "    return 1 + max(self.height(node.left), self.height(node.right))\n",
        "\n",
        "array = [0,1,2,3,4,5,6]\n",
        "min_bst = MinBst()\n",
        "root = min_bst.create_min_bst(array)\n",
        "print(min_bst.height(root))\n",
        "array = [0,1,2,3,4,5,6,7]\n",
        "min_bst = MinBst()\n",
        "root = min_bst.create_min_bst(array)\n",
        "print(min_bst.height(root))"
      ],
      "metadata": {
        "colab": {
          "base_uri": "https://localhost:8080/"
        },
        "id": "OXG-vUnPl5za",
        "outputId": "e3ec6896-ac26-4757-f8ac-771b3706cda3"
      },
      "execution_count": null,
      "outputs": [
        {
          "output_type": "stream",
          "name": "stdout",
          "text": [
            "3\n",
            "4\n"
          ]
        }
      ]
    },
    {
      "cell_type": "code",
      "source": [
        "\"\"\" BFS traversal on a tree \"\"\"\n",
        "from collections import deque \n",
        "\n",
        "class BstBfs(Bst):\n",
        "  def bfs(self, visit_functionality):\n",
        "    if self.root is None:\n",
        "      raise TypeError('root is None')\n",
        "    queue = deque()\n",
        "    queue.append(self.root)\n",
        "    while queue:\n",
        "      node = queue.popleft()\n",
        "      visit_functionality(node)\n",
        "      if node.left is not None:\n",
        "        queue.append(node.left)\n",
        "      if node.right is not None:\n",
        "        queue.append(node.right)\n",
        "\n",
        "bst = BstBfs(Node(5))\n",
        "bst.insert(2) ; bst.insert(8) ; bst.insert(1) ; bst.insert(3)\n",
        "bst.bfs(print)"
      ],
      "metadata": {
        "colab": {
          "base_uri": "https://localhost:8080/"
        },
        "id": "cxxm1FenmkAR",
        "outputId": "166e94fd-70b0-4dfa-d78a-2c87014d8e1d"
      },
      "execution_count": null,
      "outputs": [
        {
          "output_type": "stream",
          "name": "stdout",
          "text": [
            "5\n",
            "2\n",
            "8\n",
            "1\n",
            "3\n"
          ]
        }
      ]
    },
    {
      "cell_type": "code",
      "source": [
        "\"\"\" DFS traversal on a tree \n",
        "Implement depth-first traversals (in-order, pre-order, post-order) \n",
        "on a binary tree \n",
        "Test Cases:\n",
        "In-order traversal\n",
        "  - 5, 2, 8, 1, 3 -> 1, 2, 3, 5, 8 \n",
        "  - 1, 2, 3, 4, 5 -> 1, 2, 3, 4, 5\n",
        "  Recurse on the left child - visit node - recurse on the right child \n",
        "Pre-order traversal \n",
        "  - 5, 2, 8, 1, 3 -> 5, 2, 1, 3, 8 \n",
        "  - 1, 2, 3, 4, 5 -> 1, 2, 3, 4, 5 \n",
        "  Visit node - recurse on the left child, and the right child \n",
        "Post-order traversal \n",
        "  - 5, 2, 8, 1, 3 -> 1, 3, 2, 8, 5 \n",
        "  - 1, 2, 3, 4, 5 -> 5, 4, 3, 2, 1\n",
        "    Recurse on the left child - recurse on the right child - visit node \n",
        "Each Test Case with complexity as following:\n",
        "Time O(n), Space O(h) where h is the recursion depth, \n",
        "or O(1) with iterative approach\n",
        "        [1]\n",
        "    [2]     [3]\n",
        "  [4] [5]   \n",
        "\n",
        "\"\"\"\n",
        "class BstDfs(Bst):\n",
        "  def in_order_traversal(self, node, visit_functionality):\n",
        "    if node is not None:\n",
        "      self.in_order_traversal(node.left, visit_functionality)\n",
        "      visit_functionality(node, end=' ')\n",
        "      self.in_order_traversal(node.right, visit_functionality)\n",
        "  \n",
        "  def pre_order_traversal(self, node, visit_functionality):\n",
        "     if node is not None:\n",
        "      visit_functionality(node, end=' ')\n",
        "      self.in_order_traversal(node.left, visit_functionality)\n",
        "      self.in_order_traversal(node.right, visit_functionality)   \n",
        "  \n",
        "  def post_order_traversal(self, node, visit_functionality):\n",
        "     if node is not None:\n",
        "      self.in_order_traversal(node.left, visit_functionality)\n",
        "      self.in_order_traversal(node.right, visit_functionality)   \n",
        "      visit_functionality(node, end=' ')\n",
        "\n",
        "# [5, 2, 8, 1, 3] -> 1, 2, 3, 5, 8 \n",
        "bst = BstDfs(Node(5))\n",
        "bst.insert(2) ; bst.insert(8) ; bst.insert(1) ; bst.insert(3)\n",
        "print('in-order',    end = ': ')  ; bst.in_order_traversal(bst.root, print)\n",
        "print('\\npre-order', end = ': ')  ; bst.pre_order_traversal(bst.root, print)\n",
        "print('\\npost-order', end = ': ') ; bst.post_order_traversal(bst.root, print)\n"
      ],
      "metadata": {
        "colab": {
          "base_uri": "https://localhost:8080/"
        },
        "id": "C4HoT1x15NO-",
        "outputId": "ffbce016-7500-4924-e286-cb6dc6f2a899"
      },
      "execution_count": null,
      "outputs": [
        {
          "output_type": "stream",
          "name": "stdout",
          "text": [
            "in-order: 1 2 3 5 8 \n",
            "pre-order: 5 1 2 3 8 \n",
            "post-order: 1 2 3 8 5 "
          ]
        }
      ]
    },
    {
      "cell_type": "code",
      "source": [
        "\"\"\" Tree height \n",
        "Determine the height of a tree (binary tree too)\n",
        "Use recursion, if current node is None return 0, \n",
        "else return 1 + maimum height of the left or the right children\n",
        "Complexity Time O(n) and Space O(h) where h is the height os the tree \n",
        "\"\"\"\n",
        "class BstHeight(Bst):\n",
        "  def height(self, node):\n",
        "    if node is None:\n",
        "      return 0 \n",
        "    return 1 + max(self.height(node.left), self.height(node.right))\n",
        "# [5, 2, 8, 1, 3] -> 1, 2, 3, 5, 8 \n",
        "bst = BstHeight(Node(5))\n",
        "bst.insert(2) ; bst.insert(8) ; bst.insert(1) ; bst.insert(3)\n",
        "print('root:', bst.root.data, 'and height:', bst.height(bst.root))"
      ],
      "metadata": {
        "colab": {
          "base_uri": "https://localhost:8080/"
        },
        "id": "dFwggccj5TUx",
        "outputId": "c6ca0978-52ed-49a0-92ed-901566494b4b"
      },
      "execution_count": null,
      "outputs": [
        {
          "output_type": "stream",
          "name": "stdout",
          "text": [
            "root: 5 and height: 3\n"
          ]
        }
      ]
    },
    {
      "cell_type": "code",
      "source": [
        "\"\"\" Tree Lowest Common ancestor \n",
        "Find the lowest common ancestor of two nodes in a binary tree \n",
        "not necessarily binary search tree \n",
        "\n",
        "Test Cases \n",
        "      __10__\n",
        "     /      \\\n",
        "    5        9\n",
        "   / \\      / \\ \n",
        " 12   3   18   20\n",
        "     / \\        /\n",
        "    1   8      40 \n",
        "\n",
        "0, 5 -> None \n",
        "5, 0 -> None \n",
        "1, 8 -> 3 \n",
        "12, 8 -> 5 \n",
        "12, 40 -> 10 \n",
        "9, 20 -> 9 \n",
        "3, 5 -> 5 \n",
        "\n",
        "1. Verify both nodes are in the tree \n",
        "2. Base cases: \n",
        "    - if root is None, return None\n",
        "    - if root is either node, return the root \n",
        "3. recurse on left and right node \n",
        "4. if the left and right are leaf nodes, return the root \n",
        "5. any other condition, left or right, whichever is valid \n",
        "Compleity would be Time O(h) h the height of the tree, each node visited\n",
        "and Space O(h) h the recursion depth, the height of the tree \n",
        "\"\"\"\n",
        "class Node_(object):\n",
        "  def __init__(self, key, left=None, right=None):\n",
        "    self.key = key \n",
        "    self.left = left \n",
        "    self.right = right \n",
        "\n",
        "class BinaryTree():\n",
        "\n",
        "  def node_in_tree(self, root, node):\n",
        "    if root is None:\n",
        "      return False \n",
        "    if root is node:\n",
        "      return True \n",
        "    # recurse on the left and right subtree\n",
        "    left = self.node_in_tree(root.left, node)\n",
        "    right = self.node_in_tree(root.right, node)\n",
        "    return left or right \n",
        "\n",
        "  def lca(self, root, node1, node2):\n",
        "    if None in (root, node1, node2):\n",
        "      return None \n",
        "    if (not self.node_in_tree(root, node1) or \\\n",
        "        not self.node_in_tree(root, node2)):\n",
        "      return None \n",
        "    return self._lca(root, node1, node2)\n",
        "  \n",
        "  def _lca(self, root, node1, node2):\n",
        "    if root is None:\n",
        "      return None \n",
        "    if root is node1 or root is node2:\n",
        "      return root \n",
        "    left_node = self._lca(root.left, node1, node2)\n",
        "    right_node = self._lca(root.right, node1, node2)\n",
        "    if left_node is not None and right_node is not None:\n",
        "      return root \n",
        "    else:\n",
        "      return left_node if left_node is not None else right_node\n",
        "\n",
        "node10 = Node_(10) ; node5 = Node_(5) ; node12 = Node_(12) ; node3 = Node_(3)\n",
        "node1 = Node_(1) ; node8 = Node_(8) ; node9 = Node_(9) ; node18 = Node_(18)\n",
        "node20 = Node_(20) ; node40 = Node_(40)\n",
        "node3.left = node1 ; node3.right =node8\n",
        "node5.left = node12 ; node5.right = node3\n",
        "node20.left = node40 ; \n",
        "node9.left = node18 ; node9.right = node20 \n",
        "node10.left = node5 ; node10.right = node9 \n",
        "root = node10\n",
        "node0 = Node_(0)\n",
        "binary_tree = BinaryTree()\n",
        "\n",
        "print(binary_tree.node_in_tree(root, node12), \n",
        "      binary_tree.node_in_tree(root, node0))\n",
        "\n",
        "lca_tc_0 = binary_tree.lca(root, node0, node5) \n",
        "lca_tc_1 = binary_tree.lca(root, node5, node0) \n",
        "lca_tc_2 = binary_tree.lca(root, node1, node8) \n",
        "lca_tc_3 = binary_tree.lca(root, node12, node8) \n",
        "lca_tc_4 = binary_tree.lca(root, node12, node40) \n",
        "lca_tc_5 = binary_tree.lca(root, node9, node20) \n",
        "lca_tc_6 = binary_tree.lca(root, node3, node5)\n",
        "print('node', lca_tc_0, 'node', lca_tc_1, \n",
        "      'node', lca_tc_2.key, 'node', lca_tc_3.key, \n",
        "      'node', lca_tc_4.key, 'node', lca_tc_5.key, \n",
        "      'node', lca_tc_6.key)"
      ],
      "metadata": {
        "colab": {
          "base_uri": "https://localhost:8080/"
        },
        "id": "uQr-oLCA5X2R",
        "outputId": "0fac1590-025b-45c2-8b22-f0e1c5423d8c"
      },
      "execution_count": null,
      "outputs": [
        {
          "output_type": "stream",
          "name": "stdout",
          "text": [
            "True False\n",
            "node None node None node 3 node 5 node 10 node 9 node 5\n"
          ]
        }
      ]
    },
    {
      "cell_type": "code",
      "source": [
        "\"\"\" Tree Lowest Common ancestor - Optimized \"\"\" "
      ],
      "metadata": {
        "colab": {
          "base_uri": "https://localhost:8080/",
          "height": 35
        },
        "id": "dei0c_7CWc_6",
        "outputId": "5ce53127-6e7c-4db1-ca28-370a13edb9f6"
      },
      "execution_count": null,
      "outputs": [
        {
          "output_type": "execute_result",
          "data": {
            "text/plain": [
              "' Tree Lowest Common ancestor - Optimized '"
            ],
            "application/vnd.google.colaboratory.intrinsic+json": {
              "type": "string"
            }
          },
          "metadata": {},
          "execution_count": 25
        }
      ]
    },
    {
      "cell_type": "code",
      "source": [
        "\"\"\" Tree Level Lists \n",
        "Create a list for each level of a binary tree \n",
        "- This is a binary search tree \n",
        "- Each level should be a list of nodes \n",
        "Test Case: \n",
        "[5,3,8,2,4,1,7,6,9,10,11] -> [ [5], [3,8], [2,4,7,9], [1,6,10], [11] ]\n",
        "Use either DFS or BFS.\n",
        "We use BFS to keep track of parents as we build the linked list for curr level\n",
        "Complexity is Time O(n) and Space O(n) as we visit each node \n",
        "\"\"\" \n",
        "class BstLevelLists(Bst):\n",
        "  def create_level_lists(self):\n",
        "    if self.root is None:\n",
        "      return \n",
        "    results = []\n",
        "    current = []\n",
        "    parents = []\n",
        "    current.append(self.root)\n",
        "    while current:\n",
        "      results.append(current)\n",
        "      parents = list(current)\n",
        "      current = []\n",
        "      for parent in parents:\n",
        "        if parent.left is not None:\n",
        "          current.append(parent.left)\n",
        "        if parent.right is not None:\n",
        "          current.append(parent.right)\n",
        "    return results \n",
        "\n",
        "bst = BstLevelLists(Node(5))\n",
        "bst.insert(3) ; bst.insert(8) ; bst.insert(2) ; bst.insert(4) ; bst.insert(1)\n",
        "bst.insert(7) ; bst.insert(6) ; bst.insert(9) ; bst.insert(10) ;bst.insert(11)\n",
        "\n",
        "levels = bst.create_level_lists()\n",
        "results_list = []\n",
        "for level in levels:\n",
        "  results = []\n",
        "  for node in level:\n",
        "    results.append(node)\n",
        "  results_list.append(results)\n",
        "\n",
        "results_list\n"
      ],
      "metadata": {
        "colab": {
          "base_uri": "https://localhost:8080/"
        },
        "id": "S9owjpwm5ddd",
        "outputId": "d1ea6094-7d42-42df-887e-37d3592dd149"
      },
      "execution_count": null,
      "outputs": [
        {
          "output_type": "execute_result",
          "data": {
            "text/plain": [
              "[[5], [3, 8], [2, 4, 7, 9], [1, 6, 10], [11]]"
            ]
          },
          "metadata": {},
          "execution_count": 26
        }
      ]
    },
    {
      "cell_type": "code",
      "source": [
        "\"\"\" BST validate \n",
        "Determine if a tree is a valid binary tree \n",
        "\n",
        "Constraints\n",
        "- The tree can have duplicates \n",
        "- If the input is None, raise the exception with Key/Value Error message \n",
        "- Assume we have alredy the Node and BST class with at least insert \n",
        "Test Cases \n",
        "None -> Exception \n",
        "Valid BST:           Invalid BST (property doesn't hold)\n",
        "      5                     5\n",
        "    /   \\                 /   \\\n",
        "   5     8               5     8\n",
        "  /      /                \\\n",
        " 4      6                 20\n",
        "        \\\n",
        "         7\n",
        "Approach to use recursion that validates left <= current < right, passing \n",
        "down min and ma values as we do a depth-first traversal \n",
        "  - If node is None return True \n",
        "  - if min is set and the node's value <= min, return False \n",
        "  - if max is set and the node's value > max, return False \n",
        "  - Recursively call the validate function on node.left, update max \n",
        "  - Recursively call the validate function on node.right, update min \n",
        "\n",
        "Complexity: \n",
        "Time O(n)\n",
        "Space O(h) where h is the height of the tree \n",
        "\n",
        "\"\"\" \n",
        "import sys\n",
        "class BstValidate(Bst):\n",
        "  def validate(self):\n",
        "    if self.root is None:\n",
        "      raise TypeError('no root node')\n",
        "    return self._validate(self.root)\n",
        "  \n",
        "  def _validate(self, node, minimum=-sys.maxsize, maximum=sys.maxsize):\n",
        "    if node is None:\n",
        "      return True \n",
        "    if node.data <= minimum or node.data > maximum:\n",
        "      return False \n",
        "    if not self._validate(node.left, minimum, node.data):\n",
        "      return False \n",
        "    if not self._validate(node.right, node.data, maximum):\n",
        "      return False\n",
        "    return True \n",
        "\n",
        "bst = BstValidate(Node(5))\n",
        "bst.insert(8) \n",
        "bst.insert(5)\n",
        "bst.insert(6)\n",
        "bst.insert(4)\n",
        "bst.insert(7) \n",
        "print(bst.validate()) \n",
        "\n",
        "bst = BstValidate(Node(5))\n",
        "left = bst.insert(5) \n",
        "right = bst.insert(8)\n",
        "invalid = bst.insert(20)\n",
        "bst.root.left = left \n",
        "bst.root.right = right \n",
        "bst.root.left.right = invalid \n",
        "print(bst.validate())"
      ],
      "metadata": {
        "colab": {
          "base_uri": "https://localhost:8080/"
        },
        "id": "IwThreOo5m8T",
        "outputId": "b0aa54c2-fa84-4ef4-c17f-f086c1ba1e5f"
      },
      "execution_count": null,
      "outputs": [
        {
          "output_type": "stream",
          "name": "stdout",
          "text": [
            "True\n",
            "False\n"
          ]
        }
      ]
    },
    {
      "cell_type": "code",
      "source": [
        "\"\"\" BST balanced \n",
        "Check if a binary tree is balanced \n",
        "\n",
        "Constraints\n",
        "- Is a balanced tree one where the heights of two sub trees of any node \n",
        "doesn't differ by more than 1.\n",
        "- If this is called on a None input, we raise an eception \n",
        "- We assume we have a Node class with insert methods, and fits the memory\n",
        "Test Cases \n",
        "  - None -> No \n",
        "  - 1 -> Yes \n",
        "  - [5, 3, 8, 1, 4] -> Yes \n",
        "  - [5, 3, 8, 9, 10] -> No\n",
        "\n",
        "Approach/Algorithm very similar to the one we use for the heights \n",
        "Base Case: If the root is None, return 0 \n",
        "Recurse check if the left subtree is balanced, and get its height, left_height\n",
        "Recurse check if the right subtree is balanced, and get its height, right_height\n",
        "Compare left_height and right_height \n",
        "Return 1 + max(left_height, right_height)\n",
        "\n",
        "Complexity: Time O(n), Space O(h)\n",
        "\"\"\" \n",
        "class BstBalance(Bst):\n",
        "\n",
        "  def check_balance(self):\n",
        "    if self.root is None:\n",
        "      raise TypeError('root cannot be none')\n",
        "    height = self._check_balance(self.root)\n",
        "    return height != -1 \n",
        "  \n",
        "  def _check_balance(self, node):\n",
        "    if node is None:\n",
        "      return 0 \n",
        "    left_height = self._check_balance(node.left)\n",
        "    if left_height == -1:\n",
        "      return -1 \n",
        "    right_height = self._check_balance(node.right)\n",
        "    if right_height == -1:\n",
        "      return -1 \n",
        "    diff = abs(left_height - right_height)\n",
        "    if diff > 1:\n",
        "      return -1\n",
        "    return 1 + max(left_height, right_height)\n",
        "\n",
        "bst = BstBalance(Node(5))\n",
        "bst.insert(3) ; bst.insert(8) ; bst.insert(1) ; bst.insert(4)\n",
        "print(bst.check_balance())\n",
        "\n",
        "bst = BstBalance(Node(5))\n",
        "bst.insert(3) ; bst.insert(8) ; bst.insert(9) ; bst.insert(10)\n",
        "print(bst.check_balance())\n"
      ],
      "metadata": {
        "colab": {
          "base_uri": "https://localhost:8080/"
        },
        "id": "Ysgms97J5sjc",
        "outputId": "7c143acd-5a20-4250-a3b7-c84c92040cc0"
      },
      "execution_count": null,
      "outputs": [
        {
          "output_type": "stream",
          "name": "stdout",
          "text": [
            "True\n",
            "False\n"
          ]
        }
      ]
    },
    {
      "cell_type": "code",
      "source": [
        "\"\"\" BST second largest node \n",
        "Input tree, output 20       output 7 \n",
        "    __10__                   __10__ \n",
        "    /    \\                 /   \n",
        "   5     15               5  \n",
        "  / \\    / \\             / \\  \n",
        " 3   8  12. 20          3   7 \n",
        "/     \\       \\\n",
        "2      4       30\n",
        "\n",
        "For BST, if there is no right node to the root (right subtree),\n",
        "the second largest node is the right most node in the left subtree (7)\n",
        "\n",
        "If there is a right node to the root (right subtree), like 15 and the node has\n",
        "left and right children, then recurse on the right child node. \n",
        "Eventually we will get to the scenario in which the right node has no childrem\n",
        "(30 in our case), then the second largest node is the current node (20).\n",
        "\n",
        "Complexity Time O(h), Space O(h), hwere h is the height os the tree \n",
        "\"\"\"\n",
        "class Bst2nd(Bst):\n",
        "  def find_second_largest(self):\n",
        "    if self.root is None:\n",
        "      raise TypeError('root cannot be None')\n",
        "    if self.root.left is None and self.root.right is None:\n",
        "      raise ValueError('root must have at least one child')\n",
        "    return self._find_second_largest(self.root)\n",
        "\n",
        "  def _find_second_largest(self, node):\n",
        "    if node.right is not None:\n",
        "      # right subtree\n",
        "      if node.right.left is not None or node.right.right is not None:\n",
        "        return self._find_second_largest(node.right)\n",
        "      else:\n",
        "        return node \n",
        "    else:\n",
        "      # right most node in left subtree \n",
        "      self._find_right_most_node(node.left)\n",
        "\n",
        "  def _find_right_most_node(self, node):\n",
        "    if node.right is not None:\n",
        "      return self._find_right_most_node(node.right)\n",
        "    else:\n",
        "      return node \n",
        "\n",
        "root = Node(10)\n",
        "bst = Bst2nd(root)\n",
        "node_5 = bst.insert(5) ; node_15 = bst.insert(15) ; node_3 = bst.insert(3)\n",
        "node_8 = bst.insert(8) ; node_12 = bst.insert(12) ; node_20 = bst.insert(20)\n",
        "node_2 = bst.insert(2) ; node_4 = bst.insert(4) ; node_30 = bst.insert(30)\n",
        "print(bst.find_second_largest())\n",
        "\n",
        "root = Node(10)\n",
        "bst = Bst2nd(root)\n",
        "node_5 = bst.insert(5)  ; node_15 = bst.insert(15) ; node_3 = bst.insert(3)\n",
        "node_7 = bst.insert(7)\n",
        "print(bst.find_second_largest())\n"
      ],
      "metadata": {
        "colab": {
          "base_uri": "https://localhost:8080/"
        },
        "id": "jiJ2yL0-mkeW",
        "outputId": "a88cbba8-f7b4-4c70-e7e2-601ac4c80a3d"
      },
      "execution_count": null,
      "outputs": [
        {
          "output_type": "stream",
          "name": "stdout",
          "text": [
            "20\n",
            "10\n"
          ]
        }
      ]
    },
    {
      "cell_type": "code",
      "source": [
        "\"\"\" BST successor \n",
        "Find the in-order successor of a given node in a binary tree. \n",
        "\n",
        "- If there is no successor return None \n",
        "- If the input is None, throw an exception \n",
        "- Assume we have a Node class that keeps track of parents?\n",
        "- Assumes this fits the memory \n",
        "\n",
        "Test Cases\n",
        "      __5__\n",
        "    /       \\\n",
        "   3         8\n",
        "  / \\       /  \\\n",
        " 2   4     6    12 \n",
        "/          \\    /  \\\n",
        "1           7  10  15 \n",
        "                /\n",
        "                9\n",
        "\n",
        "In: None  Out: Exception\n",
        "In: 4     Out: 5 \n",
        "In: 5     Out: 6\n",
        "In: 8     Out: 9 \n",
        "In: 15    Out: None \n",
        "\n",
        "Algorithm \n",
        "- If the node has a right subtree, return the left-most node in right subtree \n",
        "- Else, go up until you find a node that is its parent's left node\n",
        "  - If you get to the root (ie node.parent is None), return None \n",
        "    The original input node must be the largest in the tree\n",
        "  - Else, return the parent\n",
        "\n",
        "Complexity:\n",
        "Time: O(h), where h is the height of the tree\n",
        "Space: O(h), where h is the recursion depth (tree height), \n",
        "       or O(1) if using an iterative approach\n",
        "\"\"\"\n",
        "class BstSuccessor():\n",
        "\n",
        "  def get_next(self, node):\n",
        "    if node is None:\n",
        "      raise TypeError('node cannot be None')\n",
        "    if node.right is not None:\n",
        "      return self._left_most(node.right)\n",
        "    else:\n",
        "      return self._next_ancestor(node)\n",
        "\n",
        "  def _left_most(self, node):\n",
        "    if node.left is not None:\n",
        "      return self._left_most(node.left)\n",
        "    else:\n",
        "      return node.data \n",
        "\n",
        "  def _next_ancestor(self, node):\n",
        "    if node.parent is not None:\n",
        "      if node.parent.data > node.data:\n",
        "        return node.parent.data \n",
        "      else:\n",
        "        return self._next_ancestor(node.parent)\n",
        "    # We reached the root, the original input node \n",
        "    # must be the largest element in the tree.\n",
        "    return None \n",
        "\n",
        "bst_successor = BstSuccessor()\n",
        "nodes = {}\n",
        "node = Node(5)\n",
        "nodes[5] = node\n",
        "bst = Bst(nodes[5]) \n",
        "nodes[3] = bst.insert(3) \n",
        "nodes[8] = bst.insert(8) \n",
        "nodes[2] = bst.insert(2) \n",
        "nodes[4] = bst.insert(4) \n",
        "nodes[6] = bst.insert(6) \n",
        "nodes[12] = bst.insert(12) \n",
        "nodes[1] = bst.insert(1) \n",
        "nodes[7] = bst.insert(7) \n",
        "nodes[10] = bst.insert(10) \n",
        "nodes[15] = bst.insert(15) \n",
        "nodes[9] = bst.insert(9)\n",
        "\n",
        "print(bst_successor.get_next(nodes[4]))\n",
        "print(bst_successor.get_next(nodes[5]))\n",
        "print(bst_successor.get_next(nodes[8]))\n",
        "print(bst_successor.get_next(nodes[15]))\n"
      ],
      "metadata": {
        "colab": {
          "base_uri": "https://localhost:8080/"
        },
        "id": "ugs6-1wQmlCM",
        "outputId": "adab2db9-89ad-4951-985b-1c9df4b6661d"
      },
      "execution_count": null,
      "outputs": [
        {
          "output_type": "stream",
          "name": "stdout",
          "text": [
            "5\n",
            "6\n",
            "9\n",
            "None\n"
          ]
        }
      ]
    },
    {
      "cell_type": "code",
      "source": [
        "\"\"\" Trie \n",
        "Implement a trie with find, insert, remove and a list_words methods \n",
        "\n",
        "Constraints\n",
        " - Assume we are working with strings (in ASCII)\n",
        " - Should find only match exact words with an ending character \n",
        " - list_words only return words with an ending character \n",
        "Test Cases \n",
        " - root node is denoted by ''\n",
        "            ''\n",
        "          / | \\\n",
        "        h   a*  m \n",
        "       / \\   \\   \\\n",
        "     a    e*  t*  e* \n",
        "    / \\         /  \\\n",
        "    s*  t*     n*    t*\n",
        "              /\n",
        "              s*\n",
        " - Find \n",
        "    * find on an empty trie \n",
        "    * find non-matching \n",
        "    * find matching \n",
        " - Insert \n",
        "    * insert on empty trie \n",
        "    * insert to make a leaf ending character \n",
        "    * insert to extend an existing ending character \n",
        " - Remove \n",
        "    * remove me \n",
        "    * remove mens\n",
        "    * remove a \n",
        "    * remove has \n",
        " - List_words\n",
        "    * list empty \n",
        "    * list general case \n",
        "\n",
        "Algorithm \n",
        " - Find \n",
        "    Set node to root, for each char in input word\n",
        "      - check the current node's children if it contains the char\n",
        "        - if a chaild has the char, set the node to the child \n",
        "        - else return None \n",
        " - Insert \n",
        "    * \n",
        " - Remove \n",
        "    * \n",
        " - List_words\n",
        "    * \n",
        "\n",
        "\"\"\"\n",
        "from collections import OrderedDict\n",
        "\n",
        "class Node_T():\n",
        "  def __init__(self, key, parent=None, ending=False):\n",
        "    self.key = key \n",
        "    self.ending = False \n",
        "    self.parent = parent \n",
        "    self.children = {}\n",
        "  \n",
        "class Trie():\n",
        "  def __init__(self):\n",
        "    self.root = Node_T('')\n",
        "  \n",
        "  def find (self, word):\n",
        "    if word is None:\n",
        "      raise TypeError('word cannot be none')\n",
        "    node = self.root\n",
        "    for char in word:\n",
        "      if char in node.children:\n",
        "        node = node.children(char)\n",
        "      else:\n",
        "        return None \n",
        "    return node if node.ending else None \n"
      ],
      "metadata": {
        "id": "e34azQqmmleH"
      },
      "execution_count": null,
      "outputs": []
    },
    {
      "cell_type": "markdown",
      "source": [
        "# Sorting and Searches"
      ],
      "metadata": {
        "id": "3RPVYTARml22"
      }
    },
    {
      "cell_type": "code",
      "source": [
        "\"\"\" group anagrams \n",
        "   Input: ['ram', 'act', 'arm', 'bat', 'cat', 'tab']\n",
        "   Sort the chars for each item:\n",
        "   'ram' -> 'amr'\n",
        "   'act' -> 'act'\n",
        "   'arm' -> 'amr'\n",
        "   'abt' -> 'bat'\n",
        "   'cat' -> 'act'\n",
        "   'abt' -> 'tab'\n",
        "   Use a map of sorted chars to each item to group anagrams:\n",
        "   {\n",
        "       'amr': ['ram', 'arm'],\n",
        "       'act': ['act', 'cat'],\n",
        "       'abt': ['bat', 'tab']\n",
        "   }\n",
        "   Result: ['arm', 'ram', 'act', 'cat', 'bat', 'tab']\n",
        "\n",
        "Complexity:\n",
        "Time: O(k * n), due to the modified bucket sort Space: O(n)\n",
        "\"\"\"\n",
        "from collections import OrderedDict \n",
        "anagram_map = OrderedDict()\n",
        "items = ['ram', 'act', 'arm', 'bat', 'cat', 'tab']\n",
        "\n",
        "def group_anagrams(items):\n",
        "\tif items is None:\n",
        "\t\traise TypeError('items cannot be none')\n",
        "\tif not items:\n",
        "\t\treturn items\n",
        "\tfor item in items:\n",
        "\t\tprint(item, sorted(item), tuple(sorted(item)))\n",
        "\t\tsorted_chars = tuple(sorted(item))\n",
        "\t\tif sorted_chars in anagram_map:\n",
        "\t\t\tanagram_map[sorted_chars].append(item)\n",
        "\t\telse:\n",
        "\t\t\tanagram_map[sorted_chars] = [item]\n",
        "\tresult = []\n",
        "\tfor value in anagram_map.values():\n",
        "\t\tresult.append(value)\n",
        "\treturn result\n",
        "\n",
        "print(group_anagrams(items))"
      ],
      "metadata": {
        "colab": {
          "base_uri": "https://localhost:8080/"
        },
        "id": "_4ytYH1DmmFE",
        "outputId": "1ce8a0cb-49ec-4825-bcb1-8ec02d2c3887"
      },
      "execution_count": null,
      "outputs": [
        {
          "output_type": "stream",
          "name": "stdout",
          "text": [
            "ram ['a', 'm', 'r'] ('a', 'm', 'r')\n",
            "act ['a', 'c', 't'] ('a', 'c', 't')\n",
            "arm ['a', 'm', 'r'] ('a', 'm', 'r')\n",
            "bat ['a', 'b', 't'] ('a', 'b', 't')\n",
            "cat ['a', 'c', 't'] ('a', 'c', 't')\n",
            "tab ['a', 'b', 't'] ('a', 'b', 't')\n",
            "[['ram', 'arm'], ['act', 'cat'], ['bat', 'tab']]\n"
          ]
        }
      ]
    },
    {
      "cell_type": "code",
      "source": [
        "\"\"\" insertion sort \n",
        "\n",
        "Algorithm \n",
        "\tFor each value index from 1 to n-1 \n",
        "\t - compare with all elements to the left of the current value \n",
        "\t to determine new insertion point  \n",
        "\t \t- hold current value in temp variable \n",
        "\t \t- shift elements from new insertion point right \n",
        "\t \t- insert value in temp variable \n",
        "\t \t- break \n",
        "\n",
        "Complexity O(n^2) average/worst, and O(1) best if input is already sorted \n",
        "Space O(1) for iterative solution\n",
        "\"\"\"\n",
        "def insertion_sort(array):\n",
        "\tif array is None:\n",
        "\t\traise TypeError('data cannot be none')\n",
        "\tif len(array) < 2:\n",
        "\t\treturn array \n",
        "\tfor r in range(1, len(array)):\n",
        "\t\tfor l in range(r):\n",
        "\t\t\tif array[r] < array[l]:\n",
        "\t\t\t\ttemp =  array[r]\n",
        "\t\t\t\tarray[l+1:r+1] = array[l:r]\n",
        "\t\t\t\tarray[l] = temp \n",
        "\treturn array\n",
        "\n",
        "data = [5, 1, 7, 2, 6, -3, 5, 7, -1]\n",
        "insertion_sort(data)\n",
        "print(data)"
      ],
      "metadata": {
        "colab": {
          "base_uri": "https://localhost:8080/"
        },
        "id": "yH3q1PUL2pK1",
        "outputId": "efacdeee-b414-4c99-aeef-de339ac4ba25"
      },
      "execution_count": null,
      "outputs": [
        {
          "output_type": "stream",
          "name": "stdout",
          "text": [
            "[-3, -1, 1, 2, 5, 5, 6, 7, 7]\n"
          ]
        }
      ]
    },
    {
      "cell_type": "code",
      "source": [
        "\"\"\" merge arrays \n",
        "\n",
        "Given sorted arrays A, B, merge B into A in sorted order \n",
        "A or B is None -> exception \n",
        "index of last A or B < 0 -> exception \n",
        "A or B is empty\n",
        "A = [1, 3, 5, 7, 9, None, None, None]\n",
        "B = [4, 5, 6]\n",
        "A = [1, 3, 4, 5, 5, 6, 7, 9]\n",
        "\n",
        "Algorithm \n",
        "A = [1, 3, 5, 7, 9, None, None, None] B = [4, 5, 6]\n",
        "---\n",
        "A[k] = max(A[i], B[j])  A = [1, 3, 5, 7, 9, None, None, 9]  B = [4, 5, 6]\n",
        "A[k] = max(A[i], B[j])  A = [1, 3, 5, 7, 9, None, 7, 9] B = [4, 5, 6]\n",
        "A[k] = max(A[i], B[j])  A = [1, 3, 5, 7, 9, 6, 7, 9]  B = [4, 5, 6]\n",
        "A[k] = max(A[i], B[j])  A = [1, 3, 5, 7, 5, 6, 7, 9]  B = [4, 5, 6]\n",
        "A[k] = max(A[i], B[j])  A = [1, 3, 5, 5, 5, 6, 7, 9]  B = [4, 5, 6]\n",
        "A[k] = max(A[i], B[j])  A = [1, 3, 4, 5, 5, 6, 7, 9]  B = [4, 5, 6]\n",
        "A[k] = max(A[i], B[j])  A = [1, 3, 4, 5, 5, 6, 7, 9]  B = [4, 5, 6]\n",
        "A = [1, 3, 4, 5, 5, 6, 7, 9]\n",
        "\n",
        "Complexity: Time O(m+n), Space O(1)\n",
        "\"\"\" \n",
        "def merge_into(source, dest, source_end_index, dest_end_index):\n",
        "\tif source is None or dest is None:\n",
        "\t\traise TypeError('source or dest cannot be None') # exception\n",
        "\tif source_end_index < 0 or dest_end_index < 0:\n",
        "\t\traise ValueError('end indices must be >= 0') # exception\n",
        "\tif not source: \n",
        "\t\treturn dest \n",
        "\tif not dest:\n",
        "\t\treturn source \n",
        "\tsource_index = source_end_index - 1 \n",
        "\tdest_index = dest_end_index - 1 \n",
        "\tinsert_index = source_end_index + dest_end_index - 1 \n",
        "\twhile dest_index >= 0:\n",
        "\t\tif source[source_index] > dest[dest_index]:\n",
        "\t\t\tsource[insert_index] = source[source_index]\n",
        "\t\t\tsource_index -= 1\n",
        "\t\telse:\n",
        "\t\t\tsource[insert_index] = dest[dest_index]\n",
        "\t\t\tdest_index -= 1 \n",
        "\t\tinsert_index -= 1 \n",
        "\treturn source \n",
        "\n",
        "a = [1, 3, 5, 7, 9, None, None, None]\n",
        "b = [4, 5, 6]\n",
        "\n",
        "merge_into(a, b, 5, len(b))\n",
        "print(a)"
      ],
      "metadata": {
        "colab": {
          "base_uri": "https://localhost:8080/"
        },
        "id": "ltQ1wZ3z2pW6",
        "outputId": "e267120a-f3dc-41d1-a018-00d1b61c9e89"
      },
      "execution_count": null,
      "outputs": [
        {
          "output_type": "stream",
          "name": "stdout",
          "text": [
            "[1, 3, 4, 5, 5, 6, 7, 9]\n"
          ]
        }
      ]
    },
    {
      "cell_type": "code",
      "source": [
        "\"\"\" merge sort \n",
        "\n",
        "Algorithm \n",
        "\t- Recursively split array into left and right halves \n",
        "\t- Merge split arrays \n",
        "\t\t- use two pointers, one for each half starting at index 0 \n",
        "\t\t\t- add smaller element to the array, increment pointer \n",
        "\t\t- copy remaining elements into result array \n",
        "\t\t- return result array \n",
        "Complexity\n",
        "\t- Time O(nlog(n)), Space O(n)\n",
        "\n",
        "Good choice for data sets that are too large to fit in memory, as large chunks\n",
        "of data can be read or written to disk \n",
        "\"\"\" \n",
        "#from __future__ import division \n",
        "\n",
        "class MergeSort():\n",
        "\n",
        "\tdef sort(self, data):\n",
        "\t\tif data is None:\n",
        "\t\t\traise TypeError('data cannot be None')\n",
        "\t\treturn self._sort(data)\n",
        "\n",
        "\tdef _sort(self, data):\n",
        "\t\tif len(data) < 2:\n",
        "\t\t\treturn data \n",
        "\t\tmid = len(data) // 2\n",
        "\t\tleft = data[:mid]\n",
        "\t\tright = data[mid:]\n",
        "\t\tleft = self._sort(left)\n",
        "\t\tright = self._sort(right)\n",
        "\t\treturn self._merge(left, right)\n",
        "\n",
        "\tdef _merge(self, left, right):\n",
        "\t\tl = 0 ; r = 0 ; result = []\n",
        "\t\twhile l < len(left) and r < len(right):\n",
        "\t\t\tif left[l] < right[r]:\n",
        "\t\t\t\tresult.append(left[l])\n",
        "\t\t\t\tl += 1\n",
        "\t\t\telse:\n",
        "\t\t\t\tresult.append(right[r])\n",
        "\t\t\t\tr += 1 \n",
        "\t\t# copy remaining elements \n",
        "\t\twhile l < len(left):\n",
        "\t\t\tresult.append(left[l])\n",
        "\t\t\tl += 1\n",
        "\t\twhile r < len(right):\n",
        "\t\t\tresult.append(right[r])\n",
        "\t\t\tr +=1 \n",
        "\t\treturn result \n",
        "\n",
        "merge_sort = MergeSort()\n",
        "data = [5, 1, 7, 2, 6, -3, 5, 7, -1]\n",
        "data_sorted = merge_sort.sort(data)\n",
        "print(data_sorted)"
      ],
      "metadata": {
        "colab": {
          "base_uri": "https://localhost:8080/"
        },
        "id": "7dDa280V2pah",
        "outputId": "ee66d03e-92c9-425d-ba70-d5f888b576b0"
      },
      "execution_count": null,
      "outputs": [
        {
          "output_type": "stream",
          "name": "stdout",
          "text": [
            "[-3, -1, 1, 2, 5, 5, 6, 7, 7]\n"
          ]
        }
      ]
    },
    {
      "cell_type": "code",
      "source": [
        "\"\"\" \n",
        "Given an array of n integers, find an integer not in the input. \n",
        "Use a minimal amount of memory. \n",
        "\n",
        "Algorithm \n",
        "The problem states to use minimal amount of memory. Use e bit vector \n",
        "to keep track of inputs.\n",
        "Let's say we are given 4 billion integers, which is 2^32 integers. \n",
        "The number of non-negative integers would be 2^31.\n",
        "With a bit vector we will need 4 billion bits to map each integer to a bit.\n",
        "Say we had only 1GB of memory or 2^32 bytes ~ 8 billion bits \n",
        "\n",
        "Work with an input of up to 32 ints that we will map to a bit vector of 32 bits\n",
        "\n",
        "input = [0, 1, 2, 3, 4...28, 29, 31]\n",
        "bytes [ 1 ][ 2 ][ 3 ][ 4 ]\n",
        "index = 0 1 2 3 4 5 6 7 8 9 10 11 12 13 14 15 16 17 18 19 20 21 22 23 24 25 26 \n",
        "27 28 29 30 31\n",
        "bit_vector = 1 1 1 1 1 1 1 1 1 1 1 1 1 1 1 1 1 111111111111101\n",
        "result = 30\n",
        "* Loop through each item in the input, setting bit_vector[item] = True.\n",
        "* Loop through the bit_vector, return the first index \n",
        "where bit_vector[item] == False.\n",
        "\n",
        "Complexity: Time: O(b), where b is the number of bits Space: O(b)\n",
        "\"\"\"\n",
        "!pip install bitstring\n",
        "from bitstring import BitArray\n",
        "\n",
        "class Bits():\n",
        "\tdef new_int(self, array, max_size):\n",
        "\t\tif not array:\n",
        "\t\t\traise TypeError('array cannpt be None or empty')\n",
        "\t\tbit_vector = BitArray(max_size)\n",
        "\t\tfor item in array:\n",
        "\t\t\tbit_vector[item] = True \n",
        "\t\t#print('bit_vector', bit_vector)\n",
        "\t\tfor index, item in enumerate(bit_vector):\n",
        "\t\t\tif not item:\n",
        "\t\t\t\treturn index \n",
        "\t\treturn None \n",
        "\n",
        "bits = Bits()\n",
        "max_size = 32 \n",
        "data = [item for item in range(30)]\n",
        "print(bits.new_int(data, max_size))\n",
        "data = [item for item in range(32)]\n",
        "print(bits.new_int(data, max_size))"
      ],
      "metadata": {
        "colab": {
          "base_uri": "https://localhost:8080/"
        },
        "id": "BDDW5-No2pfn",
        "outputId": "b0445e62-f907-4d3e-e222-b520967e942a"
      },
      "execution_count": null,
      "outputs": [
        {
          "output_type": "stream",
          "name": "stdout",
          "text": [
            "Looking in indexes: https://pypi.org/simple, https://us-python.pkg.dev/colab-wheels/public/simple/\n",
            "Collecting bitstring\n",
            "  Downloading bitstring-4.0.1-py3-none-any.whl (45 kB)\n",
            "\u001b[K     |████████████████████████████████| 45 kB 977 kB/s \n",
            "\u001b[?25hInstalling collected packages: bitstring\n",
            "Successfully installed bitstring-4.0.1\n",
            "30\n",
            "None\n"
          ]
        }
      ]
    },
    {
      "cell_type": "code",
      "source": [
        "\"\"\" Implement QuickSort \n",
        "\n",
        "Algorithm \n",
        "- Set pivot to the middle element in the data \n",
        "- For each element:\n",
        "\t- if current element is the pivot, continue \n",
        "\t- if the element is less than the pivot, add to left array \n",
        "\t- else, add to right array \n",
        "- Recursively apply quicksort to the left array \n",
        "- Recursively apply quicksort to the right array \n",
        "- Merge the left array + pivot + right array \n",
        "\n",
        "Complexity:\n",
        "Time: O(n log(n)) average, best, O(n^2) worst Space: O(n)\n",
        "\"\"\"\n",
        "class QuickSort():\n",
        "\n",
        "\tdef sort(self, data):\n",
        "\t\tif data is None:\n",
        "\t\t\traise TypeError('data cannot be None')\n",
        "\t\treturn self._sort(data)\n",
        "\n",
        "\tdef _sort(self, data):\n",
        "\t\tif len(data) < 2:\n",
        "\t\t\treturn data \n",
        "\t\tequal = []\n",
        "\t\tleft = []\n",
        "\t\tright = []\n",
        "\t\tpivot_index = len(data) // 2 \n",
        "\t\tpivot_value = data[pivot_index]\n",
        "\t\t# build the left and right partitions \n",
        "\t\tfor item in data:\n",
        "\t\t\tif item == pivot_value:\n",
        "\t\t\t\tequal.append(item)\n",
        "\t\t\telif item < pivot_value:\n",
        "\t\t\t\tleft.append(item)\n",
        "\t\t\telse:\n",
        "\t\t\t\tright.append(item)\n",
        "\t\t# recursively apply quick_sort\n",
        "\t\tleft_ = self._sort(left)\n",
        "\t\tright_ = self._sort(right)\n",
        "\t\treturn left_ + equal + right_\n",
        "\n",
        "quick_sort = QuickSort()\n",
        "\n",
        "data = [5, 1, 7, 2, 6, -3, 5, 7, -1]\n",
        "data_sorted = quick_sort.sort(data)\n",
        "print(data_sorted)"
      ],
      "metadata": {
        "colab": {
          "base_uri": "https://localhost:8080/"
        },
        "id": "gYbAQz1i2p2S",
        "outputId": "2a04e5fb-7c41-4c73-aa27-dc40f68de6e7"
      },
      "execution_count": null,
      "outputs": [
        {
          "output_type": "stream",
          "name": "stdout",
          "text": [
            "[-3, -1, 1, 2, 5, 5, 6, 7, 7]\n"
          ]
        }
      ]
    },
    {
      "cell_type": "code",
      "source": [
        "\"\"\" radix sort \n",
        "\n",
        "Algorithm \n",
        "Sample input [1, 220, 122, 112]\n",
        "\n",
        "We will evaluate each digit starting with the ones position \n",
        "\t[1, 220, 122, 112]\n",
        "\t\tBucket 0: 220\n",
        "\t\tBucket 1: 1\n",
        "\t\tBucket 2: 122, 112 \n",
        "\t\tResult: [220, 1, 122, 112]\n",
        "\t[220, 1, 122, 112] \n",
        "\t\tBucket 0: 1\n",
        "\t\tBucket 1: 112\n",
        "\t\tBucket 2: 220, 122 \n",
        "\t\tResult: [1, 112, 220, 122]\n",
        "\t[1, 112, 220, 122] \n",
        "\t\tBucket 0: 1\n",
        "\t\tBucket 1: 112, 122 \n",
        "\t\tBucket 2: 220\n",
        "\t\tResult: [1, 112, 122, 220]\n",
        "\n",
        "\tBucketing example: 123\n",
        "\tOnes\n",
        "\t\t123 // 10^0 = 123\n",
        "\t\t123 % 10 = 3 \n",
        "\tTens\n",
        "\t\t123 // 10^1 = 12\n",
        "\t\t12 % 10 = 2 \n",
        "\tHundreds\n",
        "\t\t123 // 10^2 = 1 1 % 10 = 1\n",
        "\n",
        "Complexity:\n",
        "Time: O(k*n), where n is the number of items and k is the number of digits in \n",
        "the largest item. Space: O(k+n)\n",
        "\"\"\"\n",
        "class RadixSort(object):\n",
        "\tdef sort(self, array, base=10): \n",
        "\t\tif array is None:\n",
        "\t\t\traise TypeError('array cannot be None') \n",
        "\t\tif not array:\n",
        "\t\t\treturn []\n",
        "\t\tmax_element = max(array)\n",
        "\t\tmax_digits = len(str(abs(max_element))) \n",
        "\t\tcurr_array = array\n",
        "\t\tfor digit in range(max_digits):\n",
        "\t\t\tbuckets = [[] for _ in range(base)] \n",
        "\t\t\tfor item in curr_array:\n",
        "\t\t\t\tbuckets[(item//(base**digit))%base].append(item) \n",
        "\t\t\tcurr_array = []\n",
        "\t\t\tfor bucket in buckets: \n",
        "\t\t\t\tcurr_array.extend(bucket)\n",
        "\t\treturn curr_array\n",
        "\n",
        "array = [128, 256, 164, 8, 2, 148, 212, 242, 244]\n",
        "radix_sort = RadixSort()\n",
        "array_sorted = radix_sort.sort(array)\n",
        "print(array)\n",
        "print(array_sorted)"
      ],
      "metadata": {
        "colab": {
          "base_uri": "https://localhost:8080/"
        },
        "id": "dpUfCM_n2p6I",
        "outputId": "1603f394-bc50-4afb-b916-c7cfce67fb56"
      },
      "execution_count": null,
      "outputs": [
        {
          "output_type": "stream",
          "name": "stdout",
          "text": [
            "[128, 256, 164, 8, 2, 148, 212, 242, 244]\n",
            "[2, 8, 128, 148, 164, 212, 242, 244, 256]\n"
          ]
        }
      ]
    },
    {
      "cell_type": "code",
      "source": [
        "\"\"\" Selection Sort \n",
        "\n",
        "Algorithm \n",
        "We can do this recursively or iteratively. Iteratively will be more efficient \n",
        "as it doesn't require the extra space overhead with the recursive calls.\n",
        "\n",
        "- For each element\n",
        "\t- Check every element to the right to find the min \n",
        "\t- If min < current element, swap\n",
        "\n",
        "Complexity:\n",
        "Time: O(n^2) average, worst, best\n",
        "Space: O(1) iterative, O(m) recursive where m is the recursion depth \n",
        "(unless tail-call elimination is available, then O(1))\n",
        "\n",
        "Selection sort might be a good option if moving elements is more expensive than \n",
        "comparing them, as it requires at most n-1 swaps.\n",
        "The finding of a minimum element can be done with a min heap, which would change \n",
        "the worst-case run time to O(n log(n)) and increase the space to O(n). \n",
        "This is called a heap sort.\n",
        "\"\"\"\n",
        "class SelectionSort():\n",
        "\n",
        "\tdef sort(self, data): \n",
        "\t\tif data is None:\n",
        "\t\t\traise TypeError('data cannot be None')\n",
        "\t\tif len(data) < 2:\n",
        "\t\t\treturn data \n",
        "\t\tfor i in range(len(data) - 1):\n",
        "\t\t\tmin_index = i \n",
        "\t\t\tfor j in range(i + 1, len(data)):\n",
        "\t\t\t\tif data[j] < data[min_index]:\n",
        "\t\t\t\t\tmin_index = j\n",
        "\t\t\tif data[min_index] < data[i]: \n",
        "\t\t\t\tdata[i], data[min_index] = data[min_index], data[i]\n",
        "\t\treturn data \n",
        "\n",
        "\tdef sort_iterative_alt(self, data):\n",
        "\t\tif data is None:\n",
        "\t\t\traise TypeError('data cannot be None')\n",
        "\t\tif len(data) < 2:\n",
        "\t\t\treturn data \n",
        "\t\tfor i in range(len(data) -1 ): \n",
        "\t\t\tself._swap(data, i, self._find_min_index(data, i))\n",
        "\t\treturn data \n",
        "\n",
        "\tdef _swap(self, data, i, j):\n",
        "\t\tif i != j:\n",
        "\t\t\tdata[i], data[j] = data[j], data[i]\n",
        "\t\treturn data \n",
        "\n",
        "\tdef _find_min_index(self, data, start):\n",
        "\t\tmin_index = start \n",
        "\t\tfor i in range(start +1, len(data)):\n",
        "\t\t\tif data[i] < data[min_index]:\n",
        "\t\t\t\tmin_index = i\n",
        "\t\treturn min_index \n",
        "\n",
        "\tdef sort_recursive(self, data):\n",
        "\t\tif data is None:\n",
        "\t\t\traise TypeError('data cannot be None')\n",
        "\t\tif len(data) < 2:\n",
        "\t\t\treturn data \n",
        "\t\treturn self._sort_recursive(data, start=0)\n",
        "\n",
        "\tdef _sort_recursive(self, data, start):\n",
        "\t\tif data is None:\n",
        "\t\t\treturn \n",
        "\t\tif start < len(data) - 1:\n",
        "\t\t\tself._swap(data, start, self._find_min_index(data, start))\n",
        "\t\t\tself._sort_recursive(data, start +1)\n",
        "\t\treturn data \n",
        "\n",
        "data = [5, 1, 7, 2, 6, -3, 5, 7, -10]\n",
        "print(data)\n",
        "selection_sort = SelectionSort()\n",
        "selection_sort.sort_recursive(data)\n",
        "print(data)\n",
        "data = [5, 1, 7, 2, 6, -3, 5, 7, -10]\n",
        "selection_sort.sort_iterative_alt(data)\n",
        "print(data)"
      ],
      "metadata": {
        "colab": {
          "base_uri": "https://localhost:8080/"
        },
        "id": "x7K_IDfQ2qIZ",
        "outputId": "ef8a5dca-b068-4a52-c692-e96165b9bd77"
      },
      "execution_count": null,
      "outputs": [
        {
          "output_type": "stream",
          "name": "stdout",
          "text": [
            "[5, 1, 7, 2, 6, -3, 5, 7, -10]\n",
            "[-10, -3, 1, 2, 5, 5, 6, 7, 7]\n",
            "[-10, -3, 1, 2, 5, 5, 6, 7, 7]\n"
          ]
        }
      ]
    },
    {
      "cell_type": "code",
      "source": [
        "\"\"\" Search Sorted Matrix \n",
        "Constraints \n",
        "\t- items in each row and column sorted (ascending order)\n",
        "\t- matrix is a rectangle not jagged \n",
        "\t- matrix square not necessarily \n",
        "\t- the output is a tuple (row, col)\n",
        "\t- no assumtions for the input to be valid\n",
        "\t- this fits the mmemory \n",
        "\n",
        "Algorithm\n",
        "   Find 60 (val = 60)\n",
        "    20  40  63   80\n",
        "    30  50  80   90\n",
        "    40  60  100 110\n",
        "    50  65  105 150\n",
        "\n",
        "   * If the start of a col > val, look left\n",
        "   * If the end of a col < val, look right\n",
        "   * If the start of row > val, look up\n",
        "   * If the end of a row < val, look down\n",
        "\n",
        "   If we start at the upper right corner, we just need to use these cases:\n",
        "   * If the start of a col > val, look left\n",
        "   * If the end of a row < val, look down\n",
        "\n",
        "Complexity:\n",
        "Time: O(n + m), where n and m are the matrix dimensions Space: O(1)\n",
        "\"\"\"\n",
        "class SortedMatrix(object):\n",
        "\n",
        "\tdef find_val(self, matrix, val):\n",
        "\t\tif matrix is None or val is None:\n",
        "\t\t\traise TypeError('matrix and val cannot be None')\n",
        "\t\trow = 0\n",
        "\t\tcol = len(matrix[0]) - 1\n",
        "\t\twhile row < len(matrix) and col >= 0:\n",
        "\t\t\tif matrix[row][col] == val:\n",
        "\t\t\t\treturn [row, col]\n",
        "\t\t\telif matrix[row][col] > val:\n",
        "\t\t\t\tcol -= 1\n",
        "\t\t\telse:\n",
        "\t\t\t\trow += 1 \n",
        "\t\treturn None \n",
        "\n",
        "matrix = [[20, 40, 63, 80],\n",
        "          [30, 50, 80, 90],\n",
        "          [40, 60, 110, 110],\n",
        "          [50, 65, 105, 150]]\n",
        "\n",
        "sorted_matrix = SortedMatrix()\n",
        "print(sorted_matrix.find_val(matrix, 1000))\n",
        "print(sorted_matrix.find_val(matrix, 60))"
      ],
      "metadata": {
        "colab": {
          "base_uri": "https://localhost:8080/"
        },
        "id": "_GaMX6ki2qMY",
        "outputId": "22574119-eeaa-4bc0-c139-68f3fcfc4003"
      },
      "execution_count": null,
      "outputs": [
        {
          "output_type": "stream",
          "name": "stdout",
          "text": [
            "None\n",
            "[2, 1]\n"
          ]
        }
      ]
    },
    {
      "cell_type": "code",
      "source": [
        "\"\"\" Rotated Array Search \n",
        "Find an element in a sorted array that has been rotated a number of times. \n",
        "\n",
        "Constraints \n",
        "- Array an input of integers. It may have duplicates\n",
        "- We don't know how many times was rotated. Array origjinally sorted in \n",
        "increasing order \n",
        "- For output we return the index\n",
        "- Assume the inputs are valid? No \n",
        "- Assume it fits memory? Yes \n",
        "\n",
        "Test cases\n",
        "- None -> Exception \n",
        "- [] -> None \n",
        "- Not found -> None \n",
        "- General case with duplicates \n",
        "- General case without duplicates \n",
        "\n",
        "Algorithm \n",
        "General case without duplicates \n",
        "index \t\t\t\t      0   1   2   3   4   5   6   7   8   9\n",
        "input \t  \t \t   [\t1,\t3,\t5,\t6,\t7,\t8,\t9,\t10,\t12,\t14 ]\n",
        "input rotated 1x [\t10,\t12,\t14, 1,  3, \t5, \t6, \t7, \t8, \t9  ]\n",
        "input rotated 2x [\t5, \t6, \t7, \t8, \t9,\t10,\t12,\t14, 1, \t3  ]\n",
        "input rotated 3x [\t10,\t12,\t14, 1, \t3, \t5, \t6, \t7, \t8, \t9  ]\n",
        "\n",
        "find 1\n",
        "len = 10\n",
        "mid = 10 // 2 = 5\n",
        "\n",
        "input[start] >  input[mid]: Left half is rotated\n",
        "input[end]   >= input[mid]: Right half is sorted\n",
        "1 is not within input[mid+1] to input[end] on the right side, go left\n",
        "\t\t\t\t\t          s \t\t\t\t\tm \t\t\te\n",
        "index \t\t\t\t      0   1   2   3   4   5   6   7   8   9\n",
        "input \t\t\t      [\t10,\t12,\t14, 1,  3, \t5, \t6, \t7, \t8, \t9 ]\n",
        "\n",
        "input[start] <= input[mid]: Right half is rotated\n",
        "input[end] >= input[mid]: Left half is sorted\n",
        "1 is not within input[left] to input[mid-1] on the left side, go right\n",
        "\t\t\t\t\t          s \t\t  m \t\t  e\n",
        "index \t\t\t\t      0   1   2   3   4   5   6   7   8   9\n",
        "input \t\t\t      [\t10,\t12,\t14, 1,  3, \t5, \t6, \t7, \t8, \t9 ]\n",
        "\n",
        "General case with duplicates \n",
        "\t\t\t\t\t          s \t\t\t\t\tm \t\t\t                e\n",
        "index \t\t\t\t      0   1   2   3   4   5   6   7   8   9\n",
        "input \t\t\t      [\t1,\t1,\t1,  1,  1, \t1, \t1, \t1, \t1 \t2 ]\n",
        "\n",
        "input[start] == input[mid], input[mid] != input[end], go right\n",
        "input rotated 1x  [\t1,\t1,\t2,  1,  1, \t1, \t1, \t1, \t1 \t1 ]\n",
        "\n",
        "input[start] == input[mid] == input[end], search both sides \n",
        "\n",
        "Complexity:\n",
        "Time: O(log n) if there are no duplicates, else O(n) \n",
        "Space: O(m), where m is the recursion depth\n",
        "\n",
        "\"\"\"\n",
        "class Array():\n",
        "\tdef search_sorted_array(self, array, val):\n",
        "\t\tif array is None or val is None:\n",
        "\t\t\traise TypeError('array or val cannot be None')\n",
        "\t\tif not array:\n",
        "\t\t\treturn None\n",
        "\t\treturn self._search_sorted_array(array, val, start=0, end=len(array))\n",
        "\n",
        "\tdef _search_sorted_array(self, array, val, start, end):\n",
        "\t\tif end < start:\n",
        "\t\t\treturn None \n",
        "\t\tmid = (start + end) // 2\n",
        "\t\tif array[mid] == val:\n",
        "\t\t\treturn mid \n",
        "\t\t# left side is sorted \n",
        "\t\tif array[start] < array[mid]:\n",
        "\t\t\tif array[start] <= val < array[mid]:\n",
        "\t\t\t\treturn self._search_sorted_array(array, val, start, mid - 1)\n",
        "\t\t\telse:\n",
        "\t\t\t\treturn self._search_sorted_array(array, val, mid + 1, end)\n",
        "\t\t# right side is sorted \n",
        "\t\telif array[start] > array[mid]:\n",
        "\t\t\tif array[mid] < val <= array[end]:\n",
        "\t\t\t\treturn self._search_sorted_array(array, val, mid + 1, end)\n",
        "\t\t\telse:\n",
        "\t\t\t\treturn self._search_sorted_array(array, val, start, mid -1)\n",
        "\t\t# duplicates \n",
        "\t\telse:\n",
        "\t\t\tif array[mid] != array[end]:\n",
        "\t\t\t\treturn self._search_sorted_array(array, val, mid + 1, end)\n",
        "\t\t\telse:\n",
        "\t\t\t\tresult = self._search_sorted_array(array, val, start, mid -1)\n",
        "\t\t\t\tif result != None:\n",
        "\t\t\t\t\treturn result \n",
        "\t\t\t\telse:\n",
        "\t\t\t\t\treturn self._search_sorted_array(array, val, mid + 1, end)\n",
        "\n",
        "data=[10,12,14, 1, 3, 5, 6, 7, 8, 9]\n",
        "array = Array()\n",
        "print(array.search_sorted_array(data, val=2))\n",
        "print(array.search_sorted_array(data, val=3))"
      ],
      "metadata": {
        "colab": {
          "base_uri": "https://localhost:8080/"
        },
        "id": "-480XrNzWamG",
        "outputId": "1ac5d82e-6a0c-47d5-d683-618339d9f8cc"
      },
      "execution_count": null,
      "outputs": [
        {
          "output_type": "stream",
          "name": "stdout",
          "text": [
            "None\n",
            "4\n"
          ]
        }
      ]
    },
    {
      "cell_type": "code",
      "source": [
        "\"\"\" Stack Data Structure \n",
        "\n",
        "Operations/Algorithm\n",
        "- Push: push to empty stack and to non-empty stack \n",
        "\t- create new node with value \n",
        "\t- set node's next to top \n",
        "\t- set top to node \n",
        "\t- Complexity: Time: O(1) Space: O(1)\n",
        "\n",
        "- Pop: pop on empty stack, on single element, and on multiple element stack\n",
        "\t- if stack is empty return None \n",
        "\t- else\n",
        "\t\t- save top's value \n",
        "\t\t- set to to top.next \n",
        "\t\t- return saved value \n",
        "\t- Complexity: Time: O(1) Space: O(1)\n",
        "\n",
        "- Peek: peek on empty stack, and on one or more element stack \n",
        "\t- if stack is empty return None \n",
        "\t- else return top's value \n",
        "\t- Complexity: Time: O(1) Space: O(1)\n",
        "\n",
        "- IsEmpty: is empty on empty stack, or one one or more element stack \n",
        "\t- if peek has a value return False, else return True \n",
        "\t- Complexity: Time: O(1) Space: O(1)\n",
        "\"\"\" \n",
        "class Node():\n",
        "\tdef __init__(self, data, next=None):\n",
        "\t\tself.data = data \n",
        "\t\tself.next = next \n",
        "\n",
        "class Stack():\n",
        "\tdef __init__(self, top=None):\n",
        "\t\tself.top = top \n",
        "\n",
        "\tdef push(self, data):\n",
        "\t\tself.top = Node(data, self.top)\n",
        "\n",
        "\tdef pop(self):\n",
        "\t\tif self.top is None:\n",
        "\t\t\treturn None \n",
        "\t\tdata = self.top.data \n",
        "\t\tself.top = self.top.next \n",
        "\t\treturn data \n",
        "\n",
        "\tdef peek(self):\n",
        "\t\treturn self.top.data if self.top is not None else None \n",
        "\n",
        "\tdef is_empty(self):\n",
        "\t\treturn self.peek() is None \n",
        "\n",
        "stack = Stack()\n",
        "stack.push(1)\n",
        "stack.push(2)\n",
        "stack.push(3)\n",
        "print(stack.pop())\n",
        "print(stack.peek())\n",
        "print(stack.pop())\n",
        "print(stack.peek())\n",
        "print(stack.is_empty())\n",
        "print(stack.pop())\n",
        "print(stack.peek())\n",
        "print(stack.is_empty())\n"
      ],
      "metadata": {
        "colab": {
          "base_uri": "https://localhost:8080/"
        },
        "id": "4IYTKQxbqZHN",
        "outputId": "3d822245-2d48-446d-eb79-0d0242116457"
      },
      "execution_count": null,
      "outputs": [
        {
          "output_type": "stream",
          "name": "stdout",
          "text": [
            "3\n",
            "2\n",
            "2\n",
            "1\n",
            "False\n",
            "1\n",
            "None\n",
            "True\n"
          ]
        }
      ]
    },
    {
      "cell_type": "code",
      "source": [
        "\"\"\" Sort a Stack  \n",
        "We may use another stack as a buffer. \n",
        "\n",
        "Constraints\n",
        "- the largest element shoud be at the top \n",
        "- it can have duplicates \n",
        "- we already have a class stack that can be used for this problem \n",
        "\n",
        "Algorithm \n",
        "- our buffer will hold elements in reverse sorted order, smallest at the top\n",
        "- store the current top element in a temp variable \n",
        "- while stack is not empty\n",
        "\t- while buffer is not empty or buffer top is > than temp\n",
        "\t\t- move buffer top to stack \n",
        "\t- move temp to the top of buffer \n",
        "- return buffer \n",
        "\n",
        "Complexity: Time: O(n^2) Space: O(n)\n",
        "\"\"\"\n",
        "class Node():\n",
        "\tdef __init__(self, data, next=None):\n",
        "\t\tself.data = data \n",
        "\t\tself.next = next \n",
        "\n",
        "class MyStack():\n",
        "\tdef __init__(self, top=None):\n",
        "\t\tself.top = top \n",
        "\tdef push(self, data):\n",
        "\t\tself.top = Node(data, self.top)\n",
        "\tdef pop(self):\n",
        "\t\tif self.top is None:\n",
        "\t\t\treturn None \n",
        "\t\tdata = self.top.data \n",
        "\t\tself.top = self.top.next \n",
        "\t\treturn data \n",
        "\tdef peek(self):\n",
        "\t\treturn self.top.data if self.top is not None else None \n",
        "\tdef is_empty(self):\n",
        "\t\treturn self.peek() is None \n",
        "\n",
        "\tdef sort(self):\n",
        "\t\tbuff = MyStack()\n",
        "\t\twhile not self.is_empty():\n",
        "\t\t\ttemp = self.pop()\n",
        "\t\t\tif buff.is_empty() or temp >= buff.peek():\n",
        "\t\t\t\tbuff.push(temp)\n",
        "\t\t\telse:\n",
        "\t\t\t\twhile not buff.is_empty() and temp < buff.peek():\n",
        "\t\t\t\t\tself.push(buff.pop())\n",
        "\t\t\t\tbuff.push(temp)\n",
        "\t\treturn buff \n",
        "\n",
        "class MyStackSimplified():\n",
        "\tdef sort(self):\n",
        "\t\tbuff = Stack()\n",
        "\t\twhile not self.is_empty():\n",
        "\t\t\ttemp = self.pop()\n",
        "\t\t\twhile not buff.is_empty() and temp < buff.peek():\n",
        "\t\t\t\t\tself.push(buff.pop())\n",
        "\t\t\tbuff.push(temp)\n",
        "\t\treturn buff \n",
        "\n",
        "from random import randint\n",
        "\n",
        "def get_sorted_stack(stack, numbers): \n",
        "\tfor x in numbers:\n",
        "\t\tstack.push(x) \n",
        "\tsorted_stack = stack.sort() \n",
        "\treturn sorted_stack\n",
        "\n",
        "num_items = 10\n",
        "numbers = [randint(0, 10) for x in range(num_items)]\n",
        "print(numbers)\n",
        "stack = MyStack()\n",
        "sorted_numbers = get_sorted_stack(stack, numbers)\n",
        "print(sorted_numbers.pop())\n",
        "print(sorted_numbers.pop())\n",
        "print(sorted_numbers.pop())\n"
      ],
      "metadata": {
        "colab": {
          "base_uri": "https://localhost:8080/"
        },
        "id": "D2MzI86xqZXs",
        "outputId": "ca8c67b8-eb7f-4eb8-fddd-c951a5a47052"
      },
      "execution_count": null,
      "outputs": [
        {
          "output_type": "stream",
          "name": "stdout",
          "text": [
            "[5, 3, 10, 4, 6, 2, 10, 4, 0, 7]\n",
            "10\n",
            "10\n",
            "7\n"
          ]
        }
      ]
    },
    {
      "cell_type": "code",
      "source": [
        "\"\"\" Implement a stack with push, pop, and min methods running O(1) time \n",
        "\n",
        "Constraints \n",
        "- This is a stack of integers, input values for push are valid\n",
        "- call the function on an empty stack and return sys.maxsize \n",
        "- assume we already have a stacl class that can be used for the problem\n",
        "\n",
        "Operations\n",
        "- Push/pop on empty and non-empty stack \n",
        "- Min on empty and non-empty stack \n",
        "\n",
        "Algorithm \n",
        "We use a second stack to keep track of the minimum values \n",
        "\n",
        "Min\n",
        "\t- if the second stack is empty return an error code (max int value)\n",
        "\t- else return the top of the stack without popping it \n",
        "\t- Complexity: Time: O(1) Space: O(1)\n",
        "Push \n",
        "\t- push the data \n",
        "\t- if the data is less than min push data to second stack \n",
        "\t- Complexity: Time: O(1) Space: O(1)\n",
        "\n",
        "Pop\n",
        "\t- pop the data\n",
        "\t- if the data is equal to min, pop the top of the second stack \n",
        "\t- return the data\n",
        "\t- Complexity: Time: O(1) Space: O(1)\n",
        "\n",
        "\"\"\"\n",
        "import sys \n",
        "class StackMin(Stack):\n",
        "\n",
        "\tdef __init__(self, top=None):\n",
        "\t\tsuper(StackMin, self).__init__(top)\n",
        "\t\tself.stack_of_mins = Stack()\n",
        "\n",
        "\tdef minimum(self):\n",
        "\t\tif self.stack_of_mins.top is None:\n",
        "\t\t\treturn sys.maxsize\n",
        "\t\telse:\n",
        "\t\t\treturn self.stack_of_mins.peek()\n",
        "\n",
        "\tdef push(self, data):\n",
        "\t\tsuper(StackMin, self).push(data)\n",
        "\t\tif data < self.minimum():\n",
        "\t\t\tself.stack_of_mins.push(data)\n",
        "\n",
        "\tdef pop(self):\n",
        "\t\tdata = super(StackMin, self).pop()\n",
        "\t\tif data == self.minimum():\n",
        "\t\t\tself.stack_of_mins.pop()\t\t\n",
        "\t\treturn data \n",
        "\n",
        "stack = StackMin()\n",
        "stack.push(5)\n",
        "print(stack.peek())\n",
        "stack.push(1)\n",
        "print(stack.peek())\n",
        "stack.push(3)\n",
        "print(stack.peek())\n",
        "stack.push(0)\n",
        "print(stack.peek())\n",
        "print(stack.minimum())"
      ],
      "metadata": {
        "colab": {
          "base_uri": "https://localhost:8080/"
        },
        "id": "ZT_m0ZiTqZlZ",
        "outputId": "7e94d83a-9bb3-452b-cf4e-2e2ea8f4898f"
      },
      "execution_count": null,
      "outputs": [
        {
          "output_type": "stream",
          "name": "stdout",
          "text": [
            "5\n",
            "1\n",
            "3\n",
            "0\n",
            "0\n"
          ]
        }
      ]
    },
    {
      "cell_type": "code",
      "source": [
        "\"\"\" Set of Stacks \n",
        "\n",
        "Implement SetOfStacks that wraps a list of stacks, \n",
        "where each stack is bound by capacity \n",
        "\n",
        "Constraints\n",
        "- Each stack bound by capacity, if it becoes full create a new one \n",
        "- If a stack is empty, delete it \n",
        "- If we pop on an empty stack, return None \n",
        "- Assumes it fits the memory \n",
        "\n",
        "Test Cases\n",
        "- Push and pop an empty stack, and a non-empty stack \n",
        "- Push on a capacity stack to create a new one \n",
        "- Pop on a stack to destroy it \n",
        "\n",
        "Algorithm\n",
        "\n",
        "Push\n",
        "\t- If there are no stacks or the last stack is full, create a new stack \n",
        "\t- Push to the new stack \n",
        "\t- Complexity: Time: O(1) Space: O(m), where m is the size of the new stack \n",
        "\t  if the last stack is full\n",
        "Pop\n",
        "\t- if there are no stacks, return None \n",
        "\t- else if the last stack has one element \n",
        "\t\t- pop the last element's data \n",
        "\t\t- delete the now empty stack \n",
        "\t\t- update the last stack pointer \n",
        "\t- else pop the last element's data \n",
        "\t- return the last element's data \n",
        "\t- Complexity: Time: O(1) Space: O(1)\n",
        "\n",
        "\"\"\"\n",
        "class StackWithCapacity(Stack):\n",
        "\n",
        "\tdef __init__(self, top=None, capacity=10):\n",
        "\t\tsuper(StackWithCapacity, self).__init__(top)\n",
        "\t\tself.capacity = capacity\n",
        "\t\tself.num_items = 0\n",
        "\n",
        "\tdef push(self, data):\n",
        "\t\tif self.is_full():\n",
        "\t\t\traise Exception('Stack full') \n",
        "\t\tsuper(StackWithCapacity, self).push(data) \n",
        "\t\tself.num_items += 1\n",
        "\n",
        "\tdef pop(self):\n",
        "\t\tself.num_items -= 1\n",
        "\t\treturn super(StackWithCapacity, self).pop()\n",
        "  \n",
        "\tdef is_full(self):\n",
        "\t\treturn self.num_items == self.capacity\n",
        "\n",
        "\tdef is_empty(self):\n",
        "\t\treturn self.num_items == 0\n",
        "\n",
        "class SetOfStacks(object):\n",
        "\tdef __init__(self, individual_stack_capacity): \n",
        "\t\tself.individual_stack_capacity = individual_stack_capacity \n",
        "\t\tself.stacks = []\n",
        "\t\tself.last_stack = None\n",
        "\n",
        "\tdef push(self, data):\n",
        "\t\tif self.last_stack is None or self.last_stack.is_full():\n",
        "\t\t\tself.last_stack = StackWithCapacity(None, self.individual_stack_capacity)\n",
        "\t\t\tself.stacks.append(self.last_stack) \n",
        "\t\tself.last_stack.push(data)\n",
        "\n",
        "\tdef pop(self):\n",
        "\t\tif self.last_stack is None:\n",
        "\t\t\treturn None\n",
        "\t\tdata = self.last_stack.pop() \n",
        "\t\tif self.last_stack.is_empty():\n",
        "\t\t\tself.stacks.pop()\n",
        "\t\t\tself.last_stack = self.stacks[-1] if self.stacks else None \n",
        "\t\treturn data\n",
        "\n",
        "stacks = SetOfStacks(individual_stack_capacity=2) \n",
        "stacks.push(3)\n",
        "stacks.push(5)\n",
        "stacks.push('a')\n",
        "print(stacks.pop())\n",
        "print(stacks.pop())\n",
        "print(stacks.pop())\n"
      ],
      "metadata": {
        "colab": {
          "base_uri": "https://localhost:8080/"
        },
        "id": "06LEpHo8qZ5L",
        "outputId": "95bf8d11-e12e-47b2-e361-326708eaf76c"
      },
      "execution_count": null,
      "outputs": [
        {
          "output_type": "stream",
          "name": "stdout",
          "text": [
            "a\n",
            "5\n",
            "3\n"
          ]
        }
      ]
    },
    {
      "cell_type": "code",
      "source": [
        "\n",
        "\"\"\" Implement a Queue using two stacks \n",
        "Constraints \n",
        "- Expect the methods to be enqueue and dequeue \n",
        "- We have a Stack class that can be used for this problem \n",
        "- Do not push a None value to the Stack \n",
        "- Assume this fits the memory \n",
        "Test Cases \n",
        "- Enqueue and dequeue on empty, and non-empty stack \n",
        "- Multiple enqueue and dequeue in a row \n",
        "- Enqueue after a dequeue, and dequeue after an enqueue \n",
        "\n",
        "Algorithm \n",
        " - We will use two stacks (left and right) to implement the queue.  \n",
        "The left stack will be used for enqueue and the right stack for dequeue \n",
        " - To prevent multiple dequeue calls from needlessly shifting elements around \n",
        "between the stacks, we will shift elements in a lazy manner. \n",
        "\n",
        "Enqueue \n",
        " - if the right stack is not empty, \n",
        "   shift the elements of the right stack to the left stack \n",
        " - push the data to the left stack \n",
        " - Complexity: Time: O(n) Space: O(n)\n",
        "Dequeue\n",
        " - If the left stack is not empty, \n",
        "   shift the elements of the left stack to the right stack\n",
        " - Pop from the right stack and return the data \n",
        " - Complexity: Time: O(n) Space: O(n)\n",
        "Shift Stacks \n",
        " - while the source stack has elements\n",
        " - pop from the source stack and push the data to the destination stack \n",
        " - Complexity: Time O(n), Space O(n)\n",
        "\"\"\" \n",
        "class QueueFromStacks():\n",
        "\tdef __init__(self):\n",
        "\t\tself.left_stack = Stack()\n",
        "\t\tself.right_stack = Stack()\n",
        "\n",
        "\tdef shift_stacks(self, source, destination):\n",
        "\t\twhile source.peek() is not None:\n",
        "\t\t\tdestination.push(source.pop())\n",
        "\n",
        "\tdef enqueue(self, data):\n",
        "\t\tself.shift_stacks(self.right_stack, self.left_stack)\n",
        "\t\tself.left_stack.push(data)\n",
        "\n",
        "\tdef dequeue(self):\n",
        "\t\tself.shift_stacks(self.left_stack, self.right_stack)\n",
        "\t\treturn self.right_stack.pop()\n",
        "\n",
        "queue = QueueFromStacks()\n",
        "\"\"\" Enqueue on empty stack - Enqueue on non-empty stack\n",
        "    Multiple enqueue in a row \"\"\"\n",
        "num_items = 3\n",
        "for i in range(0, num_items): \n",
        "\tqueue.enqueue(i)\n",
        "print(queue.dequeue())\n",
        "print(queue.dequeue())\n",
        "print(queue.dequeue())\n",
        "queue.enqueue(5)\n",
        "print(queue.dequeue())\n"
      ],
      "metadata": {
        "colab": {
          "base_uri": "https://localhost:8080/"
        },
        "id": "Kl1XUOsQqaDY",
        "outputId": "376efff8-6a3a-41bd-8ef4-2aebbfa228b9"
      },
      "execution_count": null,
      "outputs": [
        {
          "output_type": "stream",
          "name": "stdout",
          "text": [
            "0\n",
            "1\n",
            "2\n",
            "5\n"
          ]
        }
      ]
    },
    {
      "cell_type": "code",
      "source": [
        "\"\"\" Implement a queue with enqueue and dequeue methods using a linked list \n",
        "\n",
        "Constraints\n",
        " - If there is one item in the list, the head and tail pointers to both point to it\n",
        " - If there are no items on the list, the head and tail pointers to be None\n",
        " - If you dequeue on an empty queue, that returns None\n",
        " - this fits memory\n",
        "Test Cases\n",
        " - Enqueue to an empty, and non empty queue \n",
        " - Dequeue an empty queue -> none, and dequeue a queue with one, and more elements\n",
        "Algorithm \n",
        "Enqueue\n",
        " - if list empty, set head and tail to node, else set tail to node \n",
        " - Time 0(1)/Space O(1)\n",
        "Dequeue\n",
        " - if list is empty, return None \n",
        " - if the list has one node 1) save the head node's value, set head and tail to None\n",
        " - if the list has more items, save the head node's value, set head to next node\n",
        " - Time 0(1)/Space O(1)\n",
        "\n",
        "\"\"\"\n",
        "class Node():\n",
        "\tdef __init__(self, data):\n",
        "\t\tself.data = data \n",
        "\t\tself.next = None \n",
        "\n",
        "class Queue():\n",
        "\tdef __init__(self):\n",
        "\t\tself.head = None \n",
        "\t\tself.tail = None \n",
        "\n",
        "\tdef enqueue(self, data):\n",
        "\t\tnode = Node(data)\n",
        "\t\t# empty list \n",
        "\t\tif self.head is None and self.tail is None:\n",
        "\t\t\tself.head = node \n",
        "\t\t\tself.tail = node \n",
        "\t\telse:\n",
        "\t\t\tself.tail.next = node \n",
        "\t\t\tself.tail = node \n",
        "\n",
        "\tdef dequeue(self):\n",
        "\t\t# empty list \n",
        "\t\tif self.head is None and self.tail is None:\n",
        "\t\t\treturn None \n",
        "\t\tdata = self.head.data \n",
        "\t\t# remove only element from a one element list \n",
        "\t\tif self.head == self.tail:\n",
        "\t\t\tself.head = None \n",
        "\t\t\tself.tail = None \n",
        "\t\telse:\n",
        "\t\t\tself.head = self.head.next \n",
        "\t\treturn data \n",
        "\n",
        "queue = Queue()\n",
        "print('Dequeue an empty queue')\n",
        "print(queue.dequeue())\n",
        "\n",
        "queue.enqueue(1)\n",
        "print('Dequeue a queue with one element')\n",
        "print(queue.dequeue())\n",
        "\n",
        "queue.enqueue(2)\n",
        "queue.enqueue(3)\n",
        "queue.enqueue(4)\n",
        "print('Dequeue a queue with more than one element')\n",
        "print(queue.dequeue())\n",
        "print(queue.dequeue())\n",
        "print(queue.dequeue()) \n"
      ],
      "metadata": {
        "colab": {
          "base_uri": "https://localhost:8080/"
        },
        "id": "Hwdh-1Irqabv",
        "outputId": "11c173b7-86e3-48b6-d1a5-0211be64ba4a"
      },
      "execution_count": null,
      "outputs": [
        {
          "output_type": "stream",
          "name": "stdout",
          "text": [
            "Dequeue an empty queue\n",
            "None\n",
            "Dequeue a queue with one element\n",
            "1\n",
            "Dequeue a queue with more than one element\n",
            "2\n",
            "3\n",
            "4\n"
          ]
        }
      ]
    },
    {
      "cell_type": "code",
      "source": [
        "\"\"\" Implement n stacks using a single array \n",
        "Constraints\n",
        "- the stacks and array are a fixed size, the stacks equally sized\n",
        "- pushing to a full stack results in an exception \n",
        "- Popping from an empty stack results in exception \n",
        "- assume the index passed in stack is valid \n",
        "\n",
        "Test Cases \n",
        "- push to full stack -> exception, push to non-full stack \n",
        "- pop on empty stack -> exception, pop on non-empty stack \n",
        "\n",
        "Algorithm \n",
        "Push\n",
        "- if stack is full throw exception, else increment the stack pointer, get \n",
        "absolute array index, and insert the value to this index \n",
        "- complexity Time O(1), Space O(1)\n",
        "Pop\n",
        "- if stack is empty throw exception, else store the value contained in the \n",
        "absolute index, set the value in absolute array index to None, \n",
        "decrement stack pointer, return value \n",
        "- complexity Time O(1), Space O(1) \n",
        "\n",
        "\"\"\"\n",
        "class Stacks():\n",
        "\tdef __init__(self, num_stacks, stack_size):\n",
        "\t\tself.num_stacks = num_stacks\n",
        "\t\tself.stack_size = stack_size\n",
        "\t\tself.stack_pointers = [-1] * self.num_stacks\n",
        "\t\tself.stack_array = [None] * self.num_stacks * self.stack_size\n",
        "\n",
        "\tdef abs_index(self, stack_index):\n",
        "\t\treturn stack_index * self.stack_size + self.stack_pointers[stack_index]\n",
        "\n",
        "\tdef push(self, stack_index, data):\n",
        "\t\tif self.stack_pointers[stack_index] == self.stack_size - 1:\n",
        "\t\t\traise Exception('Stack is full') \n",
        "\t\tself.stack_pointers[stack_index] += 1 \n",
        "\t\tarray_index = self.abs_index(stack_index) \n",
        "\t\tself.stack_array[array_index] = data\n",
        "\n",
        "\tdef pop(self, stack_index):\n",
        "\t\tif self.stack_pointers[stack_index] == -1:\n",
        "\t\t\traise Exception('Stack is empty') \n",
        "\t\tarray_index = self.abs_index(stack_index) \n",
        "\t\tdata = self.stack_array[array_index] \n",
        "\t\tself.stack_array[array_index] = None \n",
        "\t\tself.stack_pointers[stack_index] -= 1 \n",
        "\t\treturn data\n",
        "\n",
        "num_stacks = 3\n",
        "stack_size = 100\n",
        "stacks = Stacks(num_stacks, stack_size) \n",
        "\"\"\"\n",
        "print('Test: Pop on empty stack')\n",
        "print(stacks)\n",
        "print(stacks.pop(0)) \n",
        "\n",
        "print('Test: Push to full stack')\n",
        "for i in range(0, stack_size):\n",
        "\tstacks.push(2, i) \n",
        "stacks.push(2, stack_size)\n",
        "print(stacks)\n",
        "\"\"\"\n",
        "stacks.push(0, 1)\n",
        "stacks.push(0, 2) \n",
        "stacks.push(1, 3) \n",
        "stacks.push(2, 4)\n",
        "\n",
        "print(stacks.pop(0))\n",
        "print(stacks.pop(0))\n",
        "print(stacks.pop(1))\n",
        "print(stacks.pop(2))\n"
      ],
      "metadata": {
        "colab": {
          "base_uri": "https://localhost:8080/"
        },
        "id": "CY-lIZ_Dqazp",
        "outputId": "819e4899-d202-4f04-e38f-f82cd3d0dba3"
      },
      "execution_count": null,
      "outputs": [
        {
          "output_type": "stream",
          "name": "stdout",
          "text": [
            "2\n",
            "1\n",
            "3\n",
            "4\n"
          ]
        }
      ]
    },
    {
      "cell_type": "code",
      "source": [
        "\"\"\" String compression \n",
        "Compress a string such that 'AAABCCDDDD' becomes 'A3BC2D4'. \n",
        "Only compress the string if it saves space.\n",
        "\n",
        "Constraints\n",
        "Can we assume the string is ASCII? Yes\n",
        "Can we use additional data structures? Yes\n",
        "Can we assume this fits in memory? Yes\n",
        "\n",
        "Test Cases\n",
        "None -> None\n",
        "'' -> ''\n",
        "'AABBCC' -> 'AABBCC' \n",
        "'AAABCCDDDD' -> 'A3BC2D4'\n",
        "\n",
        "Algorithm\n",
        "For each char in string\n",
        "\t- If char is the same as last_char, increment count \n",
        "\t- Else\n",
        "\t\t- Append last_char and count to compressed_string \n",
        "\t\t- last_char = char\n",
        "\t\t- count = 1\n",
        "\n",
        "Append last_char and count to compressed_string \n",
        "If the compressed string size is < string size\n",
        "\t- Return compressed string \n",
        "Else\n",
        "\t- Return string Complexity:\n",
        "Time: O(n) Space: O(n)\n",
        "\"\"\"\n",
        "class CompressString():\n",
        "\n",
        "\tdef compress(self, string):\n",
        "\t\tif string is None or not string:\n",
        "\t\t\treturn string \n",
        "\t\tresult = ''\n",
        "\t\tprev_char = string[0]\n",
        "\t\tcount = 0 \n",
        "\t\tfor char in string:\n",
        "\t\t\tif char == prev_char:\n",
        "\t\t\t\tcount += 1 \n",
        "\t\t\telse:\n",
        "\t\t\t\tresult += self._calc_partial_result(prev_char, count)\n",
        "\t\t\t\tprev_char = char \n",
        "\t\t\t\tcount = 1 \n",
        "\t\tresult += self._calc_partial_result(prev_char, count)\n",
        "\t\treturn result if len(result) < len(string) else string \n",
        "\n",
        "\tdef _calc_partial_result(self, prev_char, count):\n",
        "\t\treturn prev_char + (str(count) if count > 1 else '')\n",
        "\n",
        "compress_string = CompressString()\n",
        "print(' AABBCC \\t:', compress_string.compress('AABBCC'))\n",
        "print(' AAABCCDDDDE  \\t:', compress_string.compress('AAABCCDDDDE'))\n",
        "print(' BAAACCDDDD  \\t:', compress_string.compress('BAAACCDDDD'))\n",
        "print(' AAABAACCDDDD  \\t:', compress_string.compress('AAABAACCDDDD'))"
      ],
      "metadata": {
        "colab": {
          "base_uri": "https://localhost:8080/"
        },
        "id": "Iyk5GFc-Wd7D",
        "outputId": "5f1a77d7-a167-43ac-dcf5-6b8175c9ad45"
      },
      "execution_count": null,
      "outputs": [
        {
          "output_type": "stream",
          "name": "stdout",
          "text": [
            " AABBCC \t: AABBCC\n",
            " AAABCCDDDDE  \t: A3BC2D4E\n",
            " BAAACCDDDD  \t: BA3C2D4\n",
            " AAABAACCDDDD  \t: A3BA2C2D4\n"
          ]
        }
      ]
    },
    {
      "cell_type": "code",
      "source": [
        "\"\"\" Hash Map \n",
        "Implement a hash table with set, get and remove methods \n",
        "Constraints\n",
        "- For simplicity, the keys integers only\n",
        "- For collision resolution, use chaining\n",
        "- Do we have to worry about load factors? No\n",
        "- Do we have to validate inputs? No\n",
        "\n",
        "Test Cases\n",
        "- get no matching key -> KeyError exception \n",
        "- get matching key -> value\n",
        "- set no matching key -> new key, value \n",
        "- set matching key -> update value\n",
        "- remove no matching key -> KeyError exception \n",
        "- remove matching key -> remove key, value\n",
        "\n",
        "Algorithm \n",
        "Hash Function\n",
        "- Return key % table size\n",
        "- Complexity: Time O(1) Space O(1)\n",
        "Set \n",
        "- get hash index for lookup, if key exists replace, else add \n",
        "- Time O(1) average and best, O(n) worst Space O(1) space for newly added element\n",
        "Get \n",
        "- get hash index for lookup, if key exists return value, else raise KeyError \n",
        "- Time O(1) average and best, O(n) worst Space O(1)\n",
        "Remove\n",
        "- get hash index for lookup \n",
        "- if key exists delete the item, else raise KeyError \n",
        "- Time O(1) average and best, O(n) worst Space O(1)\n",
        "\"\"\"\n",
        "class Item():\n",
        "\tdef __init__(self, key, value):\n",
        "\t\tself.key = key \n",
        "\t\tself.value = value \n",
        "\n",
        "class HashTable():\n",
        "\tdef __init__(self, size):\n",
        "\t\tself.size = size \n",
        "\t\tself.table = [ [] for _ in range(self.size)]\n",
        "\n",
        "\tdef _hash_function(self, key):\n",
        "\t\treturn key % self.size \n",
        "\n",
        "\tdef set(self, key, value):\n",
        "\t\thash_index = self._hash_function(key)\n",
        "\t\tfor item in self.table[hash_index]:\n",
        "\t\t\tif item.key == key:\n",
        "\t\t\t\titem.value = value \n",
        "\t\t\t\treturn\n",
        "\t\tself.table[hash_index].append(Item(key, value))\n",
        "\n",
        "\tdef get(self, key):\n",
        "\t\thash_index = self._hash_function(key)\n",
        "\t\tfor item in self.table[hash_index]:\n",
        "\t\t\tif item.key == key:\n",
        "\t\t\t\treturn item.value \n",
        "\t\traise KeyError('key not found')\n",
        "\n",
        "\tdef remove(self, key):\n",
        "\t\thash_index = self._hash_function(key)\n",
        "\t\tfor index, item in enumerate(self.table[hash_index]):\n",
        "\t\t\tif item.key == key:\n",
        "\t\t\t\tdel self.table[hash_index][index]\n",
        "\t\traise KeyError('key not found')\n",
        "\n",
        "hash_table = HashTable(10)\n",
        "hash_table.set(0, '_str_')\n",
        "hash_table.set(1, '_str_1')\n",
        "hash_table.set(10, '_str_10')\n",
        "print(hash_table.get(0))\n",
        "print(hash_table.get(10))\n",
        "hash_table.set(10, '_str_11')\n",
        "print(hash_table.get(0))\n",
        "print(hash_table.get(10))\n",
        "#hash_table.remove(10)\n",
        "print(hash_table.get(0))\n",
        "print(hash_table.get(10))\n"
      ],
      "metadata": {
        "colab": {
          "base_uri": "https://localhost:8080/"
        },
        "id": "jHO0P5nVWeJy",
        "outputId": "fb1c2a6c-86ab-4c90-e435-171e3ca5c077"
      },
      "execution_count": null,
      "outputs": [
        {
          "output_type": "stream",
          "name": "stdout",
          "text": [
            "_str_\n",
            "_str_10\n",
            "_str_\n",
            "_str_11\n",
            "_str_\n",
            "_str_11\n"
          ]
        }
      ]
    },
    {
      "cell_type": "code",
      "source": [
        "\"\"\" Priority Queue\n",
        "Implement a priority queue backed by an array.\n",
        "\n",
        "Constraints\n",
        "- Do we expect the methods to be insert, extract_min, and decrease_key? Yes\n",
        "- Can we assume there aren't any duplicate keys? Yes\n",
        "- Do we need to validate inputs? No\n",
        "- Can we assume this fits memory? Yes\n",
        "\n",
        "Algorithm\n",
        "insert\n",
        "\t- append to the internal array. Time: O(1) Space: O(1)\n",
        "extract_min\n",
        "\t- loop through each item in the internal array \n",
        "\t\t- update the min value as needed\n",
        "\t- remove the min element from the array and return it. Time: O(n) Space: O(1)\n",
        "decrease_key\n",
        "\t- loop through each item in the internal array to find the matching input \n",
        "\t\t- update the matching element's key. \n",
        "\t- Time: O(n) Space: O(1)\n",
        "\"\"\"\n",
        "import sys \n",
        "\n",
        "class PriorityQueueNode():\n",
        "\tdef __init__(self, obj, key):\n",
        "\t\tself.obj = obj \n",
        "\t\tself.key = key \n",
        "\n",
        "\tdef __repr__(self):\n",
        "\t\treturn str(self.obj) + ':' + str(self.key)\n",
        "\n",
        "class PriorityQueue():\n",
        "\tdef __init__(self):\n",
        "\t\tself.array = []\n",
        "\n",
        "\tdef __len__(self):\n",
        "\t\treturn len(self.array)\n",
        "\n",
        "\tdef insert(self, node):\n",
        "\t\tself.array.append(node)\n",
        "\t\treturn self.array[-1]\n",
        "\n",
        "\tdef extract_min(self):\n",
        "\t\tif not self.array:\n",
        "\t\t\treturn None \n",
        "\t\tminimum = sys.maxsize \n",
        "\t\tminimum_index = 0\n",
        "\t\tfor index, node in enumerate(self.array):\n",
        "\t\t\tif node.key < minimum:\n",
        "\t\t\t\tminimum = node.key \n",
        "\t\t\t\tminimum_index = index\n",
        "\t\treturn self.array.pop(minimum_index)\n",
        "\n",
        "\tdef decrease_key(self, obj, new_key):\n",
        "\t\tfor node in self.array:\n",
        "\t\t\tif node.obj is obj:\n",
        "\t\t\t\tnode.key = new_key \n",
        "\t\t\t\treturn node \n",
        "\t\treturn None \n",
        "\n",
        "priority_queue = PriorityQueue()\n",
        "print(priority_queue.extract_min())\n",
        "priority_queue.insert(PriorityQueueNode('a', 20)) \n",
        "priority_queue.insert(PriorityQueueNode('b', 5)) \n",
        "priority_queue.insert(PriorityQueueNode('c', 15)) \n",
        "priority_queue.insert(PriorityQueueNode('d', 22)) \n",
        "priority_queue.insert(PriorityQueueNode('e', 40)) \n",
        "priority_queue.insert(PriorityQueueNode('f', 3)) \n",
        "priority_queue.decrease_key('f', 2) \n",
        "priority_queue.decrease_key('a', 19)\n",
        "\n",
        "mins = []\n",
        "while priority_queue.array:\n",
        "\tmins.append(priority_queue.extract_min().key)\n",
        "print(mins)\n"
      ],
      "metadata": {
        "colab": {
          "base_uri": "https://localhost:8080/"
        },
        "id": "FuYG72DCWeQ3",
        "outputId": "82d62236-5647-4433-824d-02c24e446fcf"
      },
      "execution_count": null,
      "outputs": [
        {
          "output_type": "stream",
          "name": "stdout",
          "text": [
            "None\n",
            "[2, 5, 15, 19, 22, 40]\n"
          ]
        }
      ]
    },
    {
      "cell_type": "code",
      "source": [
        "\"\"\" Permutation \n",
        "Determine if a string is a permutation of another string.\n",
        "\n",
        "Constraints\n",
        "- Can we assume the string is ASCII? Yes\n",
        "- Is this case sensitive? 'Nib', 'bin' is not a match? Yes\n",
        "- Can we use additional data structures? Yes\n",
        "- Can we assume this fits in memory? Yes\n",
        "\n",
        "Algorithm: Compare Sorted Strings\n",
        "Permutations contain the same strings but in different orders. \n",
        "This approach could be slow for large strings due to sorting.\n",
        "- Sort both strings\n",
        "- If both sorted strings are equal\n",
        "\t- return True \n",
        "- Else\n",
        "\t- return False \n",
        "\n",
        "Complexity: Time: O(n log n) from the sort, in general Space: O(n)\n",
        "\"\"\"\n",
        "class Permutations():\n",
        "\tdef is_permutation(self, str1, str2):\n",
        "\t\tif str1 is None or str2 is None:\n",
        "\t\t\treturn False \n",
        "\t\treturn sorted(str1) == sorted(str2)\n",
        "\n",
        "\"\"\"\n",
        "Algorithm: Hash Map lookup \n",
        "We will keep a hash map (dict) to keep track of characters we encounter \n",
        "\n",
        "Steps:\n",
        " - Scan each character\n",
        " - For each character in each string:\n",
        "\t- If the character does not exist in a hash map, add the character to a hash map\n",
        "\t- Else, increment the character's count \n",
        " - If the hash maps for each string are equal\n",
        " \t- Return True \n",
        " - Else\n",
        "\t- Return False\n",
        "\n",
        "Complexity: Time: O(n) Space: O(n)\n",
        "\"\"\"\n",
        "\n",
        "from collections import defaultdict \n",
        "\n",
        "class PermutationsAlt(object):\n",
        "\tdef is_permutation(self, str1, str2): \n",
        "\t\tif str1 is None or str2 is None:\n",
        "\t\t\treturn False\n",
        "\t\tif len(str1) != len(str2):\n",
        "\t\t\treturn False\n",
        "\t\tunique_counts1 = defaultdict(int) \n",
        "\t\tunique_counts2 = defaultdict(int) \n",
        "\t\tfor char in str1:\n",
        "\t\t\tunique_counts1[char] += 1 \n",
        "\t\tfor char in str2:\n",
        "\t\t\tunique_counts2[char] += 1\n",
        "\t\treturn unique_counts1 == unique_counts2\n",
        "\n",
        "permutations_alt = PermutationsAlt()\n",
        "print(permutations_alt.is_permutation('act', 'atc'))\n"
      ],
      "metadata": {
        "colab": {
          "base_uri": "https://localhost:8080/"
        },
        "id": "efVNs430Wem1",
        "outputId": "da5a636e-c096-40ba-ba46-f18c5376038e"
      },
      "execution_count": null,
      "outputs": [
        {
          "output_type": "stream",
          "name": "stdout",
          "text": [
            "True\n"
          ]
        }
      ]
    },
    {
      "cell_type": "code",
      "source": [
        "\"\"\" Reverse String \n",
        "Implement a function to reverse a string (a list of characters), in-place.\n",
        "\n",
        "\"\"\"\n",
        "class ReverseString(object):\n",
        "\n",
        "\tdef reverse(self, chars): \n",
        "\t\tif chars:\n",
        "\t\t\tsize = len(chars)\n",
        "\t\t\tfor i in range(size // 2):\n",
        "\t\t\t\tchars[i], chars[size - 1 - i] = \\\n",
        "\t\t\t\t\tchars[size - 1 - i], chars[i]\n",
        "\t\treturn chars\n",
        "\n",
        "class ReverseStringAlt(object):\n",
        "\tdef reverse_string_alt(string): \n",
        "\t\tif string:\n",
        "\t\t\treturn string[::-1] \n",
        "\t\treturn string\n",
        "\n",
        "\tdef reverse_string_alt2(string): \n",
        "\t\tif string:\n",
        "\t\t\treturn ''.join(reversed(string)) \n",
        "\t\treturn string\n"
      ],
      "metadata": {
        "id": "qhkLJkzBWewW"
      },
      "execution_count": null,
      "outputs": []
    },
    {
      "cell_type": "code",
      "source": [
        "\"\"\" Rotation string \n",
        "\n",
        "Determine if a string s1 is a rotation of another string s2, \n",
        "by calling (only once) a function is_substring.\n",
        "\"\"\"\n",
        "class Rotation(object):\n",
        "\tdef is_substring(self, s1, s2):\n",
        "\t\treturn s1 in s2\n",
        "\n",
        "\tdef is_rotation(self, s1, s2): \n",
        "\t\tif s1 is None or s2 is None:\n",
        "\t\t\treturn False\n",
        "\t\tif len(s1) != len(s2):\n",
        "\t\t\treturn False\n",
        "\t\treturn self.is_substring(s1, s2 + s2)\n",
        "\n",
        "s1 = 'bacdafabc'\n",
        "s2 = 'abc'\n",
        "rotation = Rotation()\n",
        "print(rotation.is_substring(s1, s2))\n",
        "print(rotation.is_substring(s1, s1))\n",
        "print(rotation.is_rotation(s1, s2))"
      ],
      "metadata": {
        "colab": {
          "base_uri": "https://localhost:8080/"
        },
        "id": "7V-e_fmJWe5h",
        "outputId": "9aa2b380-741b-45b8-d29b-a6034cf5fa6d"
      },
      "execution_count": null,
      "outputs": [
        {
          "output_type": "stream",
          "name": "stdout",
          "text": [
            "False\n",
            "True\n",
            "False\n"
          ]
        }
      ]
    },
    {
      "cell_type": "code",
      "source": [
        "\"\"\" String difference \n",
        "Find the single different char between two strings.\n",
        "\n",
        "Algorithm \n",
        "Dictionary \n",
        " - Keep a dictionary of seen values in s \n",
        " - Loop through t, decrementing the seen values\n",
        "\t- If the char is not there or if the decrement results in a negative value, \n",
        "\treturn the char\n",
        " - Return the differing char from the dictionary\n",
        "\n",
        "Complexity:\n",
        "Time: O(m+n), where m and n are the lengths of s, t \n",
        "Space: O(h), for the dict, where h is the unique chars in s\n",
        "XOR\n",
        "XOR the two strings, which will isolate the differing char Complexity:\n",
        "Time: O(m+n), where m and n are the lengths of s, t Space: O(1)\n",
        "\n",
        "\"\"\"\n",
        "class Solution(object):\n",
        "\n",
        "\tdef find_diff(self, str1, str2):\n",
        "\t\tif str1 is None or str2 is None:\n",
        "\t\t\traise TypeError('str1 or str2 cannot be None') \n",
        "\t\tseen = {}\n",
        "\t\tfor char in str1:\n",
        "\t\t\tif char in seen:\n",
        "\t\t\t\tseen[char] += 1 \n",
        "\t\t\telse:\n",
        "\t\t\t\tseen[char] = 1 \n",
        "\t\tfor char in str2:\n",
        "\t\t\ttry:\n",
        "\t\t\t\tseen[char] -= 1\n",
        "\t\t\texcept KeyError: \n",
        "\t\t\t\treturn char\n",
        "\t\t\tif seen[char] < 0: \n",
        "\t\t\t\treturn char\n",
        "\t\tfor char, count in seen.items(): \n",
        "\t\t\treturn char\n",
        "\n",
        "\tdef find_diff_xor(self, str1, str2): \n",
        "\t\tif str1 is None or str2 is None:\n",
        "\t\t\traise TypeError('str1 or str2 cannot be None') \n",
        "\t\tresult = 0\n",
        "\t\tfor char in str1: \n",
        "\t\t\tresult ^= ord(char)\n",
        "\t\tfor char in str2: \n",
        "\t\t\tresult ^= ord(char)\n",
        "\t\treturn chr(result)\n",
        "\n",
        "solution = Solution()\n",
        "print(solution.find_diff('ab', 'aab'))\n",
        "print(solution.find_diff('aab', 'ab'))\n",
        "print(solution.find_diff('abcd', 'abcde'))\n",
        "print(solution.find_diff('aaabbcdd', 'abdbacade'))\n",
        "print(solution.find_diff('abc', 'wyz'))"
      ],
      "metadata": {
        "colab": {
          "base_uri": "https://localhost:8080/"
        },
        "id": "ISyzVmj6We-Q",
        "outputId": "1bbb7278-c06e-4ff1-c60e-ad1c723eef4f"
      },
      "execution_count": null,
      "outputs": [
        {
          "output_type": "stream",
          "name": "stdout",
          "text": [
            "a\n",
            "a\n",
            "e\n",
            "e\n",
            "w\n"
          ]
        }
      ]
    },
    {
      "cell_type": "code",
      "source": [
        "\"\"\" Two Sum \n",
        "Given an array, find the two indices that sum to a specific value.\n",
        "\n",
        "\"\"\"\n",
        "class Solution(object):\n",
        "\n",
        "\tdef two_sum(self, nums, target):\n",
        "\t\tif nums is None or target is None:\n",
        "\t\t\traise TypeError('nums or target cannot be None') \n",
        "\t\tif not nums:\n",
        "\t\t\traise ValueError('nums cannot be empty') \n",
        "\t\tcache = {}\n",
        "\t\tfor index, num in enumerate(nums): \n",
        "\t\t\tcache_target = target - num\n",
        "\t\t\tif num in cache:\n",
        "\t\t\t\treturn [cache[num], index] \n",
        "\t\t\telse:\n",
        "\t\t\t\tcache[cache_target] = index \n",
        "\t\treturn None\n",
        "\n",
        "solution = Solution()\n",
        "target = 7\n",
        "nums = [1, 3, 2, -7, 5]\n",
        "print(solution.two_sum(nums, target))"
      ],
      "metadata": {
        "colab": {
          "base_uri": "https://localhost:8080/"
        },
        "id": "zl_XW0ruWfEe",
        "outputId": "74464661-1227-40cb-8abe-3ff63eea845d"
      },
      "execution_count": null,
      "outputs": [
        {
          "output_type": "stream",
          "name": "stdout",
          "text": [
            "[2, 4]\n"
          ]
        }
      ]
    },
    {
      "cell_type": "code",
      "source": [
        "\"\"\" Permutations \n",
        "Find all permutations of an input string.\n",
        "\n",
        "Constraints\n",
        "- Can the input have duplicates? Yes\n",
        "- Can the output have duplicates? No\n",
        "- Is the output a list of strings? Yes\n",
        "- Do we have to output the results in sorted order? No\n",
        "\n",
        "Test Cases\n",
        "   * None -> None\n",
        "   * '' -> ''\n",
        "   * 'AABC' -> ['AABC', 'AACB', 'ABAC', 'ABCA',\n",
        "                'ACAB', 'ACBA', 'BAAC', 'BACA',\n",
        "                'BCAA', 'CAAB', 'CABA', 'CBAA']\n",
        "\"\"\"\n",
        "from collections import OrderedDict \n",
        "class Permutations(object):\n",
        "\tdef _build_counts_map(self, string): \n",
        "\t\tcounts_map = OrderedDict()\n",
        "\t\tfor char in string:\n",
        "\t\t\tif char in counts_map: \n",
        "\t\t\t\tcounts_map[char] += 1\n",
        "\t\t\telse:\n",
        "\t\t\t\tcounts_map[char] = 1\n",
        "\t\tprint(counts_map)\n",
        "\t\treturn counts_map\n",
        "\n",
        "\tdef find_permutations(self, string): \n",
        "\t\tif string is None or string == '':\n",
        "\t\t\treturn string\n",
        "\t\tcounts_map = self._build_counts_map(string)\n",
        "\t\tcurr_results = []\n",
        "\t\tresults = []\n",
        "\t\tself._find_permutations(counts_map, curr_results, results, len(string))\n",
        "\t\treturn results\n",
        "\n",
        "\tdef _find_permutations(self, counts_map, curr_result, results, input_length):\n",
        "\t\tfor char in counts_map:\n",
        "\t\t\tif counts_map[char] == 0:\n",
        "\t\t\t\tcontinue\n",
        "\t\t\tcurr_result.append(char) \n",
        "\t\t\tcounts_map[char] -= 1\n",
        "\t\t\tif len(curr_result) == input_length:\n",
        "\t\t\t\tresults.append(''.join(curr_result)) \n",
        "\t\t\telse:\n",
        "\t\t\t\tself._find_permutations(counts_map, curr_result, results, input_length)\n",
        "\t\t\tcounts_map[char] += 1 \n",
        "\t\t\tcurr_result.pop()\n",
        "\n",
        "permutations = Permutations()\n",
        "string = 'AABC'\n",
        "print(permutations.find_permutations(string))"
      ],
      "metadata": {
        "colab": {
          "base_uri": "https://localhost:8080/"
        },
        "id": "0T3GfZ4EWfTk",
        "outputId": "c5efe916-9ff0-4b33-ac4b-74edb41d92df"
      },
      "execution_count": null,
      "outputs": [
        {
          "output_type": "stream",
          "name": "stdout",
          "text": [
            "OrderedDict([('A', 2), ('B', 1), ('C', 1)])\n",
            "['AABC', 'AACB', 'ABAC', 'ABCA', 'ACAB', 'ACBA', 'BAAC', 'BACA', 'BCAA', 'CAAB', 'CABA', 'CBAA']\n"
          ]
        }
      ]
    },
    {
      "cell_type": "code",
      "source": [
        "\"\"\" Coin change\n",
        "Determine the total number of unique ways to make n cents, \n",
        "given coins of denominations less than n cents.\n",
        "\n",
        "Constraints\n",
        "- Do the coins have to reach exactly n cents? Yes\n",
        "- Can we assume we have an infinite number of coins to make n cents? Yes\n",
        "- Do we need to report the combination(s) of coins that represent the minimum? No\n",
        "- Can we assume the coin denominations are given in sorted order? No\n",
        "- Can we assume this fits memory? Yes\n",
        "\n",
        "Test Cases\n",
        "coins: None or n: None -> Exception \n",
        "coins: [] or n: 0 -> 0\n",
        "coins: [1, 2, 3], n: 5 -> 5\n",
        "\n",
        "Algorithm\n",
        "\n",
        "We'll use a bottom-up dynamic programming approach.\n",
        "   The rows (i) represent the coin values.\n",
        "   The columns (j) represent the totals.\n",
        " \t-------------------------\n",
        " \t|0  |1  |2  |3  |4  |5  |\n",
        " \t-------------------------\n",
        "0 \t|1  |0  |0  |0  |0  |0  |\n",
        "1 \t|1  |1  |1  |1  |1  |1  |\n",
        "2 \t|1  |1  |2  |2  |3  |3  |\n",
        "3 \t|1  |1  |2  |3  |4  |5  |\n",
        " \t-------------------------\n",
        "\n",
        "Number of ways to get total n with coin[n] equals:\n",
        " * Number of ways to get total n with coin[n - 1] plus \n",
        " * Number of ways to get total n - coin[n]\n",
        "\n",
        "   if j == 0:\n",
        "       T[i][j] = 1\n",
        "   if row == 0:\n",
        "       T[i][j] = 0\n",
        "   if coins[i] >= j\n",
        "       T[i][j] = T[i - 1][j] + T[i][j - coins[i]]\n",
        "   else:\n",
        "       T[i][j] = T[i - 1][j]\n",
        "\"\"\"\n",
        "class CoinChanger(object):\n",
        "\n",
        "\tdef make_change(self, coins, total): \n",
        "\t\tif coins is None or total is None:\n",
        "\t\t\treturn None\n",
        "\t\tif not coins or total == 0:\n",
        "\t\t\treturn 0\n",
        "\t\tcoins = [0] + coins\n",
        "\t\tnum_rows = len(coins)\n",
        "\t\tnum_cols = total + 1\n",
        "\t\tT = [[None] * num_cols for _ in range(num_rows)] \n",
        "\t\tprint(coins)\n",
        "\t\tprint(T)\n",
        "\t\tfor i in range(num_rows):\n",
        "\t\t\tfor j in range(num_cols): \n",
        "\t\t\t\tif i == 0:\n",
        "\t\t\t\t\tT[i][j] = 0\n",
        "\t\t\t\t\tcontinue \n",
        "\t\t\t\tif j == 0:\n",
        "\t\t\t\t\tT[i][j] = 1\n",
        "\t\t\t\t\tcontinue\n",
        "\t\t\t\tif coins[i] <= j:\n",
        "\t\t\t\t\tT[i][j] = T[i - 1][j] + T[i][j - coins[i]] \n",
        "\t\t\t\telse:\n",
        "\t\t\t\t\tT[i][j] = T[i - 1][j] \n",
        "\t\treturn T[num_rows - 1][num_cols - 1]\n",
        "\n",
        "coin_changer = CoinChanger()\n",
        "#print(coin_changer.make_change([1, 2], 0))\n",
        "#print(coin_changer.make_change([1, 2, 3], 5))\n",
        "print(coin_changer.make_change([1, 5, 25, 50], 10))"
      ],
      "metadata": {
        "colab": {
          "base_uri": "https://localhost:8080/"
        },
        "id": "X4UWITsSWfaE",
        "outputId": "5264a7d5-018f-46a3-c3aa-8556a08c2974"
      },
      "execution_count": null,
      "outputs": [
        {
          "output_type": "stream",
          "name": "stdout",
          "text": [
            "[0, 1, 5, 25, 50]\n",
            "[[None, None, None, None, None, None, None, None, None, None, None], [None, None, None, None, None, None, None, None, None, None, None], [None, None, None, None, None, None, None, None, None, None, None], [None, None, None, None, None, None, None, None, None, None, None], [None, None, None, None, None, None, None, None, None, None, None]]\n",
            "3\n"
          ]
        }
      ]
    },
    {
      "cell_type": "code",
      "source": [],
      "metadata": {
        "id": "39HL-15AWfdo"
      },
      "execution_count": null,
      "outputs": []
    },
    {
      "cell_type": "code",
      "source": [
        "\"\"\" Fibonacci \n",
        "Implement fibonacci recursively, dynamically, and iteratively.\n",
        "\n",
        "Constraints\n",
        " - Does the sequence start at 0 or 1? 0\n",
        " - Can we assume the inputs are valid non-negative ints? Yes\n",
        " - Are you looking for a recursive or iterative solution? Either\n",
        "\n",
        "Test Cases\n",
        " - n = 0 -> 0\n",
        " - n = 1 -> 1\n",
        " - n = 6 -> 8\n",
        " - Fib sequence: 0, 1, 1, 2, 3, 5, 8, 13, 21, 34...\n",
        "\n",
        "Complexity:\n",
        "Time: O(2^n) if recursive or iterative, O(n) if dynamic \n",
        "Space: O(n) if recursive, O(1) if iterative, O(n) if dynamic\n",
        "\"\"\"\n",
        "class Math(object):\n",
        "\n",
        "\tdef fib_iterative(self, n): \n",
        "\t\ta=0\n",
        "\t\tb=1\n",
        "\t\tfor _ in range(n):\n",
        "\t\t\ta, b = b, a + b \n",
        "\t\treturn a\n",
        "\n",
        "\tdef fib_recursive(self, n): \n",
        "\t\tif n == 0 or n == 1:\n",
        "\t\t\treturn n \n",
        "\t\telse:\n",
        "\t\t\treturn self.fib_recursive(n-1) + self.fib_recursive(n-2)\n",
        "\n",
        "\tdef fib_dynamic(self, n): \n",
        "\t\tcache = {}\n",
        "\t\treturn self._fib_dynamic(n, cache)\n",
        "\n",
        "\tdef _fib_dynamic(self, n, cache): \n",
        "\t\tif n == 0 or n == 1:\n",
        "\t\t\treturn n \n",
        "\t\tif n in cache:\n",
        "\t\t\treturn cache[n]\n",
        "\t\tcache[n] = self._fib_dynamic(n-1, cache) + self._fib_dynamic(n-2, cache)\n",
        "\t\treturn cache[n]\n"
      ],
      "metadata": {
        "id": "T2qmXUU_Wfhb"
      },
      "execution_count": null,
      "outputs": []
    },
    {
      "cell_type": "code",
      "source": [
        "\n",
        "\"\"\" Grid Path \n",
        "Implement an algorithm to have a robot move from the upper left corner to the \n",
        "bottom right corner of a grid.\n",
        "\n",
        "Constraints\n",
        "- Are there restrictions to how the robot moves? \n",
        "  The robot can only move right and down\n",
        "- Are some cells invalid (off limits)? Yes\n",
        "- Can we assume the starting and ending cells are valid cells? Yes\n",
        "- Is this a rectangular grid? i.e. the grid is not jagged? Yes\n",
        "- Will there always be a valid way for the robot to get to the bottom right? \n",
        "  No, return None\n",
        "- Can we assume the inputs are valid? No\n",
        "\n",
        "Test Cases\n",
        "   o = valid cell\n",
        "   x = invalid cell\n",
        "\n",
        "\t \t0  1  2  3 \n",
        "\t0 \to  o  o  o \n",
        "\t1 \to  x  o  o\n",
        "\t2 \to  o  x  o \n",
        "\t3 \tx  o. o. o \n",
        "\t4 \to. o. x. o \n",
        "\t5 \to. o. o. x \n",
        "\t6 \to. x. o. x \n",
        "\t7 \to. x  o. o\n",
        "\n",
        "General case\n",
        "expected = [(0, 0), (1, 0), (2, 0),\n",
        "\t\t\t(2, 1), (3, 1), (4, 1),\n",
        "\t\t\t(5, 1), (5, 2), (6, 2),\n",
        "\t\t\t(7, 2), (7, 3)]\n",
        "\n",
        "No valid path, say row 7, col 2 is invalid \n",
        "None input\n",
        "Empty matrix\n",
        "\n",
        "Algorithm\n",
        "To get to row r and column c [r, c], we will need to have gone:\n",
        " - Right from [r, c-1] if this is a valid cell - [Path 1] \n",
        " - Down from [r-1, c] if this is a valid cell - [Path 2]\n",
        "If we look at [Path 1], to get to [r, c-1], we will need to have gone:\n",
        " - Right from [r, c-2] if this is a valid cell \n",
        " - Down from [r-1, c-1] if this is a valid cell\n",
        "Continue this process until we reach the start cell or until we find that there is no path. \n",
        "\n",
        "Base case:\n",
        "If the input row or col are < 0, or if [row, col] is not a valid cell \n",
        " - Return False\n",
        "\n",
        "Recursive case:\n",
        "\n",
        "We'll memoize the solution to improve performance.\n",
        " - Use the memo to see if we've already processed the current cell\n",
        " - If any of the following is True, append the current cell to the path \n",
        "   and set our result to True:\n",
        "\t\t- We are at the start cell\n",
        "\t\t- We get a True result from a recursive call on:\n",
        "\t\t\t- [row, col-1]\n",
        "\t\t\t- [row-1, col] \n",
        "- Update the memo\n",
        "- Return the result\n",
        "\n",
        "Complexity:\n",
        "- Time: O(row * col)\n",
        "- Space: O(row * col) for the recursion depth\n",
        "\n",
        "\"\"\"\n",
        "class Grid(object):\n",
        "\tdef find_path(self, matrix):\n",
        "\t\tif matrix is None or not matrix:\n",
        "\t\t\treturn None\n",
        "\t\tcache = {}\n",
        "\t\tpath = []\n",
        "\t\tif self._find_path(matrix, len(matrix) - 1, len(matrix[0]) - 1, cache, path):\n",
        "\t\t\treturn path\n",
        "\t\telse:\n",
        "\t\t\treturn None\n",
        "\n",
        "\tdef _find_path(self, matrix, row, col, cache, path):\n",
        "\t\tif row < 0 or col < 0 or not matrix[row][col]:\n",
        "\t\t\treturn False\n",
        "\t\tcell = (row, col) \n",
        "\t\tif cell in cache:\n",
        "\t\t\treturn cache[cell]\n",
        "\t\tcache[cell] = (row == 0 and col == 0 or\\\n",
        "\t\t\t\t\t   self._find_path(matrix, row, col - 1, cache, path) or\n",
        "\t\t\t\t\t   self._find_path(matrix, row - 1, col, cache, path))\n",
        "\t\tif cache[cell]: \n",
        "\t\t\tpath.append(cell)\n",
        "\t\treturn cache[cell]\n",
        "\n",
        "grid = Grid()\n",
        "max_rows = 8\n",
        "max_cols = 4\n",
        "matrix = [[1] * max_cols for _ in range(max_rows)]\n",
        "\n",
        "matrix[1][1] = 0\n",
        "matrix[2][2] = 0\n",
        "matrix[3][0] = 0\n",
        "matrix[4][2] = 0\n",
        "matrix[5][3] = 0\n",
        "matrix[6][1] = 0\n",
        "matrix[6][3] = 0\n",
        "matrix[7][1] = 0\n",
        "result = grid.find_path(matrix)\n",
        "print('matrix', matrix)\n",
        "print('result', result)\n",
        "matrix[7][2] = 0\n",
        "result = grid.find_path(matrix)\n",
        "print('matrix', matrix)\n",
        "print('result', result)"
      ],
      "metadata": {
        "colab": {
          "base_uri": "https://localhost:8080/"
        },
        "id": "S8MdE6aOWfr4",
        "outputId": "ee477b22-e5b1-4d18-f1dd-a3c0c1b89643"
      },
      "execution_count": null,
      "outputs": [
        {
          "output_type": "stream",
          "name": "stdout",
          "text": [
            "matrix [[1, 1, 1, 1], [1, 0, 1, 1], [1, 1, 0, 1], [0, 1, 1, 1], [1, 1, 0, 1], [1, 1, 1, 0], [1, 0, 1, 0], [1, 0, 1, 1]]\n",
            "result [(0, 0), (1, 0), (2, 0), (2, 1), (3, 1), (4, 1), (5, 1), (5, 2), (6, 2), (7, 2), (7, 3)]\n",
            "matrix [[1, 1, 1, 1], [1, 0, 1, 1], [1, 1, 0, 1], [0, 1, 1, 1], [1, 1, 0, 1], [1, 1, 1, 0], [1, 0, 1, 0], [1, 0, 0, 1]]\n",
            "result None\n"
          ]
        }
      ]
    },
    {
      "cell_type": "code",
      "source": [
        "\"\"\"\n",
        "class Grid(object):\n",
        "\tdef find_path(self, matrix):\n",
        "\t\tif matrix is None or not matrix:\n",
        "\t\t\treturn None\n",
        "\t\tcache = {}\n",
        "\t\tpath = []\n",
        "\t\tif self._find_path(matrix, len(matrix) - 1, len(matrix[0]) - 1, cache, path):\n",
        "\t\t\treturn path\n",
        "\t\telse:\n",
        "\t\t\treturn None\n",
        "\n",
        "\tdef _find_path(self, matrix, row, col, cache, path):\n",
        "\t\tif row < 0 or col < 0 or not matrix[row][col]:\n",
        "\t\t\treturn False\n",
        "\t\tcell = (row, col) \n",
        "\t\tif cell in cache:\n",
        "\t\t\treturn cache[cell]\n",
        "\t\tcache[cell] = (row == 0 and col == 0 or\\\n",
        "\t\t\t\t\t   self._find_path(matrix, row, col - 1, cache, path) or\n",
        "\t\t\t\t\t   self._find_path(matrix, row - 1, col, cache, path))\n",
        "\t\tif cache[cell]: \n",
        "\t\t\tpath.append(cell)\n",
        "\t\treturn cache[cell]\n",
        "\n",
        "grid = Grid()\n",
        "max_rows = 8\n",
        "max_cols = 4\n",
        "matrix = [[1] * max_cols for _ in range(max_rows)]\n",
        "matrix[1][1] = 0\n",
        "matrix[2][2] = 0\n",
        "matrix[3][0] = 0\n",
        "matrix[4][2] = 0\n",
        "matrix[5][3] = 0\n",
        "matrix[6][1] = 0\n",
        "matrix[6][3] = 0\n",
        "matrix[7][1] = 0\n",
        "result = grid.find_path(matrix)\n",
        "print('matrix', matrix)\n",
        "print('result', result)\n",
        "matrix[7][2] = 0\n",
        "result = grid.find_path(matrix)\n",
        "print('matrix', matrix)\n",
        "print('result', result)\n",
        "\"\"\"\n",
        "\n",
        "\"\"\" Hanoi Towers\n",
        "Implement the Towers of Hanoi with 3 towers and N disks.\n",
        "\n",
        "Algorithm\n",
        "- Create three stacks to represent each tower \n",
        "- def hanoi(n, src, dest, buffer):\n",
        "\t- If 0 disks return\n",
        "\t- hanoi(n-1, src, buffer, dest)\n",
        "\t- Move remaining element from src to dest \n",
        "\thanoi(n-1, buffer, dest, src)\n",
        "\n",
        "Complexity:\n",
        " - Time: O(2^n)\n",
        " - Space: O(m) where m is the number of recursion levels\n",
        "\n",
        "\"\"\"\n",
        "class Hanoi(object):\n",
        "\n",
        "\tdef move_disks(self, num_disks, src, dest, buff): \n",
        "\t\tif src is None or dest is None or buff is None: \n",
        "\t\t\traise TypeError('Cannot have a None input')\n",
        "\t\tself._move_disks(num_disks, src, dest, buff)\n",
        "\n",
        "\tdef _move_disks(self, num_disks, src, dest, buff): \n",
        "\t\tif num_disks == 0:\n",
        "\t\t\treturn\n",
        "\t\tself.move_disks(num_disks - 1, src, buff, dest) \n",
        "\t\tdest.push(src.pop())\n",
        "\t\tself.move_disks(num_disks - 1, buff, dest, src)\n",
        "\n",
        "hanoi = Hanoi()\n",
        "num_disks = 3 \n",
        "src = Stack() \n",
        "buff = Stack() \n",
        "dest = Stack()\n",
        "\"\"\"\n",
        "for disk_index in range(num_disks, -1, -1):\n",
        "\tsrc.push(disk_index)\n",
        "hanoi.move_disks(num_disks, src, dest, buff)\n",
        "for disk_index in range(0, num_disks):\n",
        "\tdest.pop() \n",
        "\"\"\"\n",
        "print()"
      ],
      "metadata": {
        "colab": {
          "base_uri": "https://localhost:8080/"
        },
        "id": "khGER6qnnQre",
        "outputId": "febb0bb2-c2b6-4bd0-c905-b2ec23282c63"
      },
      "execution_count": null,
      "outputs": [
        {
          "output_type": "stream",
          "name": "stdout",
          "text": [
            "\n"
          ]
        }
      ]
    },
    {
      "cell_type": "code",
      "source": [
        "\"\"\" Longest Substring\n",
        "\n",
        "Find the length longest substring with at most k distinct characters.\n",
        "\n",
        "We'll use a chars_to_index_map dictionary: char (key) to index (val) map \n",
        "to maintain a sliding window.\n",
        "The index (val) will keep track of the character index in the input string. \n",
        "For each character in the string:\n",
        "\t- Add the char (key) and index (value) to the map\n",
        "\t- If the length of our map is greater than k, then we'll need to eliminate one item\n",
        "\t\t- Scan the map to find the lowest index and remove it\n",
        "\t\t- The new lowest index will therefore be incremented by 1\n",
        "\t- The max length will be the current index minus the lower index + 1\n",
        "\n",
        "Complexity:\n",
        "Time: O(n*k), where n is the number of chars, \n",
        "k is the length of the map due to the min() call\n",
        "Space: O(n)\n",
        "\n",
        "\"\"\"\n",
        "class Solution(object):\n",
        "\tdef longest_substr(self, string, k):\n",
        "\t\tif not isinstance(string, str):\n",
        "\t\t\traise TypeError('string must be of type str')\n",
        "\t\tif not isinstance(k, int):\n",
        "\t\t\traise TypeError('k must be of type int')\n",
        "\t\tlow_index = 0\n",
        "\t\tmax_length = 0\n",
        "\t\tchars_to_index_map = {}\n",
        "\t\tfor index, char in enumerate(string):\n",
        "\t\t\tchars_to_index_map[char] = index \n",
        "\t\t\tif len(chars_to_index_map) > k:\n",
        "\t\t\t\tlow_index = min(chars_to_index_map.values())\n",
        "\t\t\t\tdel chars_to_index_map[string[low_index]]\n",
        "\t\t\t\tlow_index += 1 \n",
        "\t\t\tmax_length = max(max_length, index - low_index + 1)\n",
        "\t\treturn max_length\n",
        "\n",
        "solution = Solution()\n",
        "print(solution.longest_substr('abcabcdefgghiij', k=3))\n",
        "#print(solution.longest_substr('abcabcdefgghighij', k=3)) \n"
      ],
      "metadata": {
        "colab": {
          "base_uri": "https://localhost:8080/"
        },
        "id": "OaAJk5YunQ1q",
        "outputId": "7fa80f57-668f-4199-d986-64ef4a2d24d0"
      },
      "execution_count": null,
      "outputs": [
        {
          "output_type": "stream",
          "name": "stdout",
          "text": [
            "6\n"
          ]
        }
      ]
    }
  ]
}
